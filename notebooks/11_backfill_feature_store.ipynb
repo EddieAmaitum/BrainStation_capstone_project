{
 "cells": [
  {
   "cell_type": "markdown",
   "metadata": {},
   "source": [
    "### Model deployment as a batch - scoring service."
   ]
  },
  {
   "cell_type": "markdown",
   "metadata": {},
   "source": [
    "Here we use hopsworks for our feature store. In this notebook we backfill our feature store with data startin from 2022."
   ]
  },
  {
   "cell_type": "code",
   "execution_count": 52,
   "metadata": {},
   "outputs": [],
   "source": [
    "import sys \n",
    "sys.path.append(r\"C:\\Users\\User\\capstone_project\")"
   ]
  },
  {
   "cell_type": "code",
   "execution_count": 53,
   "metadata": {},
   "outputs": [],
   "source": [
    "HOPSWORKS_PROJECT_NAME = 'predicting_taxi_demand'"
   ]
  },
  {
   "cell_type": "code",
   "execution_count": 54,
   "metadata": {},
   "outputs": [
    {
     "name": "stdout",
     "output_type": "stream",
     "text": [
      "Requirement already satisfied: python-dotenv in c:\\users\\user\\anaconda3\\lib\\site-packages (1.0.0)\n",
      "Note: you may need to restart the kernel to use updated packages.\n"
     ]
    }
   ],
   "source": [
    "%pip install python-dotenv"
   ]
  },
  {
   "cell_type": "code",
   "execution_count": 55,
   "metadata": {},
   "outputs": [],
   "source": [
    "import os # to access environment variables\n",
    "from dotenv import load_dotenv\n",
    "from src.paths import PARENT_DIR\n",
    "\n",
    "# load key-value pairs from .env file located in the parent directory\n",
    "load_dotenv(PARENT_DIR / '.env')\n",
    "\n",
    "HOPSWORKS_API_KEY = os.environ['HOPSWORKS_API_KEY']"
   ]
  },
  {
   "cell_type": "markdown",
   "metadata": {},
   "source": [
    "Download historical data from the website starting 2022 todate."
   ]
  },
  {
   "cell_type": "code",
   "execution_count": 56,
   "metadata": {},
   "outputs": [
    {
     "name": "stdout",
     "output_type": "stream",
     "text": [
      "Downloading raw data from 2022 to 2024\n",
      "File 2022-01 was already in local storage\n",
      "File 2022-02 was already in local storage\n",
      "File 2022-03 was already in local storage\n",
      "File 2022-04 was already in local storage\n",
      "File 2022-05 was already in local storage\n",
      "File 2022-06 was already in local storage\n",
      "File 2022-07 was already in local storage\n",
      "File 2022-08 was already in local storage\n",
      "File 2022-09 was already in local storage\n",
      "File 2022-10 was already in local storage\n",
      "File 2022-11 was already in local storage\n",
      "File 2022-12 was already in local storage\n",
      "File 2023-01 was already in local storage\n",
      "File 2023-02 was already in local storage\n",
      "File 2023-03 was already in local storage\n",
      "File 2023-04 was already in local storage\n",
      "File 2023-05 was already in local storage\n",
      "File 2023-06 was already in local storage\n",
      "File 2023-07 was already in local storage\n",
      "File 2023-08 was already in local storage\n",
      "File 2023-09 was already in local storage\n",
      "File 2023-10 was already in local storage\n",
      "Downloading file 2023-11\n",
      "2023-11 file is not available\n",
      "Downloading file 2023-12\n",
      "2023-12 file is not available\n",
      "Downloading file 2024-01\n",
      "2024-01 file is not available\n",
      "Downloading file 2024-02\n",
      "2024-02 file is not available\n",
      "Downloading file 2024-03\n",
      "2024-03 file is not available\n",
      "Downloading file 2024-04\n",
      "2024-04 file is not available\n",
      "Downloading file 2024-05\n",
      "2024-05 file is not available\n",
      "Downloading file 2024-06\n",
      "2024-06 file is not available\n",
      "Downloading file 2024-07\n",
      "2024-07 file is not available\n",
      "Downloading file 2024-08\n",
      "2024-08 file is not available\n",
      "Downloading file 2024-09\n",
      "2024-09 file is not available\n",
      "Downloading file 2024-10\n",
      "2024-10 file is not available\n",
      "Downloading file 2024-11\n",
      "2024-11 file is not available\n",
      "Downloading file 2024-12\n",
      "2024-12 file is not available\n"
     ]
    }
   ],
   "source": [
    "from datetime import datetime\n",
    "import pandas as pd\n",
    "from src.data import load_raw_data\n",
    "\n",
    "from_year = 2022\n",
    "to_year = datetime.now().year\n",
    "print(f'Downloading raw data from {from_year} to {to_year}')\n",
    "\n",
    "rides = pd.DataFrame()\n",
    "for year in range(from_year, to_year+1):\n",
    "    \n",
    "    # download data for the whole year\n",
    "    rides_one_year = load_raw_data(year)\n",
    "    \n",
    "    # append rows\n",
    "    rides = pd.concat([rides, rides_one_year])"
   ]
  },
  {
   "cell_type": "markdown",
   "metadata": {},
   "source": [
    "Check how many rows of data."
   ]
  },
  {
   "cell_type": "code",
   "execution_count": 57,
   "metadata": {},
   "outputs": [
    {
     "name": "stdout",
     "output_type": "stream",
     "text": [
      "len(rides)=71,247,922\n"
     ]
    }
   ],
   "source": [
    "print(f'{len(rides)=:,}')"
   ]
  },
  {
   "cell_type": "markdown",
   "metadata": {},
   "source": [
    "We have over 71 million rows.\n",
    "\n",
    "Now, let us transform the data into time series data."
   ]
  },
  {
   "cell_type": "code",
   "execution_count": 58,
   "metadata": {},
   "outputs": [
    {
     "name": "stderr",
     "output_type": "stream",
     "text": [
      "100%|██████████| 265/265 [00:04<00:00, 54.33it/s]\n"
     ]
    }
   ],
   "source": [
    "from src.data import transform_raw_data_into_ts_data\n",
    "\n",
    "ts_data = transform_raw_data_into_ts_data(rides)"
   ]
  },
  {
   "cell_type": "code",
   "execution_count": 80,
   "metadata": {},
   "outputs": [],
   "source": [
    "\n",
    "# string to datetime\n",
    "ts_data['pickup_hour'] = pd.to_datetime(ts_data['pickup_hour'], utc=True)\n",
    "\n",
    "# add column with Unix epoch milliseconds\n",
    "ts_data['pickup_ts'] = ts_data['pickup_hour'].astype('int64') // 10**6\n",
    "\n"
   ]
  },
  {
   "cell_type": "code",
   "execution_count": 81,
   "metadata": {},
   "outputs": [
    {
     "name": "stdout",
     "output_type": "stream",
     "text": [
      "Requirement already satisfied: hopsworks==3.4.* in c:\\users\\user\\anaconda3\\lib\\site-packages (3.4.3)\n",
      "Requirement already satisfied: hsfs<3.5.0,>=3.4.0 in c:\\users\\user\\anaconda3\\lib\\site-packages (from hsfs[python]<3.5.0,>=3.4.0->hopsworks==3.4.*) (3.4.5)\n",
      "Requirement already satisfied: hsml<3.5.0,>=3.4.0 in c:\\users\\user\\anaconda3\\lib\\site-packages (from hopsworks==3.4.*) (3.4.5)\n",
      "Requirement already satisfied: pyhumps==1.6.1 in c:\\users\\user\\anaconda3\\lib\\site-packages (from hopsworks==3.4.*) (1.6.1)\n",
      "Requirement already satisfied: requests in c:\\users\\user\\anaconda3\\lib\\site-packages (from hopsworks==3.4.*) (2.28.1)\n",
      "Requirement already satisfied: furl in c:\\users\\user\\anaconda3\\lib\\site-packages (from hopsworks==3.4.*) (2.1.3)\n",
      "Requirement already satisfied: boto3 in c:\\users\\user\\anaconda3\\lib\\site-packages (from hopsworks==3.4.*) (1.24.28)\n",
      "Requirement already satisfied: pyjks in c:\\users\\user\\anaconda3\\lib\\site-packages (from hopsworks==3.4.*) (20.0.0)\n",
      "Requirement already satisfied: mock in c:\\users\\user\\anaconda3\\lib\\site-packages (from hopsworks==3.4.*) (4.0.3)\n",
      "Requirement already satisfied: tqdm in c:\\users\\user\\anaconda3\\lib\\site-packages (from hopsworks==3.4.*) (4.64.1)\n",
      "Requirement already satisfied: pandas<2.1.0 in c:\\users\\user\\anaconda3\\lib\\site-packages (from hsfs<3.5.0,>=3.4.0->hsfs[python]<3.5.0,>=3.4.0->hopsworks==3.4.*) (1.4.4)\n",
      "Requirement already satisfied: numpy<2 in c:\\users\\user\\anaconda3\\lib\\site-packages (from hsfs<3.5.0,>=3.4.0->hsfs[python]<3.5.0,>=3.4.0->hopsworks==3.4.*) (1.21.5)\n",
      "Requirement already satisfied: avro==1.11.0 in c:\\users\\user\\anaconda3\\lib\\site-packages (from hsfs<3.5.0,>=3.4.0->hsfs[python]<3.5.0,>=3.4.0->hopsworks==3.4.*) (1.11.0)\n",
      "Requirement already satisfied: sqlalchemy in c:\\users\\user\\anaconda3\\lib\\site-packages (from hsfs<3.5.0,>=3.4.0->hsfs[python]<3.5.0,>=3.4.0->hopsworks==3.4.*) (1.4.39)\n",
      "Requirement already satisfied: PyMySQL[rsa] in c:\\users\\user\\anaconda3\\lib\\site-packages (from hsfs<3.5.0,>=3.4.0->hsfs[python]<3.5.0,>=3.4.0->hopsworks==3.4.*) (1.0.2)\n",
      "Requirement already satisfied: great-expectations==0.14.13 in c:\\users\\user\\anaconda3\\lib\\site-packages (from hsfs<3.5.0,>=3.4.0->hsfs[python]<3.5.0,>=3.4.0->hopsworks==3.4.*) (0.14.13)\n",
      "Requirement already satisfied: markupsafe<2.1.0 in c:\\users\\user\\anaconda3\\lib\\site-packages (from hsfs<3.5.0,>=3.4.0->hsfs[python]<3.5.0,>=3.4.0->hopsworks==3.4.*) (2.0.1)\n",
      "Requirement already satisfied: tzlocal in c:\\users\\user\\anaconda3\\lib\\site-packages (from hsfs<3.5.0,>=3.4.0->hsfs[python]<3.5.0,>=3.4.0->hopsworks==3.4.*) (4.2)\n",
      "Requirement already satisfied: fsspec in c:\\users\\user\\anaconda3\\lib\\site-packages (from hsfs<3.5.0,>=3.4.0->hsfs[python]<3.5.0,>=3.4.0->hopsworks==3.4.*) (2022.7.1)\n",
      "Requirement already satisfied: altair<5,>=4.0.0 in c:\\users\\user\\anaconda3\\lib\\site-packages (from great-expectations==0.14.13->hsfs<3.5.0,>=3.4.0->hsfs[python]<3.5.0,>=3.4.0->hopsworks==3.4.*) (4.2.0)\n",
      "Requirement already satisfied: Click>=7.1.2 in c:\\users\\user\\anaconda3\\lib\\site-packages (from great-expectations==0.14.13->hsfs<3.5.0,>=3.4.0->hsfs[python]<3.5.0,>=3.4.0->hopsworks==3.4.*) (8.0.4)\n",
      "Requirement already satisfied: colorama>=0.4.3 in c:\\users\\user\\anaconda3\\lib\\site-packages (from great-expectations==0.14.13->hsfs<3.5.0,>=3.4.0->hsfs[python]<3.5.0,>=3.4.0->hopsworks==3.4.*) (0.4.5)\n",
      "Requirement already satisfied: cryptography>=3.2 in c:\\users\\user\\anaconda3\\lib\\site-packages (from great-expectations==0.14.13->hsfs<3.5.0,>=3.4.0->hsfs[python]<3.5.0,>=3.4.0->hopsworks==3.4.*) (37.0.1)\n",
      "Requirement already satisfied: dataclasses in c:\\users\\user\\anaconda3\\lib\\site-packages (from great-expectations==0.14.13->hsfs<3.5.0,>=3.4.0->hsfs[python]<3.5.0,>=3.4.0->hopsworks==3.4.*) (0.6)\n",
      "Requirement already satisfied: importlib-metadata>=1.7.0 in c:\\users\\user\\anaconda3\\lib\\site-packages (from great-expectations==0.14.13->hsfs<3.5.0,>=3.4.0->hsfs[python]<3.5.0,>=3.4.0->hopsworks==3.4.*) (4.11.3)\n",
      "Requirement already satisfied: Ipython>=7.16.3 in c:\\users\\user\\anaconda3\\lib\\site-packages (from great-expectations==0.14.13->hsfs<3.5.0,>=3.4.0->hsfs[python]<3.5.0,>=3.4.0->hopsworks==3.4.*) (7.31.1)\n",
      "Requirement already satisfied: jinja2<3.1.0,>=2.10 in c:\\users\\user\\anaconda3\\lib\\site-packages (from great-expectations==0.14.13->hsfs<3.5.0,>=3.4.0->hsfs[python]<3.5.0,>=3.4.0->hopsworks==3.4.*) (2.11.3)\n",
      "Requirement already satisfied: jsonpatch>=1.22 in c:\\users\\user\\anaconda3\\lib\\site-packages (from great-expectations==0.14.13->hsfs<3.5.0,>=3.4.0->hsfs[python]<3.5.0,>=3.4.0->hopsworks==3.4.*) (1.32)\n",
      "Requirement already satisfied: jsonschema>=2.5.1 in c:\\users\\user\\anaconda3\\lib\\site-packages (from great-expectations==0.14.13->hsfs<3.5.0,>=3.4.0->hsfs[python]<3.5.0,>=3.4.0->hopsworks==3.4.*) (4.16.0)\n",
      "Requirement already satisfied: mistune>=0.8.4 in c:\\users\\user\\anaconda3\\lib\\site-packages (from great-expectations==0.14.13->hsfs<3.5.0,>=3.4.0->hsfs[python]<3.5.0,>=3.4.0->hopsworks==3.4.*) (0.8.4)\n",
      "Requirement already satisfied: nbformat>=5.0 in c:\\users\\user\\anaconda3\\lib\\site-packages (from great-expectations==0.14.13->hsfs<3.5.0,>=3.4.0->hsfs[python]<3.5.0,>=3.4.0->hopsworks==3.4.*) (5.5.0)\n",
      "Requirement already satisfied: packaging in c:\\users\\user\\anaconda3\\lib\\site-packages (from great-expectations==0.14.13->hsfs<3.5.0,>=3.4.0->hsfs[python]<3.5.0,>=3.4.0->hopsworks==3.4.*) (21.3)\n",
      "Requirement already satisfied: pyparsing<3,>=2.4 in c:\\users\\user\\anaconda3\\lib\\site-packages (from great-expectations==0.14.13->hsfs<3.5.0,>=3.4.0->hsfs[python]<3.5.0,>=3.4.0->hopsworks==3.4.*) (2.4.7)\n",
      "Requirement already satisfied: python-dateutil>=2.8.1 in c:\\users\\user\\anaconda3\\lib\\site-packages (from great-expectations==0.14.13->hsfs<3.5.0,>=3.4.0->hsfs[python]<3.5.0,>=3.4.0->hopsworks==3.4.*) (2.8.2)\n",
      "Requirement already satisfied: pytz>=2021.3 in c:\\users\\user\\anaconda3\\lib\\site-packages (from great-expectations==0.14.13->hsfs<3.5.0,>=3.4.0->hsfs[python]<3.5.0,>=3.4.0->hopsworks==3.4.*) (2022.1)\n",
      "Requirement already satisfied: ruamel.yaml<0.17.18,>=0.16 in c:\\users\\user\\anaconda3\\lib\\site-packages (from great-expectations==0.14.13->hsfs<3.5.0,>=3.4.0->hsfs[python]<3.5.0,>=3.4.0->hopsworks==3.4.*) (0.17.17)\n",
      "Requirement already satisfied: scipy>=0.19.0 in c:\\users\\user\\anaconda3\\lib\\site-packages (from great-expectations==0.14.13->hsfs<3.5.0,>=3.4.0->hsfs[python]<3.5.0,>=3.4.0->hopsworks==3.4.*) (1.9.1)\n",
      "Requirement already satisfied: termcolor>=1.1.0 in c:\\users\\user\\anaconda3\\lib\\site-packages (from great-expectations==0.14.13->hsfs<3.5.0,>=3.4.0->hsfs[python]<3.5.0,>=3.4.0->hopsworks==3.4.*) (2.2.0)\n",
      "Requirement already satisfied: typing-extensions>=3.10.0.0 in c:\\users\\user\\anaconda3\\lib\\site-packages (from great-expectations==0.14.13->hsfs<3.5.0,>=3.4.0->hsfs[python]<3.5.0,>=3.4.0->hopsworks==3.4.*) (4.3.0)\n",
      "Requirement already satisfied: urllib3<1.27,>=1.25.4 in c:\\users\\user\\anaconda3\\lib\\site-packages (from great-expectations==0.14.13->hsfs<3.5.0,>=3.4.0->hsfs[python]<3.5.0,>=3.4.0->hopsworks==3.4.*) (1.26.11)\n",
      "Requirement already satisfied: pyhopshive[thrift] in c:\\users\\user\\anaconda3\\lib\\site-packages (from hsfs[python]<3.5.0,>=3.4.0->hopsworks==3.4.*) (0.6.4.1.dev0)\n",
      "Requirement already satisfied: pyarrow>=10.0 in c:\\users\\user\\anaconda3\\lib\\site-packages (from hsfs[python]<3.5.0,>=3.4.0->hopsworks==3.4.*) (10.0.1)\n",
      "Requirement already satisfied: confluent-kafka<=2.1.1 in c:\\users\\user\\anaconda3\\lib\\site-packages (from hsfs[python]<3.5.0,>=3.4.0->hopsworks==3.4.*) (1.8.2)\n",
      "Requirement already satisfied: fastavro<=1.8.2,>=1.4.11 in c:\\users\\user\\anaconda3\\lib\\site-packages (from hsfs[python]<3.5.0,>=3.4.0->hopsworks==3.4.*) (1.4.11)\n",
      "Requirement already satisfied: charset-normalizer<3,>=2 in c:\\users\\user\\anaconda3\\lib\\site-packages (from requests->hopsworks==3.4.*) (2.0.4)\n",
      "Requirement already satisfied: idna<4,>=2.5 in c:\\users\\user\\anaconda3\\lib\\site-packages (from requests->hopsworks==3.4.*) (3.3)\n",
      "Requirement already satisfied: certifi>=2017.4.17 in c:\\users\\user\\anaconda3\\lib\\site-packages (from requests->hopsworks==3.4.*) (2022.9.14)\n",
      "Requirement already satisfied: botocore<1.28.0,>=1.27.28 in c:\\users\\user\\anaconda3\\lib\\site-packages (from boto3->hopsworks==3.4.*) (1.27.28)\n",
      "Requirement already satisfied: jmespath<2.0.0,>=0.7.1 in c:\\users\\user\\anaconda3\\lib\\site-packages (from boto3->hopsworks==3.4.*) (0.10.0)\n",
      "Requirement already satisfied: s3transfer<0.7.0,>=0.6.0 in c:\\users\\user\\anaconda3\\lib\\site-packages (from boto3->hopsworks==3.4.*) (0.6.0)\n",
      "Requirement already satisfied: six>=1.8.0 in c:\\users\\user\\anaconda3\\lib\\site-packages (from furl->hopsworks==3.4.*) (1.16.0)\n",
      "Requirement already satisfied: orderedmultidict>=1.0.1 in c:\\users\\user\\anaconda3\\lib\\site-packages (from furl->hopsworks==3.4.*) (1.0.1)\n",
      "Requirement already satisfied: javaobj-py3 in c:\\users\\user\\anaconda3\\lib\\site-packages (from pyjks->hopsworks==3.4.*) (0.4.3)\n",
      "Requirement already satisfied: pyasn1>=0.3.5 in c:\\users\\user\\anaconda3\\lib\\site-packages (from pyjks->hopsworks==3.4.*) (0.4.8)\n",
      "Requirement already satisfied: pyasn1-modules in c:\\users\\user\\anaconda3\\lib\\site-packages (from pyjks->hopsworks==3.4.*) (0.2.8)\n",
      "Requirement already satisfied: pycryptodomex in c:\\users\\user\\anaconda3\\lib\\site-packages (from pyjks->hopsworks==3.4.*) (3.16.0)\n",
      "Requirement already satisfied: twofish in c:\\users\\user\\anaconda3\\lib\\site-packages (from pyjks->hopsworks==3.4.*) (0.3.0)\n",
      "Requirement already satisfied: pytz-deprecation-shim in c:\\users\\user\\anaconda3\\lib\\site-packages (from tzlocal->hsfs<3.5.0,>=3.4.0->hsfs[python]<3.5.0,>=3.4.0->hopsworks==3.4.*) (0.1.0.post0)\n",
      "Requirement already satisfied: tzdata in c:\\users\\user\\anaconda3\\lib\\site-packages (from tzlocal->hsfs<3.5.0,>=3.4.0->hsfs[python]<3.5.0,>=3.4.0->hopsworks==3.4.*) (2022.7)\n",
      "Requirement already satisfied: future in c:\\users\\user\\anaconda3\\lib\\site-packages (from pyhopshive[thrift]; extra == \"python\"->hsfs[python]<3.5.0,>=3.4.0->hopsworks==3.4.*) (0.18.2)\n",
      "Requirement already satisfied: thrift>=0.10.0 in c:\\users\\user\\anaconda3\\lib\\site-packages (from pyhopshive[thrift]; extra == \"python\"->hsfs[python]<3.5.0,>=3.4.0->hopsworks==3.4.*) (0.16.0)\n",
      "Requirement already satisfied: greenlet!=0.4.17 in c:\\users\\user\\anaconda3\\lib\\site-packages (from sqlalchemy->hsfs<3.5.0,>=3.4.0->hsfs[python]<3.5.0,>=3.4.0->hopsworks==3.4.*) (1.1.1)\n",
      "Requirement already satisfied: entrypoints in c:\\users\\user\\anaconda3\\lib\\site-packages (from altair<5,>=4.0.0->great-expectations==0.14.13->hsfs<3.5.0,>=3.4.0->hsfs[python]<3.5.0,>=3.4.0->hopsworks==3.4.*) (0.4)\n",
      "Requirement already satisfied: toolz in c:\\users\\user\\anaconda3\\lib\\site-packages (from altair<5,>=4.0.0->great-expectations==0.14.13->hsfs<3.5.0,>=3.4.0->hsfs[python]<3.5.0,>=3.4.0->hopsworks==3.4.*) (0.11.2)\n",
      "Requirement already satisfied: cffi>=1.12 in c:\\users\\user\\anaconda3\\lib\\site-packages (from cryptography>=3.2->great-expectations==0.14.13->hsfs<3.5.0,>=3.4.0->hsfs[python]<3.5.0,>=3.4.0->hopsworks==3.4.*) (1.15.1)\n",
      "Requirement already satisfied: zipp>=0.5 in c:\\users\\user\\anaconda3\\lib\\site-packages (from importlib-metadata>=1.7.0->great-expectations==0.14.13->hsfs<3.5.0,>=3.4.0->hsfs[python]<3.5.0,>=3.4.0->hopsworks==3.4.*) (3.8.0)\n",
      "Requirement already satisfied: setuptools>=18.5 in c:\\users\\user\\anaconda3\\lib\\site-packages (from Ipython>=7.16.3->great-expectations==0.14.13->hsfs<3.5.0,>=3.4.0->hsfs[python]<3.5.0,>=3.4.0->hopsworks==3.4.*) (63.4.1)\n",
      "Requirement already satisfied: jedi>=0.16 in c:\\users\\user\\anaconda3\\lib\\site-packages (from Ipython>=7.16.3->great-expectations==0.14.13->hsfs<3.5.0,>=3.4.0->hsfs[python]<3.5.0,>=3.4.0->hopsworks==3.4.*) (0.18.1)\n",
      "Requirement already satisfied: decorator in c:\\users\\user\\anaconda3\\lib\\site-packages (from Ipython>=7.16.3->great-expectations==0.14.13->hsfs<3.5.0,>=3.4.0->hsfs[python]<3.5.0,>=3.4.0->hopsworks==3.4.*) (5.1.1)\n",
      "Requirement already satisfied: pickleshare in c:\\users\\user\\anaconda3\\lib\\site-packages (from Ipython>=7.16.3->great-expectations==0.14.13->hsfs<3.5.0,>=3.4.0->hsfs[python]<3.5.0,>=3.4.0->hopsworks==3.4.*) (0.7.5)\n",
      "Requirement already satisfied: traitlets>=4.2 in c:\\users\\user\\anaconda3\\lib\\site-packages (from Ipython>=7.16.3->great-expectations==0.14.13->hsfs<3.5.0,>=3.4.0->hsfs[python]<3.5.0,>=3.4.0->hopsworks==3.4.*) (5.1.1)\n",
      "Requirement already satisfied: prompt-toolkit!=3.0.0,!=3.0.1,<3.1.0,>=2.0.0 in c:\\users\\user\\anaconda3\\lib\\site-packages (from Ipython>=7.16.3->great-expectations==0.14.13->hsfs<3.5.0,>=3.4.0->hsfs[python]<3.5.0,>=3.4.0->hopsworks==3.4.*) (3.0.20)\n",
      "Requirement already satisfied: pygments in c:\\users\\user\\anaconda3\\lib\\site-packages (from Ipython>=7.16.3->great-expectations==0.14.13->hsfs<3.5.0,>=3.4.0->hsfs[python]<3.5.0,>=3.4.0->hopsworks==3.4.*) (2.11.2)\n",
      "Requirement already satisfied: backcall in c:\\users\\user\\anaconda3\\lib\\site-packages (from Ipython>=7.16.3->great-expectations==0.14.13->hsfs<3.5.0,>=3.4.0->hsfs[python]<3.5.0,>=3.4.0->hopsworks==3.4.*) (0.2.0)\n",
      "Requirement already satisfied: matplotlib-inline in c:\\users\\user\\anaconda3\\lib\\site-packages (from Ipython>=7.16.3->great-expectations==0.14.13->hsfs<3.5.0,>=3.4.0->hsfs[python]<3.5.0,>=3.4.0->hopsworks==3.4.*) (0.1.6)\n",
      "Requirement already satisfied: jsonpointer>=1.9 in c:\\users\\user\\anaconda3\\lib\\site-packages (from jsonpatch>=1.22->great-expectations==0.14.13->hsfs<3.5.0,>=3.4.0->hsfs[python]<3.5.0,>=3.4.0->hopsworks==3.4.*) (2.3)\n",
      "Requirement already satisfied: attrs>=17.4.0 in c:\\users\\user\\anaconda3\\lib\\site-packages (from jsonschema>=2.5.1->great-expectations==0.14.13->hsfs<3.5.0,>=3.4.0->hsfs[python]<3.5.0,>=3.4.0->hopsworks==3.4.*) (21.4.0)\n",
      "Requirement already satisfied: pyrsistent!=0.17.0,!=0.17.1,!=0.17.2,>=0.14.0 in c:\\users\\user\\anaconda3\\lib\\site-packages (from jsonschema>=2.5.1->great-expectations==0.14.13->hsfs<3.5.0,>=3.4.0->hsfs[python]<3.5.0,>=3.4.0->hopsworks==3.4.*) (0.18.0)\n",
      "Requirement already satisfied: fastjsonschema in c:\\users\\user\\anaconda3\\lib\\site-packages (from nbformat>=5.0->great-expectations==0.14.13->hsfs<3.5.0,>=3.4.0->hsfs[python]<3.5.0,>=3.4.0->hopsworks==3.4.*) (2.16.2)\n",
      "Requirement already satisfied: jupyter_core in c:\\users\\user\\anaconda3\\lib\\site-packages (from nbformat>=5.0->great-expectations==0.14.13->hsfs<3.5.0,>=3.4.0->hsfs[python]<3.5.0,>=3.4.0->hopsworks==3.4.*) (4.11.1)\n",
      "Requirement already satisfied: ruamel.yaml.clib>=0.1.2 in c:\\users\\user\\anaconda3\\lib\\site-packages (from ruamel.yaml<0.17.18,>=0.16->great-expectations==0.14.13->hsfs<3.5.0,>=3.4.0->hsfs[python]<3.5.0,>=3.4.0->hopsworks==3.4.*) (0.2.6)\n",
      "Requirement already satisfied: pycparser in c:\\users\\user\\anaconda3\\lib\\site-packages (from cffi>=1.12->cryptography>=3.2->great-expectations==0.14.13->hsfs<3.5.0,>=3.4.0->hsfs[python]<3.5.0,>=3.4.0->hopsworks==3.4.*) (2.21)\n",
      "Requirement already satisfied: parso<0.9.0,>=0.8.0 in c:\\users\\user\\anaconda3\\lib\\site-packages (from jedi>=0.16->Ipython>=7.16.3->great-expectations==0.14.13->hsfs<3.5.0,>=3.4.0->hsfs[python]<3.5.0,>=3.4.0->hopsworks==3.4.*) (0.8.3)\n",
      "Requirement already satisfied: wcwidth in c:\\users\\user\\anaconda3\\lib\\site-packages (from prompt-toolkit!=3.0.0,!=3.0.1,<3.1.0,>=2.0.0->Ipython>=7.16.3->great-expectations==0.14.13->hsfs<3.5.0,>=3.4.0->hsfs[python]<3.5.0,>=3.4.0->hopsworks==3.4.*) (0.2.5)\n",
      "Requirement already satisfied: pywin32>=1.0 in c:\\users\\user\\anaconda3\\lib\\site-packages (from jupyter_core->nbformat>=5.0->great-expectations==0.14.13->hsfs<3.5.0,>=3.4.0->hsfs[python]<3.5.0,>=3.4.0->hopsworks==3.4.*) (302)\n",
      "Note: you may need to restart the kernel to use updated packages.\n"
     ]
    }
   ],
   "source": [
    "%pip install hopsworks==3.4.*"
   ]
  },
  {
   "cell_type": "code",
   "execution_count": 82,
   "metadata": {},
   "outputs": [],
   "source": [
    "import hopsworks"
   ]
  },
  {
   "cell_type": "code",
   "execution_count": 83,
   "metadata": {},
   "outputs": [
    {
     "name": "stdout",
     "output_type": "stream",
     "text": [
      "Connection closed.\n",
      "Connected. Call `.close()` to terminate connection gracefully.\n"
     ]
    },
    {
     "name": "stderr",
     "output_type": "stream",
     "text": [
      "\n",
      "\n",
      "UserWarning: The installed hopsworks client version 3.0.5 may not be compatible with the connected Hopsworks backend version 3.4.1. \n",
      "To ensure compatibility please install the latest bug fix release matching the minor version of your backend (3.4) by running 'pip install hopsworks==3.4.*'\n"
     ]
    },
    {
     "name": "stdout",
     "output_type": "stream",
     "text": [
      "\n",
      "Logged in to project, explore it here https://c.app.hopsworks.ai:443/p/369813\n"
     ]
    }
   ],
   "source": [
    "project = hopsworks.login(\n",
    "    project=HOPSWORKS_PROJECT_NAME,\n",
    "    api_key_value=HOPSWORKS_API_KEY\n",
    ")"
   ]
  },
  {
   "cell_type": "markdown",
   "metadata": {},
   "source": [
    "Now we have connected to the project.\n",
    "\n",
    "Next let us connect to the feature store."
   ]
  },
  {
   "cell_type": "code",
   "execution_count": 84,
   "metadata": {},
   "outputs": [
    {
     "name": "stdout",
     "output_type": "stream",
     "text": [
      "Requirement already satisfied: hsfs[python] in c:\\users\\user\\anaconda3\\lib\\site-packages (3.4.5)\n",
      "Requirement already satisfied: pyhumps==1.6.1 in c:\\users\\user\\anaconda3\\lib\\site-packages (from hsfs[python]) (1.6.1)\n",
      "Requirement already satisfied: requests in c:\\users\\user\\anaconda3\\lib\\site-packages (from hsfs[python]) (2.28.1)\n",
      "Requirement already satisfied: furl in c:\\users\\user\\anaconda3\\lib\\site-packages (from hsfs[python]) (2.1.3)\n",
      "Requirement already satisfied: boto3 in c:\\users\\user\\anaconda3\\lib\\site-packages (from hsfs[python]) (1.24.28)\n",
      "Requirement already satisfied: pandas<2.1.0 in c:\\users\\user\\anaconda3\\lib\\site-packages (from hsfs[python]) (1.4.4)\n",
      "Requirement already satisfied: numpy<2 in c:\\users\\user\\anaconda3\\lib\\site-packages (from hsfs[python]) (1.21.5)\n",
      "Requirement already satisfied: pyjks in c:\\users\\user\\anaconda3\\lib\\site-packages (from hsfs[python]) (20.0.0)\n",
      "Requirement already satisfied: mock in c:\\users\\user\\anaconda3\\lib\\site-packages (from hsfs[python]) (4.0.3)\n",
      "Requirement already satisfied: avro==1.11.0 in c:\\users\\user\\anaconda3\\lib\\site-packages (from hsfs[python]) (1.11.0)\n",
      "Requirement already satisfied: sqlalchemy in c:\\users\\user\\anaconda3\\lib\\site-packages (from hsfs[python]) (1.4.39)\n",
      "Requirement already satisfied: PyMySQL[rsa] in c:\\users\\user\\anaconda3\\lib\\site-packages (from hsfs[python]) (1.0.2)\n",
      "Requirement already satisfied: great-expectations==0.14.13 in c:\\users\\user\\anaconda3\\lib\\site-packages (from hsfs[python]) (0.14.13)\n",
      "Requirement already satisfied: markupsafe<2.1.0 in c:\\users\\user\\anaconda3\\lib\\site-packages (from hsfs[python]) (2.0.1)\n",
      "Requirement already satisfied: tzlocal in c:\\users\\user\\anaconda3\\lib\\site-packages (from hsfs[python]) (4.2)\n",
      "Requirement already satisfied: fsspec in c:\\users\\user\\anaconda3\\lib\\site-packages (from hsfs[python]) (2022.7.1)\n",
      "Requirement already satisfied: pyhopshive[thrift] in c:\\users\\user\\anaconda3\\lib\\site-packages (from hsfs[python]) (0.6.4.1.dev0)\n",
      "Requirement already satisfied: pyarrow>=10.0 in c:\\users\\user\\anaconda3\\lib\\site-packages (from hsfs[python]) (10.0.1)\n",
      "Requirement already satisfied: confluent-kafka<=2.1.1 in c:\\users\\user\\anaconda3\\lib\\site-packages (from hsfs[python]) (1.8.2)\n",
      "Requirement already satisfied: fastavro<=1.8.2,>=1.4.11 in c:\\users\\user\\anaconda3\\lib\\site-packages (from hsfs[python]) (1.4.11)\n",
      "Requirement already satisfied: tqdm in c:\\users\\user\\anaconda3\\lib\\site-packages (from hsfs[python]) (4.64.1)\n",
      "Requirement already satisfied: altair<5,>=4.0.0 in c:\\users\\user\\anaconda3\\lib\\site-packages (from great-expectations==0.14.13->hsfs[python]) (4.2.0)\n",
      "Requirement already satisfied: Click>=7.1.2 in c:\\users\\user\\anaconda3\\lib\\site-packages (from great-expectations==0.14.13->hsfs[python]) (8.0.4)\n",
      "Requirement already satisfied: colorama>=0.4.3 in c:\\users\\user\\anaconda3\\lib\\site-packages (from great-expectations==0.14.13->hsfs[python]) (0.4.5)\n",
      "Requirement already satisfied: cryptography>=3.2 in c:\\users\\user\\anaconda3\\lib\\site-packages (from great-expectations==0.14.13->hsfs[python]) (37.0.1)\n",
      "Requirement already satisfied: dataclasses in c:\\users\\user\\anaconda3\\lib\\site-packages (from great-expectations==0.14.13->hsfs[python]) (0.6)\n",
      "Requirement already satisfied: importlib-metadata>=1.7.0 in c:\\users\\user\\anaconda3\\lib\\site-packages (from great-expectations==0.14.13->hsfs[python]) (4.11.3)\n",
      "Requirement already satisfied: Ipython>=7.16.3 in c:\\users\\user\\anaconda3\\lib\\site-packages (from great-expectations==0.14.13->hsfs[python]) (7.31.1)\n",
      "Requirement already satisfied: jinja2<3.1.0,>=2.10 in c:\\users\\user\\anaconda3\\lib\\site-packages (from great-expectations==0.14.13->hsfs[python]) (2.11.3)\n",
      "Requirement already satisfied: jsonpatch>=1.22 in c:\\users\\user\\anaconda3\\lib\\site-packages (from great-expectations==0.14.13->hsfs[python]) (1.32)\n",
      "Requirement already satisfied: jsonschema>=2.5.1 in c:\\users\\user\\anaconda3\\lib\\site-packages (from great-expectations==0.14.13->hsfs[python]) (4.16.0)\n",
      "Requirement already satisfied: mistune>=0.8.4 in c:\\users\\user\\anaconda3\\lib\\site-packages (from great-expectations==0.14.13->hsfs[python]) (0.8.4)\n",
      "Requirement already satisfied: nbformat>=5.0 in c:\\users\\user\\anaconda3\\lib\\site-packages (from great-expectations==0.14.13->hsfs[python]) (5.5.0)\n",
      "Requirement already satisfied: packaging in c:\\users\\user\\anaconda3\\lib\\site-packages (from great-expectations==0.14.13->hsfs[python]) (21.3)\n",
      "Requirement already satisfied: pyparsing<3,>=2.4 in c:\\users\\user\\anaconda3\\lib\\site-packages (from great-expectations==0.14.13->hsfs[python]) (2.4.7)\n",
      "Requirement already satisfied: python-dateutil>=2.8.1 in c:\\users\\user\\anaconda3\\lib\\site-packages (from great-expectations==0.14.13->hsfs[python]) (2.8.2)\n",
      "Requirement already satisfied: pytz>=2021.3 in c:\\users\\user\\anaconda3\\lib\\site-packages (from great-expectations==0.14.13->hsfs[python]) (2022.1)\n",
      "Requirement already satisfied: ruamel.yaml<0.17.18,>=0.16 in c:\\users\\user\\anaconda3\\lib\\site-packages (from great-expectations==0.14.13->hsfs[python]) (0.17.17)\n",
      "Requirement already satisfied: scipy>=0.19.0 in c:\\users\\user\\anaconda3\\lib\\site-packages (from great-expectations==0.14.13->hsfs[python]) (1.9.1)\n",
      "Requirement already satisfied: termcolor>=1.1.0 in c:\\users\\user\\anaconda3\\lib\\site-packages (from great-expectations==0.14.13->hsfs[python]) (2.2.0)\n",
      "Requirement already satisfied: typing-extensions>=3.10.0.0 in c:\\users\\user\\anaconda3\\lib\\site-packages (from great-expectations==0.14.13->hsfs[python]) (4.3.0)\n",
      "Requirement already satisfied: urllib3<1.27,>=1.25.4 in c:\\users\\user\\anaconda3\\lib\\site-packages (from great-expectations==0.14.13->hsfs[python]) (1.26.11)\n",
      "Requirement already satisfied: charset-normalizer<3,>=2 in c:\\users\\user\\anaconda3\\lib\\site-packages (from requests->hsfs[python]) (2.0.4)\n",
      "Requirement already satisfied: idna<4,>=2.5 in c:\\users\\user\\anaconda3\\lib\\site-packages (from requests->hsfs[python]) (3.3)\n",
      "Requirement already satisfied: certifi>=2017.4.17 in c:\\users\\user\\anaconda3\\lib\\site-packages (from requests->hsfs[python]) (2022.9.14)\n",
      "Requirement already satisfied: pytz-deprecation-shim in c:\\users\\user\\anaconda3\\lib\\site-packages (from tzlocal->hsfs[python]) (0.1.0.post0)\n",
      "Requirement already satisfied: tzdata in c:\\users\\user\\anaconda3\\lib\\site-packages (from tzlocal->hsfs[python]) (2022.7)\n",
      "Requirement already satisfied: botocore<1.28.0,>=1.27.28 in c:\\users\\user\\anaconda3\\lib\\site-packages (from boto3->hsfs[python]) (1.27.28)\n",
      "Requirement already satisfied: jmespath<2.0.0,>=0.7.1 in c:\\users\\user\\anaconda3\\lib\\site-packages (from boto3->hsfs[python]) (0.10.0)\n",
      "Requirement already satisfied: s3transfer<0.7.0,>=0.6.0 in c:\\users\\user\\anaconda3\\lib\\site-packages (from boto3->hsfs[python]) (0.6.0)\n",
      "Requirement already satisfied: six>=1.8.0 in c:\\users\\user\\anaconda3\\lib\\site-packages (from furl->hsfs[python]) (1.16.0)\n",
      "Requirement already satisfied: orderedmultidict>=1.0.1 in c:\\users\\user\\anaconda3\\lib\\site-packages (from furl->hsfs[python]) (1.0.1)\n",
      "Requirement already satisfied: future in c:\\users\\user\\anaconda3\\lib\\site-packages (from pyhopshive[thrift]; extra == \"python\"->hsfs[python]) (0.18.2)\n",
      "Requirement already satisfied: thrift>=0.10.0 in c:\\users\\user\\anaconda3\\lib\\site-packages (from pyhopshive[thrift]; extra == \"python\"->hsfs[python]) (0.16.0)\n",
      "Requirement already satisfied: javaobj-py3 in c:\\users\\user\\anaconda3\\lib\\site-packages (from pyjks->hsfs[python]) (0.4.3)\n",
      "Requirement already satisfied: pyasn1>=0.3.5 in c:\\users\\user\\anaconda3\\lib\\site-packages (from pyjks->hsfs[python]) (0.4.8)\n",
      "Requirement already satisfied: pyasn1-modules in c:\\users\\user\\anaconda3\\lib\\site-packages (from pyjks->hsfs[python]) (0.2.8)\n",
      "Requirement already satisfied: pycryptodomex in c:\\users\\user\\anaconda3\\lib\\site-packages (from pyjks->hsfs[python]) (3.16.0)\n",
      "Requirement already satisfied: twofish in c:\\users\\user\\anaconda3\\lib\\site-packages (from pyjks->hsfs[python]) (0.3.0)\n",
      "Requirement already satisfied: greenlet!=0.4.17 in c:\\users\\user\\anaconda3\\lib\\site-packages (from sqlalchemy->hsfs[python]) (1.1.1)\n",
      "Requirement already satisfied: entrypoints in c:\\users\\user\\anaconda3\\lib\\site-packages (from altair<5,>=4.0.0->great-expectations==0.14.13->hsfs[python]) (0.4)\n",
      "Requirement already satisfied: toolz in c:\\users\\user\\anaconda3\\lib\\site-packages (from altair<5,>=4.0.0->great-expectations==0.14.13->hsfs[python]) (0.11.2)\n",
      "Requirement already satisfied: cffi>=1.12 in c:\\users\\user\\anaconda3\\lib\\site-packages (from cryptography>=3.2->great-expectations==0.14.13->hsfs[python]) (1.15.1)\n",
      "Requirement already satisfied: zipp>=0.5 in c:\\users\\user\\anaconda3\\lib\\site-packages (from importlib-metadata>=1.7.0->great-expectations==0.14.13->hsfs[python]) (3.8.0)\n",
      "Requirement already satisfied: setuptools>=18.5 in c:\\users\\user\\anaconda3\\lib\\site-packages (from Ipython>=7.16.3->great-expectations==0.14.13->hsfs[python]) (63.4.1)\n",
      "Requirement already satisfied: jedi>=0.16 in c:\\users\\user\\anaconda3\\lib\\site-packages (from Ipython>=7.16.3->great-expectations==0.14.13->hsfs[python]) (0.18.1)\n",
      "Requirement already satisfied: decorator in c:\\users\\user\\anaconda3\\lib\\site-packages (from Ipython>=7.16.3->great-expectations==0.14.13->hsfs[python]) (5.1.1)\n",
      "Requirement already satisfied: pickleshare in c:\\users\\user\\anaconda3\\lib\\site-packages (from Ipython>=7.16.3->great-expectations==0.14.13->hsfs[python]) (0.7.5)\n",
      "Requirement already satisfied: traitlets>=4.2 in c:\\users\\user\\anaconda3\\lib\\site-packages (from Ipython>=7.16.3->great-expectations==0.14.13->hsfs[python]) (5.1.1)\n",
      "Requirement already satisfied: prompt-toolkit!=3.0.0,!=3.0.1,<3.1.0,>=2.0.0 in c:\\users\\user\\anaconda3\\lib\\site-packages (from Ipython>=7.16.3->great-expectations==0.14.13->hsfs[python]) (3.0.20)\n",
      "Requirement already satisfied: pygments in c:\\users\\user\\anaconda3\\lib\\site-packages (from Ipython>=7.16.3->great-expectations==0.14.13->hsfs[python]) (2.11.2)\n",
      "Requirement already satisfied: backcall in c:\\users\\user\\anaconda3\\lib\\site-packages (from Ipython>=7.16.3->great-expectations==0.14.13->hsfs[python]) (0.2.0)\n",
      "Requirement already satisfied: matplotlib-inline in c:\\users\\user\\anaconda3\\lib\\site-packages (from Ipython>=7.16.3->great-expectations==0.14.13->hsfs[python]) (0.1.6)\n",
      "Requirement already satisfied: jsonpointer>=1.9 in c:\\users\\user\\anaconda3\\lib\\site-packages (from jsonpatch>=1.22->great-expectations==0.14.13->hsfs[python]) (2.3)\n",
      "Requirement already satisfied: attrs>=17.4.0 in c:\\users\\user\\anaconda3\\lib\\site-packages (from jsonschema>=2.5.1->great-expectations==0.14.13->hsfs[python]) (21.4.0)\n",
      "Requirement already satisfied: pyrsistent!=0.17.0,!=0.17.1,!=0.17.2,>=0.14.0 in c:\\users\\user\\anaconda3\\lib\\site-packages (from jsonschema>=2.5.1->great-expectations==0.14.13->hsfs[python]) (0.18.0)\n",
      "Requirement already satisfied: fastjsonschema in c:\\users\\user\\anaconda3\\lib\\site-packages (from nbformat>=5.0->great-expectations==0.14.13->hsfs[python]) (2.16.2)\n",
      "Requirement already satisfied: jupyter_core in c:\\users\\user\\anaconda3\\lib\\site-packages (from nbformat>=5.0->great-expectations==0.14.13->hsfs[python]) (4.11.1)\n",
      "Requirement already satisfied: ruamel.yaml.clib>=0.1.2 in c:\\users\\user\\anaconda3\\lib\\site-packages (from ruamel.yaml<0.17.18,>=0.16->great-expectations==0.14.13->hsfs[python]) (0.2.6)\n",
      "Requirement already satisfied: pycparser in c:\\users\\user\\anaconda3\\lib\\site-packages (from cffi>=1.12->cryptography>=3.2->great-expectations==0.14.13->hsfs[python]) (2.21)\n",
      "Requirement already satisfied: parso<0.9.0,>=0.8.0 in c:\\users\\user\\anaconda3\\lib\\site-packages (from jedi>=0.16->Ipython>=7.16.3->great-expectations==0.14.13->hsfs[python]) (0.8.3)\n",
      "Requirement already satisfied: wcwidth in c:\\users\\user\\anaconda3\\lib\\site-packages (from prompt-toolkit!=3.0.0,!=3.0.1,<3.1.0,>=2.0.0->Ipython>=7.16.3->great-expectations==0.14.13->hsfs[python]) (0.2.5)\n",
      "Requirement already satisfied: pywin32>=1.0 in c:\\users\\user\\anaconda3\\lib\\site-packages (from jupyter_core->nbformat>=5.0->great-expectations==0.14.13->hsfs[python]) (302)\n",
      "Note: you may need to restart the kernel to use updated packages.\n"
     ]
    }
   ],
   "source": [
    "%pip install hsfs[python] \n",
    "\n"
   ]
  },
  {
   "cell_type": "code",
   "execution_count": 85,
   "metadata": {},
   "outputs": [
    {
     "name": "stdout",
     "output_type": "stream",
     "text": [
      "Connected. Call `.close()` to terminate connection gracefully.\n"
     ]
    }
   ],
   "source": [
    "import hsfs\n",
    "conn = hsfs.connection()\n",
    "feature_store = conn.get_feature_store()"
   ]
  },
  {
   "cell_type": "code",
   "execution_count": 46,
   "metadata": {},
   "outputs": [
    {
     "name": "stdout",
     "output_type": "stream",
     "text": [
      "Connected. Call `.close()` to terminate connection gracefully.\n"
     ]
    }
   ],
   "source": [
    "# feature_store = project.get_feature_store()"
   ]
  },
  {
   "cell_type": "markdown",
   "metadata": {},
   "source": [
    "Let us set the feature group"
   ]
  },
  {
   "cell_type": "code",
   "execution_count": 86,
   "metadata": {},
   "outputs": [],
   "source": [
    "FEATURE_GROUP_NAME = 'time_series_hourly_feature_group'\n",
    "FEATURE_GROUP_VERSION = 1"
   ]
  },
  {
   "cell_type": "markdown",
   "metadata": {},
   "source": [
    "Let us create the feature group."
   ]
  },
  {
   "cell_type": "code",
   "execution_count": 87,
   "metadata": {},
   "outputs": [],
   "source": [
    "feature_group = feature_store.get_or_create_feature_group(\n",
    "    name=FEATURE_GROUP_NAME,\n",
    "    version=FEATURE_GROUP_VERSION,\n",
    "    description=\"Time-series data at hourly frequency\",\n",
    "    primary_key = ['pickup_location_id', 'pickup_hour'],\n",
    "    event_time='pickup_hour'\n",
    ")"
   ]
  },
  {
   "cell_type": "markdown",
   "metadata": {},
   "source": [
    "Inserting data into feature group."
   ]
  },
  {
   "cell_type": "code",
   "execution_count": 89,
   "metadata": {},
   "outputs": [
    {
     "data": {
      "text/plain": [
       "'\\nfeature_group.insert(ts_data, write_options={\"wait_for_job\": False})\\n'"
      ]
     },
     "execution_count": 89,
     "metadata": {},
     "output_type": "execute_result"
    }
   ],
   "source": [
    "\"\"\"\n",
    "feature_group.insert(ts_data, write_options={\"wait_for_job\": False})\n",
    "\"\"\""
   ]
  },
  {
   "cell_type": "code",
   "execution_count": null,
   "metadata": {},
   "outputs": [],
   "source": []
  }
 ],
 "metadata": {
  "kernelspec": {
   "display_name": "Python 3 (ipykernel)",
   "language": "python",
   "name": "python3"
  },
  "language_info": {
   "codemirror_mode": {
    "name": "ipython",
    "version": 3
   },
   "file_extension": ".py",
   "mimetype": "text/x-python",
   "name": "python",
   "nbconvert_exporter": "python",
   "pygments_lexer": "ipython3",
   "version": "3.9.13"
  },
  "vscode": {
   "interpreter": {
    "hash": "b98d97558a062384a76b0309256306c9ce5dd4e2074fe66c33532239207fc923"
   }
  }
 },
 "nbformat": 4,
 "nbformat_minor": 4
}
