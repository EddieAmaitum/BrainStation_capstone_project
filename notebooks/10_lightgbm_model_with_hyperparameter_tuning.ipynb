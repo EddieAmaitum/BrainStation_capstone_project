{
 "cells": [
  {
   "cell_type": "markdown",
   "metadata": {},
   "source": [
    "### Model building continued."
   ]
  },
  {
   "cell_type": "markdown",
   "metadata": {},
   "source": [
    "### Model 7: LightGBM with hyperparameter tuning"
   ]
  },
  {
   "cell_type": "markdown",
   "metadata": {},
   "source": [
    "In this notebook we further improve our model with hyperparameter tuning."
   ]
  },
  {
   "cell_type": "code",
   "execution_count": 5,
   "metadata": {},
   "outputs": [],
   "source": [
    "import warnings\n",
    "warnings.filterwarnings(\"ignore\") # ignore warnings"
   ]
  },
  {
   "cell_type": "markdown",
   "metadata": {},
   "source": [
    "Loading the data"
   ]
  },
  {
   "cell_type": "code",
   "execution_count": 6,
   "metadata": {},
   "outputs": [],
   "source": [
    "import sys \n",
    "sys.path.append(r\"C:\\Users\\User\\capstone_project\")"
   ]
  },
  {
   "cell_type": "code",
   "execution_count": 7,
   "metadata": {},
   "outputs": [
    {
     "data": {
      "text/html": [
       "<div>\n",
       "<style scoped>\n",
       "    .dataframe tbody tr th:only-of-type {\n",
       "        vertical-align: middle;\n",
       "    }\n",
       "\n",
       "    .dataframe tbody tr th {\n",
       "        vertical-align: top;\n",
       "    }\n",
       "\n",
       "    .dataframe thead th {\n",
       "        text-align: right;\n",
       "    }\n",
       "</style>\n",
       "<table border=\"1\" class=\"dataframe\">\n",
       "  <thead>\n",
       "    <tr style=\"text-align: right;\">\n",
       "      <th></th>\n",
       "      <th>rides_previous_672_hour</th>\n",
       "      <th>rides_previous_671_hour</th>\n",
       "      <th>rides_previous_670_hour</th>\n",
       "      <th>rides_previous_669_hour</th>\n",
       "      <th>rides_previous_668_hour</th>\n",
       "      <th>rides_previous_667_hour</th>\n",
       "      <th>rides_previous_666_hour</th>\n",
       "      <th>rides_previous_665_hour</th>\n",
       "      <th>rides_previous_664_hour</th>\n",
       "      <th>rides_previous_663_hour</th>\n",
       "      <th>...</th>\n",
       "      <th>rides_previous_7_hour</th>\n",
       "      <th>rides_previous_6_hour</th>\n",
       "      <th>rides_previous_5_hour</th>\n",
       "      <th>rides_previous_4_hour</th>\n",
       "      <th>rides_previous_3_hour</th>\n",
       "      <th>rides_previous_2_hour</th>\n",
       "      <th>rides_previous_1_hour</th>\n",
       "      <th>pickup_hour</th>\n",
       "      <th>pickup_location_id</th>\n",
       "      <th>target_rides_next_hour</th>\n",
       "    </tr>\n",
       "  </thead>\n",
       "  <tbody>\n",
       "    <tr>\n",
       "      <th>0</th>\n",
       "      <td>0.0</td>\n",
       "      <td>0.0</td>\n",
       "      <td>0.0</td>\n",
       "      <td>0.0</td>\n",
       "      <td>1.0</td>\n",
       "      <td>1.0</td>\n",
       "      <td>0.0</td>\n",
       "      <td>2.0</td>\n",
       "      <td>0.0</td>\n",
       "      <td>0.0</td>\n",
       "      <td>...</td>\n",
       "      <td>2.0</td>\n",
       "      <td>0.0</td>\n",
       "      <td>1.0</td>\n",
       "      <td>0.0</td>\n",
       "      <td>0.0</td>\n",
       "      <td>0.0</td>\n",
       "      <td>0.0</td>\n",
       "      <td>2022-01-29</td>\n",
       "      <td>1</td>\n",
       "      <td>0.0</td>\n",
       "    </tr>\n",
       "    <tr>\n",
       "      <th>1</th>\n",
       "      <td>0.0</td>\n",
       "      <td>0.0</td>\n",
       "      <td>0.0</td>\n",
       "      <td>0.0</td>\n",
       "      <td>0.0</td>\n",
       "      <td>4.0</td>\n",
       "      <td>1.0</td>\n",
       "      <td>2.0</td>\n",
       "      <td>1.0</td>\n",
       "      <td>2.0</td>\n",
       "      <td>...</td>\n",
       "      <td>0.0</td>\n",
       "      <td>0.0</td>\n",
       "      <td>0.0</td>\n",
       "      <td>0.0</td>\n",
       "      <td>1.0</td>\n",
       "      <td>0.0</td>\n",
       "      <td>0.0</td>\n",
       "      <td>2022-01-30</td>\n",
       "      <td>1</td>\n",
       "      <td>0.0</td>\n",
       "    </tr>\n",
       "    <tr>\n",
       "      <th>2</th>\n",
       "      <td>0.0</td>\n",
       "      <td>0.0</td>\n",
       "      <td>0.0</td>\n",
       "      <td>0.0</td>\n",
       "      <td>0.0</td>\n",
       "      <td>0.0</td>\n",
       "      <td>0.0</td>\n",
       "      <td>2.0</td>\n",
       "      <td>0.0</td>\n",
       "      <td>0.0</td>\n",
       "      <td>...</td>\n",
       "      <td>0.0</td>\n",
       "      <td>1.0</td>\n",
       "      <td>2.0</td>\n",
       "      <td>0.0</td>\n",
       "      <td>0.0</td>\n",
       "      <td>0.0</td>\n",
       "      <td>0.0</td>\n",
       "      <td>2022-01-31</td>\n",
       "      <td>1</td>\n",
       "      <td>0.0</td>\n",
       "    </tr>\n",
       "    <tr>\n",
       "      <th>3</th>\n",
       "      <td>0.0</td>\n",
       "      <td>0.0</td>\n",
       "      <td>0.0</td>\n",
       "      <td>0.0</td>\n",
       "      <td>0.0</td>\n",
       "      <td>0.0</td>\n",
       "      <td>0.0</td>\n",
       "      <td>0.0</td>\n",
       "      <td>1.0</td>\n",
       "      <td>1.0</td>\n",
       "      <td>...</td>\n",
       "      <td>2.0</td>\n",
       "      <td>1.0</td>\n",
       "      <td>0.0</td>\n",
       "      <td>1.0</td>\n",
       "      <td>1.0</td>\n",
       "      <td>0.0</td>\n",
       "      <td>0.0</td>\n",
       "      <td>2022-02-01</td>\n",
       "      <td>1</td>\n",
       "      <td>0.0</td>\n",
       "    </tr>\n",
       "    <tr>\n",
       "      <th>4</th>\n",
       "      <td>0.0</td>\n",
       "      <td>0.0</td>\n",
       "      <td>0.0</td>\n",
       "      <td>0.0</td>\n",
       "      <td>0.0</td>\n",
       "      <td>0.0</td>\n",
       "      <td>0.0</td>\n",
       "      <td>0.0</td>\n",
       "      <td>0.0</td>\n",
       "      <td>0.0</td>\n",
       "      <td>...</td>\n",
       "      <td>0.0</td>\n",
       "      <td>0.0</td>\n",
       "      <td>0.0</td>\n",
       "      <td>0.0</td>\n",
       "      <td>0.0</td>\n",
       "      <td>0.0</td>\n",
       "      <td>0.0</td>\n",
       "      <td>2022-02-02</td>\n",
       "      <td>1</td>\n",
       "      <td>0.0</td>\n",
       "    </tr>\n",
       "    <tr>\n",
       "      <th>...</th>\n",
       "      <td>...</td>\n",
       "      <td>...</td>\n",
       "      <td>...</td>\n",
       "      <td>...</td>\n",
       "      <td>...</td>\n",
       "      <td>...</td>\n",
       "      <td>...</td>\n",
       "      <td>...</td>\n",
       "      <td>...</td>\n",
       "      <td>...</td>\n",
       "      <td>...</td>\n",
       "      <td>...</td>\n",
       "      <td>...</td>\n",
       "      <td>...</td>\n",
       "      <td>...</td>\n",
       "      <td>...</td>\n",
       "      <td>...</td>\n",
       "      <td>...</td>\n",
       "      <td>...</td>\n",
       "      <td>...</td>\n",
       "      <td>...</td>\n",
       "    </tr>\n",
       "    <tr>\n",
       "      <th>89300</th>\n",
       "      <td>3.0</td>\n",
       "      <td>0.0</td>\n",
       "      <td>2.0</td>\n",
       "      <td>3.0</td>\n",
       "      <td>2.0</td>\n",
       "      <td>3.0</td>\n",
       "      <td>13.0</td>\n",
       "      <td>8.0</td>\n",
       "      <td>9.0</td>\n",
       "      <td>9.0</td>\n",
       "      <td>...</td>\n",
       "      <td>6.0</td>\n",
       "      <td>5.0</td>\n",
       "      <td>3.0</td>\n",
       "      <td>1.0</td>\n",
       "      <td>6.0</td>\n",
       "      <td>1.0</td>\n",
       "      <td>3.0</td>\n",
       "      <td>2022-12-27</td>\n",
       "      <td>265</td>\n",
       "      <td>3.0</td>\n",
       "    </tr>\n",
       "    <tr>\n",
       "      <th>89301</th>\n",
       "      <td>6.0</td>\n",
       "      <td>4.0</td>\n",
       "      <td>0.0</td>\n",
       "      <td>0.0</td>\n",
       "      <td>2.0</td>\n",
       "      <td>0.0</td>\n",
       "      <td>14.0</td>\n",
       "      <td>7.0</td>\n",
       "      <td>8.0</td>\n",
       "      <td>4.0</td>\n",
       "      <td>...</td>\n",
       "      <td>4.0</td>\n",
       "      <td>2.0</td>\n",
       "      <td>1.0</td>\n",
       "      <td>2.0</td>\n",
       "      <td>2.0</td>\n",
       "      <td>2.0</td>\n",
       "      <td>8.0</td>\n",
       "      <td>2022-12-28</td>\n",
       "      <td>265</td>\n",
       "      <td>1.0</td>\n",
       "    </tr>\n",
       "    <tr>\n",
       "      <th>89302</th>\n",
       "      <td>7.0</td>\n",
       "      <td>2.0</td>\n",
       "      <td>3.0</td>\n",
       "      <td>4.0</td>\n",
       "      <td>7.0</td>\n",
       "      <td>4.0</td>\n",
       "      <td>10.0</td>\n",
       "      <td>9.0</td>\n",
       "      <td>7.0</td>\n",
       "      <td>11.0</td>\n",
       "      <td>...</td>\n",
       "      <td>2.0</td>\n",
       "      <td>3.0</td>\n",
       "      <td>5.0</td>\n",
       "      <td>1.0</td>\n",
       "      <td>1.0</td>\n",
       "      <td>0.0</td>\n",
       "      <td>8.0</td>\n",
       "      <td>2022-12-29</td>\n",
       "      <td>265</td>\n",
       "      <td>3.0</td>\n",
       "    </tr>\n",
       "    <tr>\n",
       "      <th>89303</th>\n",
       "      <td>6.0</td>\n",
       "      <td>5.0</td>\n",
       "      <td>4.0</td>\n",
       "      <td>3.0</td>\n",
       "      <td>0.0</td>\n",
       "      <td>3.0</td>\n",
       "      <td>11.0</td>\n",
       "      <td>12.0</td>\n",
       "      <td>9.0</td>\n",
       "      <td>10.0</td>\n",
       "      <td>...</td>\n",
       "      <td>3.0</td>\n",
       "      <td>3.0</td>\n",
       "      <td>1.0</td>\n",
       "      <td>2.0</td>\n",
       "      <td>0.0</td>\n",
       "      <td>1.0</td>\n",
       "      <td>2.0</td>\n",
       "      <td>2022-12-30</td>\n",
       "      <td>265</td>\n",
       "      <td>7.0</td>\n",
       "    </tr>\n",
       "    <tr>\n",
       "      <th>89304</th>\n",
       "      <td>6.0</td>\n",
       "      <td>6.0</td>\n",
       "      <td>4.0</td>\n",
       "      <td>2.0</td>\n",
       "      <td>5.0</td>\n",
       "      <td>1.0</td>\n",
       "      <td>0.0</td>\n",
       "      <td>3.0</td>\n",
       "      <td>5.0</td>\n",
       "      <td>8.0</td>\n",
       "      <td>...</td>\n",
       "      <td>6.0</td>\n",
       "      <td>4.0</td>\n",
       "      <td>2.0</td>\n",
       "      <td>5.0</td>\n",
       "      <td>1.0</td>\n",
       "      <td>1.0</td>\n",
       "      <td>7.0</td>\n",
       "      <td>2022-12-31</td>\n",
       "      <td>265</td>\n",
       "      <td>3.0</td>\n",
       "    </tr>\n",
       "  </tbody>\n",
       "</table>\n",
       "<p>89305 rows × 675 columns</p>\n",
       "</div>"
      ],
      "text/plain": [
       "       rides_previous_672_hour  rides_previous_671_hour  \\\n",
       "0                          0.0                      0.0   \n",
       "1                          0.0                      0.0   \n",
       "2                          0.0                      0.0   \n",
       "3                          0.0                      0.0   \n",
       "4                          0.0                      0.0   \n",
       "...                        ...                      ...   \n",
       "89300                      3.0                      0.0   \n",
       "89301                      6.0                      4.0   \n",
       "89302                      7.0                      2.0   \n",
       "89303                      6.0                      5.0   \n",
       "89304                      6.0                      6.0   \n",
       "\n",
       "       rides_previous_670_hour  rides_previous_669_hour  \\\n",
       "0                          0.0                      0.0   \n",
       "1                          0.0                      0.0   \n",
       "2                          0.0                      0.0   \n",
       "3                          0.0                      0.0   \n",
       "4                          0.0                      0.0   \n",
       "...                        ...                      ...   \n",
       "89300                      2.0                      3.0   \n",
       "89301                      0.0                      0.0   \n",
       "89302                      3.0                      4.0   \n",
       "89303                      4.0                      3.0   \n",
       "89304                      4.0                      2.0   \n",
       "\n",
       "       rides_previous_668_hour  rides_previous_667_hour  \\\n",
       "0                          1.0                      1.0   \n",
       "1                          0.0                      4.0   \n",
       "2                          0.0                      0.0   \n",
       "3                          0.0                      0.0   \n",
       "4                          0.0                      0.0   \n",
       "...                        ...                      ...   \n",
       "89300                      2.0                      3.0   \n",
       "89301                      2.0                      0.0   \n",
       "89302                      7.0                      4.0   \n",
       "89303                      0.0                      3.0   \n",
       "89304                      5.0                      1.0   \n",
       "\n",
       "       rides_previous_666_hour  rides_previous_665_hour  \\\n",
       "0                          0.0                      2.0   \n",
       "1                          1.0                      2.0   \n",
       "2                          0.0                      2.0   \n",
       "3                          0.0                      0.0   \n",
       "4                          0.0                      0.0   \n",
       "...                        ...                      ...   \n",
       "89300                     13.0                      8.0   \n",
       "89301                     14.0                      7.0   \n",
       "89302                     10.0                      9.0   \n",
       "89303                     11.0                     12.0   \n",
       "89304                      0.0                      3.0   \n",
       "\n",
       "       rides_previous_664_hour  rides_previous_663_hour  ...  \\\n",
       "0                          0.0                      0.0  ...   \n",
       "1                          1.0                      2.0  ...   \n",
       "2                          0.0                      0.0  ...   \n",
       "3                          1.0                      1.0  ...   \n",
       "4                          0.0                      0.0  ...   \n",
       "...                        ...                      ...  ...   \n",
       "89300                      9.0                      9.0  ...   \n",
       "89301                      8.0                      4.0  ...   \n",
       "89302                      7.0                     11.0  ...   \n",
       "89303                      9.0                     10.0  ...   \n",
       "89304                      5.0                      8.0  ...   \n",
       "\n",
       "       rides_previous_7_hour  rides_previous_6_hour  rides_previous_5_hour  \\\n",
       "0                        2.0                    0.0                    1.0   \n",
       "1                        0.0                    0.0                    0.0   \n",
       "2                        0.0                    1.0                    2.0   \n",
       "3                        2.0                    1.0                    0.0   \n",
       "4                        0.0                    0.0                    0.0   \n",
       "...                      ...                    ...                    ...   \n",
       "89300                    6.0                    5.0                    3.0   \n",
       "89301                    4.0                    2.0                    1.0   \n",
       "89302                    2.0                    3.0                    5.0   \n",
       "89303                    3.0                    3.0                    1.0   \n",
       "89304                    6.0                    4.0                    2.0   \n",
       "\n",
       "       rides_previous_4_hour  rides_previous_3_hour  rides_previous_2_hour  \\\n",
       "0                        0.0                    0.0                    0.0   \n",
       "1                        0.0                    1.0                    0.0   \n",
       "2                        0.0                    0.0                    0.0   \n",
       "3                        1.0                    1.0                    0.0   \n",
       "4                        0.0                    0.0                    0.0   \n",
       "...                      ...                    ...                    ...   \n",
       "89300                    1.0                    6.0                    1.0   \n",
       "89301                    2.0                    2.0                    2.0   \n",
       "89302                    1.0                    1.0                    0.0   \n",
       "89303                    2.0                    0.0                    1.0   \n",
       "89304                    5.0                    1.0                    1.0   \n",
       "\n",
       "       rides_previous_1_hour  pickup_hour  pickup_location_id  \\\n",
       "0                        0.0   2022-01-29                   1   \n",
       "1                        0.0   2022-01-30                   1   \n",
       "2                        0.0   2022-01-31                   1   \n",
       "3                        0.0   2022-02-01                   1   \n",
       "4                        0.0   2022-02-02                   1   \n",
       "...                      ...          ...                 ...   \n",
       "89300                    3.0   2022-12-27                 265   \n",
       "89301                    8.0   2022-12-28                 265   \n",
       "89302                    8.0   2022-12-29                 265   \n",
       "89303                    2.0   2022-12-30                 265   \n",
       "89304                    7.0   2022-12-31                 265   \n",
       "\n",
       "       target_rides_next_hour  \n",
       "0                         0.0  \n",
       "1                         0.0  \n",
       "2                         0.0  \n",
       "3                         0.0  \n",
       "4                         0.0  \n",
       "...                       ...  \n",
       "89300                     3.0  \n",
       "89301                     1.0  \n",
       "89302                     3.0  \n",
       "89303                     7.0  \n",
       "89304                     3.0  \n",
       "\n",
       "[89305 rows x 675 columns]"
      ]
     },
     "execution_count": 7,
     "metadata": {},
     "output_type": "execute_result"
    }
   ],
   "source": [
    "import pandas as pd\n",
    "from src.paths import TRANSFORMED_DATA_DIR\n",
    "\n",
    "df = pd.read_parquet(TRANSFORMED_DATA_DIR / 'tabular_data.parquet')\n",
    "df"
   ]
  },
  {
   "cell_type": "markdown",
   "metadata": {},
   "source": [
    "Splitting data into train and test sets."
   ]
  },
  {
   "cell_type": "code",
   "execution_count": 8,
   "metadata": {},
   "outputs": [
    {
     "name": "stdout",
     "output_type": "stream",
     "text": [
      "X_train.shape=(32595, 674)\n",
      "y_train.shape=(32595,)\n",
      "X_test.shape=(56710, 674)\n",
      "y_test.shape=(56710,)\n"
     ]
    }
   ],
   "source": [
    "from datetime import datetime\n",
    "from src.data_split import train_test_split\n",
    "\n",
    "X_train, y_train, X_test, y_test = train_test_split(\n",
    "    df,\n",
    "    cutoff_date=datetime(2022, 6, 1, 0, 0, 0),\n",
    "    target_column_name='target_rides_next_hour'\n",
    ")\n",
    "\n",
    "print(f'{X_train.shape=}')\n",
    "print(f'{y_train.shape=}')\n",
    "print(f'{X_test.shape=}')\n",
    "print(f'{y_test.shape=}')"
   ]
  },
  {
   "cell_type": "markdown",
   "metadata": {},
   "source": [
    "Defining a function which maps a set of hyperparameter to a final validation error."
   ]
  },
  {
   "cell_type": "code",
   "execution_count": 7,
   "metadata": {},
   "outputs": [
    {
     "name": "stdout",
     "output_type": "stream",
     "text": [
      "Collecting optuna\n",
      "  Downloading optuna-3.5.0-py3-none-any.whl (413 kB)\n",
      "     -------------------------------------- 413.4/413.4 kB 2.9 MB/s eta 0:00:00\n",
      "Requirement already satisfied: numpy in c:\\users\\user\\anaconda3\\lib\\site-packages (from optuna) (1.21.5)\n",
      "Requirement already satisfied: PyYAML in c:\\users\\user\\anaconda3\\lib\\site-packages (from optuna) (6.0)\n",
      "Requirement already satisfied: packaging>=20.0 in c:\\users\\user\\anaconda3\\lib\\site-packages (from optuna) (21.3)\n",
      "Requirement already satisfied: sqlalchemy>=1.3.0 in c:\\users\\user\\anaconda3\\lib\\site-packages (from optuna) (1.4.39)\n",
      "Collecting alembic>=1.5.0\n",
      "  Downloading alembic-1.13.1-py3-none-any.whl (233 kB)\n",
      "     -------------------------------------- 233.4/233.4 kB 7.2 MB/s eta 0:00:00\n",
      "Requirement already satisfied: tqdm in c:\\users\\user\\anaconda3\\lib\\site-packages (from optuna) (4.64.1)\n",
      "Collecting colorlog\n",
      "  Downloading colorlog-6.8.0-py3-none-any.whl (11 kB)\n",
      "Collecting Mako\n",
      "  Downloading Mako-1.3.0-py3-none-any.whl (78 kB)\n",
      "     ---------------------------------------- 78.6/78.6 kB 4.3 MB/s eta 0:00:00\n",
      "Requirement already satisfied: typing-extensions>=4 in c:\\users\\user\\anaconda3\\lib\\site-packages (from alembic>=1.5.0->optuna) (4.3.0)\n",
      "Requirement already satisfied: pyparsing!=3.0.5,>=2.0.2 in c:\\users\\user\\anaconda3\\lib\\site-packages (from packaging>=20.0->optuna) (2.4.7)\n",
      "Requirement already satisfied: greenlet!=0.4.17 in c:\\users\\user\\anaconda3\\lib\\site-packages (from sqlalchemy>=1.3.0->optuna) (1.1.1)\n",
      "Requirement already satisfied: colorama in c:\\users\\user\\anaconda3\\lib\\site-packages (from colorlog->optuna) (0.4.5)\n",
      "Requirement already satisfied: MarkupSafe>=0.9.2 in c:\\users\\user\\anaconda3\\lib\\site-packages (from Mako->alembic>=1.5.0->optuna) (2.0.1)\n",
      "Installing collected packages: Mako, colorlog, alembic, optuna\n",
      "Successfully installed Mako-1.3.0 alembic-1.13.1 colorlog-6.8.0 optuna-3.5.0\n",
      "Note: you may need to restart the kernel to use updated packages.\n"
     ]
    }
   ],
   "source": [
    "%pip install optuna"
   ]
  },
  {
   "cell_type": "code",
   "execution_count": 9,
   "metadata": {},
   "outputs": [],
   "source": [
    "import numpy as np\n",
    "from sklearn.model_selection import KFold, TimeSeriesSplit\n",
    "from sklearn.pipeline import make_pipeline\n",
    "from sklearn.metrics import mean_absolute_error\n",
    "import optuna\n",
    "\n",
    "from src.model import get_pipeline\n",
    "\n",
    "def objective(trial: optuna.trial.Trial) -> float:\n",
    "    \"\"\"\n",
    "    Given a set of hyper-parameters, it trains a model and computes an average\n",
    "    validation error based on a TimeSeriesSplit\n",
    "    \"\"\"\n",
    "    # pick hyper-parameters\n",
    "    hyperparams = {\n",
    "        \"metric\": 'mae',\n",
    "        \"verbose\": -1,\n",
    "        \"num_leaves\": trial.suggest_int(\"num_leaves\", 2, 256),\n",
    "        \"feature_fraction\": trial.suggest_float(\"feature_fraction\", 0.2, 1.0),\n",
    "        \"bagging_fraction\": trial.suggest_float(\"bagging_fraction\", 0.2, 1.0),\n",
    "        \"min_child_samples\": trial.suggest_int(\"min_child_samples\", 3, 100),   \n",
    "    }\n",
    "       \n",
    "    tss = TimeSeriesSplit(n_splits=2)\n",
    "    scores = []\n",
    "    for train_index, val_index in tss.split(X_train):\n",
    "\n",
    "        # split data for training and validation\n",
    "        X_train_, X_val_ = X_train.iloc[train_index, :], X_train.iloc[val_index,:]\n",
    "        y_train_, y_val_ = y_train.iloc[train_index], y_train.iloc[val_index]\n",
    "        \n",
    "        # train the model\n",
    "        pipeline = get_pipeline(**hyperparams)\n",
    "        pipeline.fit(X_train_, y_train_)\n",
    "        \n",
    "        # evaluate the model\n",
    "        y_pred = pipeline.predict(X_val_)\n",
    "        mae = mean_absolute_error(y_val_, y_pred)\n",
    "\n",
    "        scores.append(mae)\n",
    "   \n",
    "    # Return the mean score\n",
    "    return np.array(scores).mean()"
   ]
  },
  {
   "cell_type": "markdown",
   "metadata": {},
   "source": [
    "Create a study as per optuna."
   ]
  },
  {
   "cell_type": "code",
   "execution_count": 10,
   "metadata": {},
   "outputs": [
    {
     "name": "stderr",
     "output_type": "stream",
     "text": [
      "[I 2024-01-07 05:29:25,855] A new study created in memory with name: no-name-40e47b93-acb6-44c4-98e2-8f417eaf6864\n",
      "[I 2024-01-07 05:29:33,988] Trial 0 finished with value: 3.249227115700037 and parameters: {'num_leaves': 175, 'feature_fraction': 0.5552801252247332, 'bagging_fraction': 0.4181569445469541, 'min_child_samples': 50}. Best is trial 0 with value: 3.249227115700037.\n",
      "[I 2024-01-07 05:29:40,705] Trial 1 finished with value: 3.388942159391527 and parameters: {'num_leaves': 129, 'feature_fraction': 0.550020146587656, 'bagging_fraction': 0.6427467028672802, 'min_child_samples': 29}. Best is trial 0 with value: 3.249227115700037.\n",
      "[I 2024-01-07 05:29:46,172] Trial 2 finished with value: 3.334892987210454 and parameters: {'num_leaves': 155, 'feature_fraction': 0.33729195037050375, 'bagging_fraction': 0.5534262999884343, 'min_child_samples': 13}. Best is trial 0 with value: 3.249227115700037.\n",
      "[I 2024-01-07 05:29:50,251] Trial 3 finished with value: 3.420145401588784 and parameters: {'num_leaves': 149, 'feature_fraction': 0.24272319320060456, 'bagging_fraction': 0.3698714287564343, 'min_child_samples': 59}. Best is trial 0 with value: 3.249227115700037.\n",
      "[I 2024-01-07 05:30:09,620] Trial 4 finished with value: 3.440464215530323 and parameters: {'num_leaves': 188, 'feature_fraction': 0.2517315042748429, 'bagging_fraction': 0.5977490456327883, 'min_child_samples': 6}. Best is trial 0 with value: 3.249227115700037.\n"
     ]
    }
   ],
   "source": [
    "study = optuna.create_study(direction=\"minimize\")\n",
    "study.optimize(objective, n_trials=5) #run 5 iterations"
   ]
  },
  {
   "cell_type": "markdown",
   "metadata": {},
   "source": [
    "Let us extract the best hyper-parameters optuna found."
   ]
  },
  {
   "cell_type": "code",
   "execution_count": 11,
   "metadata": {},
   "outputs": [
    {
     "name": "stdout",
     "output_type": "stream",
     "text": [
      "best_params={'num_leaves': 175, 'feature_fraction': 0.5552801252247332, 'bagging_fraction': 0.4181569445469541, 'min_child_samples': 50}\n"
     ]
    }
   ],
   "source": [
    "best_params = study.best_trial.params\n",
    "print(f'{best_params=}')"
   ]
  },
  {
   "cell_type": "markdown",
   "metadata": {},
   "source": [
    "Now let us re train the model on the entire training data."
   ]
  },
  {
   "cell_type": "code",
   "execution_count": 12,
   "metadata": {},
   "outputs": [
    {
     "name": "stdout",
     "output_type": "stream",
     "text": [
      "[LightGBM] [Warning] feature_fraction is set=0.5552801252247332, colsample_bytree=1.0 will be ignored. Current value: feature_fraction=0.5552801252247332\n",
      "[LightGBM] [Warning] bagging_fraction is set=0.4181569445469541, subsample=1.0 will be ignored. Current value: bagging_fraction=0.4181569445469541\n",
      "[LightGBM] [Warning] feature_fraction is set=0.5552801252247332, colsample_bytree=1.0 will be ignored. Current value: feature_fraction=0.5552801252247332\n",
      "[LightGBM] [Warning] bagging_fraction is set=0.4181569445469541, subsample=1.0 will be ignored. Current value: bagging_fraction=0.4181569445469541\n",
      "[LightGBM] [Info] Auto-choosing col-wise multi-threading, the overhead of testing was 0.062801 seconds.\n",
      "You can set `force_col_wise=true` to remove the overhead.\n",
      "[LightGBM] [Info] Total Bins 154527\n",
      "[LightGBM] [Info] Number of data points in the train set: 32595, number of used features: 675\n",
      "[LightGBM] [Info] Start training from score 11.571069\n"
     ]
    },
    {
     "data": {
      "text/plain": [
       "Pipeline(steps=[('functiontransformer',\n",
       "                 FunctionTransformer(func=<function average_rides_last_4_weeks at 0x00000135229B9EE0>)),\n",
       "                ('temporalfeaturesengineer', TemporalFeaturesEngineer()),\n",
       "                ('lgbmregressor',\n",
       "                 LGBMRegressor(bagging_fraction=0.4181569445469541,\n",
       "                               feature_fraction=0.5552801252247332,\n",
       "                               min_child_samples=50, num_leaves=175))])"
      ]
     },
     "execution_count": 12,
     "metadata": {},
     "output_type": "execute_result"
    }
   ],
   "source": [
    "pipeline = get_pipeline(**best_params)\n",
    "pipeline.fit(X_train, y_train)"
   ]
  },
  {
   "cell_type": "markdown",
   "metadata": {},
   "source": [
    "### Evaluating Model 7"
   ]
  },
  {
   "cell_type": "code",
   "execution_count": 13,
   "metadata": {},
   "outputs": [
    {
     "name": "stdout",
     "output_type": "stream",
     "text": [
      "[LightGBM] [Warning] feature_fraction is set=0.5552801252247332, colsample_bytree=1.0 will be ignored. Current value: feature_fraction=0.5552801252247332\n",
      "[LightGBM] [Warning] bagging_fraction is set=0.4181569445469541, subsample=1.0 will be ignored. Current value: bagging_fraction=0.4181569445469541\n",
      "test_mae=2.5425\n"
     ]
    }
   ],
   "source": [
    "predictions = pipeline.predict(X_test)\n",
    "test_mae = mean_absolute_error(y_test, predictions)\n",
    "print(f'{test_mae=:.4f}')"
   ]
  },
  {
   "cell_type": "markdown",
   "metadata": {},
   "source": [
    "**Observations and insights**\n",
    "\n",
    "Tuning hyper-parameter further improved the model based on MAE = 2.54.\n",
    "\n",
    "This is a pretty good error, let us print to see how the predictions look like."
   ]
  },
  {
   "cell_type": "markdown",
   "metadata": {},
   "source": [
    "Printing predictions."
   ]
  },
  {
   "cell_type": "code",
   "execution_count": 14,
   "metadata": {},
   "outputs": [
    {
     "data": {
      "application/vnd.plotly.v1+json": {
       "config": {
        "plotlyServerURL": "https://plot.ly"
       },
       "data": [
        {
         "hovertemplate": "x=%{x}<br>y=%{y}<extra></extra>",
         "legendgroup": "",
         "line": {
          "color": "#636efa",
          "dash": "solid"
         },
         "marker": {
          "symbol": "circle"
         },
         "mode": "markers+lines",
         "name": "",
         "orientation": "v",
         "showlegend": false,
         "type": "scatter",
         "x": [
          "2022-11-17T00:00:00",
          "2022-11-17T01:00:00",
          "2022-11-17T02:00:00",
          "2022-11-17T03:00:00",
          "2022-11-17T04:00:00",
          "2022-11-17T05:00:00",
          "2022-11-17T06:00:00",
          "2022-11-17T07:00:00",
          "2022-11-17T08:00:00",
          "2022-11-17T09:00:00",
          "2022-11-17T10:00:00",
          "2022-11-17T11:00:00",
          "2022-11-17T12:00:00",
          "2022-11-17T13:00:00",
          "2022-11-17T14:00:00",
          "2022-11-17T15:00:00",
          "2022-11-17T16:00:00",
          "2022-11-17T17:00:00",
          "2022-11-17T18:00:00",
          "2022-11-17T19:00:00",
          "2022-11-17T20:00:00",
          "2022-11-17T21:00:00",
          "2022-11-17T22:00:00",
          "2022-11-17T23:00:00",
          "2022-11-18T00:00:00",
          "2022-11-18T01:00:00",
          "2022-11-18T02:00:00",
          "2022-11-18T03:00:00",
          "2022-11-18T04:00:00",
          "2022-11-18T05:00:00",
          "2022-11-18T06:00:00",
          "2022-11-18T07:00:00",
          "2022-11-18T08:00:00",
          "2022-11-18T09:00:00",
          "2022-11-18T10:00:00",
          "2022-11-18T11:00:00",
          "2022-11-18T12:00:00",
          "2022-11-18T13:00:00",
          "2022-11-18T14:00:00",
          "2022-11-18T15:00:00",
          "2022-11-18T16:00:00",
          "2022-11-18T17:00:00",
          "2022-11-18T18:00:00",
          "2022-11-18T19:00:00",
          "2022-11-18T20:00:00",
          "2022-11-18T21:00:00",
          "2022-11-18T22:00:00",
          "2022-11-18T23:00:00",
          "2022-11-19T00:00:00",
          "2022-11-19T01:00:00",
          "2022-11-19T02:00:00",
          "2022-11-19T03:00:00",
          "2022-11-19T04:00:00",
          "2022-11-19T05:00:00",
          "2022-11-19T06:00:00",
          "2022-11-19T07:00:00",
          "2022-11-19T08:00:00",
          "2022-11-19T09:00:00",
          "2022-11-19T10:00:00",
          "2022-11-19T11:00:00",
          "2022-11-19T12:00:00",
          "2022-11-19T13:00:00",
          "2022-11-19T14:00:00",
          "2022-11-19T15:00:00",
          "2022-11-19T16:00:00",
          "2022-11-19T17:00:00",
          "2022-11-19T18:00:00",
          "2022-11-19T19:00:00",
          "2022-11-19T20:00:00",
          "2022-11-19T21:00:00",
          "2022-11-19T22:00:00",
          "2022-11-19T23:00:00",
          "2022-11-20T00:00:00",
          "2022-11-20T01:00:00",
          "2022-11-20T02:00:00",
          "2022-11-20T03:00:00",
          "2022-11-20T04:00:00",
          "2022-11-20T05:00:00",
          "2022-11-20T06:00:00",
          "2022-11-20T07:00:00",
          "2022-11-20T08:00:00",
          "2022-11-20T09:00:00",
          "2022-11-20T10:00:00",
          "2022-11-20T11:00:00",
          "2022-11-20T12:00:00",
          "2022-11-20T13:00:00",
          "2022-11-20T14:00:00",
          "2022-11-20T15:00:00",
          "2022-11-20T16:00:00",
          "2022-11-20T17:00:00",
          "2022-11-20T18:00:00",
          "2022-11-20T19:00:00",
          "2022-11-20T20:00:00",
          "2022-11-20T21:00:00",
          "2022-11-20T22:00:00",
          "2022-11-20T23:00:00",
          "2022-11-21T00:00:00",
          "2022-11-21T01:00:00",
          "2022-11-21T02:00:00",
          "2022-11-21T03:00:00",
          "2022-11-21T04:00:00",
          "2022-11-21T05:00:00",
          "2022-11-21T06:00:00",
          "2022-11-21T07:00:00",
          "2022-11-21T08:00:00",
          "2022-11-21T09:00:00",
          "2022-11-21T10:00:00",
          "2022-11-21T11:00:00",
          "2022-11-21T12:00:00",
          "2022-11-21T13:00:00",
          "2022-11-21T14:00:00",
          "2022-11-21T15:00:00",
          "2022-11-21T16:00:00",
          "2022-11-21T17:00:00",
          "2022-11-21T18:00:00",
          "2022-11-21T19:00:00",
          "2022-11-21T20:00:00",
          "2022-11-21T21:00:00",
          "2022-11-21T22:00:00",
          "2022-11-21T23:00:00",
          "2022-11-22T00:00:00",
          "2022-11-22T01:00:00",
          "2022-11-22T02:00:00",
          "2022-11-22T03:00:00",
          "2022-11-22T04:00:00",
          "2022-11-22T05:00:00",
          "2022-11-22T06:00:00",
          "2022-11-22T07:00:00",
          "2022-11-22T08:00:00",
          "2022-11-22T09:00:00",
          "2022-11-22T10:00:00",
          "2022-11-22T11:00:00",
          "2022-11-22T12:00:00",
          "2022-11-22T13:00:00",
          "2022-11-22T14:00:00",
          "2022-11-22T15:00:00",
          "2022-11-22T16:00:00",
          "2022-11-22T17:00:00",
          "2022-11-22T18:00:00",
          "2022-11-22T19:00:00",
          "2022-11-22T20:00:00",
          "2022-11-22T21:00:00",
          "2022-11-22T22:00:00",
          "2022-11-22T23:00:00",
          "2022-11-23T00:00:00",
          "2022-11-23T01:00:00",
          "2022-11-23T02:00:00",
          "2022-11-23T03:00:00",
          "2022-11-23T04:00:00",
          "2022-11-23T05:00:00",
          "2022-11-23T06:00:00",
          "2022-11-23T07:00:00",
          "2022-11-23T08:00:00",
          "2022-11-23T09:00:00",
          "2022-11-23T10:00:00",
          "2022-11-23T11:00:00",
          "2022-11-23T12:00:00",
          "2022-11-23T13:00:00",
          "2022-11-23T14:00:00",
          "2022-11-23T15:00:00",
          "2022-11-23T16:00:00",
          "2022-11-23T17:00:00",
          "2022-11-23T18:00:00",
          "2022-11-23T19:00:00",
          "2022-11-23T20:00:00",
          "2022-11-23T21:00:00",
          "2022-11-23T22:00:00",
          "2022-11-23T23:00:00",
          "2022-11-24T00:00:00",
          "2022-11-24T01:00:00",
          "2022-11-24T02:00:00",
          "2022-11-24T03:00:00",
          "2022-11-24T04:00:00",
          "2022-11-24T05:00:00",
          "2022-11-24T06:00:00",
          "2022-11-24T07:00:00",
          "2022-11-24T08:00:00",
          "2022-11-24T09:00:00",
          "2022-11-24T10:00:00",
          "2022-11-24T11:00:00",
          "2022-11-24T12:00:00",
          "2022-11-24T13:00:00",
          "2022-11-24T14:00:00",
          "2022-11-24T15:00:00",
          "2022-11-24T16:00:00",
          "2022-11-24T17:00:00",
          "2022-11-24T18:00:00",
          "2022-11-24T19:00:00",
          "2022-11-24T20:00:00",
          "2022-11-24T21:00:00",
          "2022-11-24T22:00:00",
          "2022-11-24T23:00:00",
          "2022-11-25T00:00:00",
          "2022-11-25T01:00:00",
          "2022-11-25T02:00:00",
          "2022-11-25T03:00:00",
          "2022-11-25T04:00:00",
          "2022-11-25T05:00:00",
          "2022-11-25T06:00:00",
          "2022-11-25T07:00:00",
          "2022-11-25T08:00:00",
          "2022-11-25T09:00:00",
          "2022-11-25T10:00:00",
          "2022-11-25T11:00:00",
          "2022-11-25T12:00:00",
          "2022-11-25T13:00:00",
          "2022-11-25T14:00:00",
          "2022-11-25T15:00:00",
          "2022-11-25T16:00:00",
          "2022-11-25T17:00:00",
          "2022-11-25T18:00:00",
          "2022-11-25T19:00:00",
          "2022-11-25T20:00:00",
          "2022-11-25T21:00:00",
          "2022-11-25T22:00:00",
          "2022-11-25T23:00:00",
          "2022-11-26T00:00:00",
          "2022-11-26T01:00:00",
          "2022-11-26T02:00:00",
          "2022-11-26T03:00:00",
          "2022-11-26T04:00:00",
          "2022-11-26T05:00:00",
          "2022-11-26T06:00:00",
          "2022-11-26T07:00:00",
          "2022-11-26T08:00:00",
          "2022-11-26T09:00:00",
          "2022-11-26T10:00:00",
          "2022-11-26T11:00:00",
          "2022-11-26T12:00:00",
          "2022-11-26T13:00:00",
          "2022-11-26T14:00:00",
          "2022-11-26T15:00:00",
          "2022-11-26T16:00:00",
          "2022-11-26T17:00:00",
          "2022-11-26T18:00:00",
          "2022-11-26T19:00:00",
          "2022-11-26T20:00:00",
          "2022-11-26T21:00:00",
          "2022-11-26T22:00:00",
          "2022-11-26T23:00:00",
          "2022-11-27T00:00:00",
          "2022-11-27T01:00:00",
          "2022-11-27T02:00:00",
          "2022-11-27T03:00:00",
          "2022-11-27T04:00:00",
          "2022-11-27T05:00:00",
          "2022-11-27T06:00:00",
          "2022-11-27T07:00:00",
          "2022-11-27T08:00:00",
          "2022-11-27T09:00:00",
          "2022-11-27T10:00:00",
          "2022-11-27T11:00:00",
          "2022-11-27T12:00:00",
          "2022-11-27T13:00:00",
          "2022-11-27T14:00:00",
          "2022-11-27T15:00:00",
          "2022-11-27T16:00:00",
          "2022-11-27T17:00:00",
          "2022-11-27T18:00:00",
          "2022-11-27T19:00:00",
          "2022-11-27T20:00:00",
          "2022-11-27T21:00:00",
          "2022-11-27T22:00:00",
          "2022-11-27T23:00:00",
          "2022-11-28T00:00:00",
          "2022-11-28T01:00:00",
          "2022-11-28T02:00:00",
          "2022-11-28T03:00:00",
          "2022-11-28T04:00:00",
          "2022-11-28T05:00:00",
          "2022-11-28T06:00:00",
          "2022-11-28T07:00:00",
          "2022-11-28T08:00:00",
          "2022-11-28T09:00:00",
          "2022-11-28T10:00:00",
          "2022-11-28T11:00:00",
          "2022-11-28T12:00:00",
          "2022-11-28T13:00:00",
          "2022-11-28T14:00:00",
          "2022-11-28T15:00:00",
          "2022-11-28T16:00:00",
          "2022-11-28T17:00:00",
          "2022-11-28T18:00:00",
          "2022-11-28T19:00:00",
          "2022-11-28T20:00:00",
          "2022-11-28T21:00:00",
          "2022-11-28T22:00:00",
          "2022-11-28T23:00:00",
          "2022-11-29T00:00:00",
          "2022-11-29T01:00:00",
          "2022-11-29T02:00:00",
          "2022-11-29T03:00:00",
          "2022-11-29T04:00:00",
          "2022-11-29T05:00:00",
          "2022-11-29T06:00:00",
          "2022-11-29T07:00:00",
          "2022-11-29T08:00:00",
          "2022-11-29T09:00:00",
          "2022-11-29T10:00:00",
          "2022-11-29T11:00:00",
          "2022-11-29T12:00:00",
          "2022-11-29T13:00:00",
          "2022-11-29T14:00:00",
          "2022-11-29T15:00:00",
          "2022-11-29T16:00:00",
          "2022-11-29T17:00:00",
          "2022-11-29T18:00:00",
          "2022-11-29T19:00:00",
          "2022-11-29T20:00:00",
          "2022-11-29T21:00:00",
          "2022-11-29T22:00:00",
          "2022-11-29T23:00:00",
          "2022-11-30T00:00:00",
          "2022-11-30T01:00:00",
          "2022-11-30T02:00:00",
          "2022-11-30T03:00:00",
          "2022-11-30T04:00:00",
          "2022-11-30T05:00:00",
          "2022-11-30T06:00:00",
          "2022-11-30T07:00:00",
          "2022-11-30T08:00:00",
          "2022-11-30T09:00:00",
          "2022-11-30T10:00:00",
          "2022-11-30T11:00:00",
          "2022-11-30T12:00:00",
          "2022-11-30T13:00:00",
          "2022-11-30T14:00:00",
          "2022-11-30T15:00:00",
          "2022-11-30T16:00:00",
          "2022-11-30T17:00:00",
          "2022-11-30T18:00:00",
          "2022-11-30T19:00:00",
          "2022-11-30T20:00:00",
          "2022-11-30T21:00:00",
          "2022-11-30T22:00:00",
          "2022-11-30T23:00:00",
          "2022-12-01T00:00:00",
          "2022-12-01T01:00:00",
          "2022-12-01T02:00:00",
          "2022-12-01T03:00:00",
          "2022-12-01T04:00:00",
          "2022-12-01T05:00:00",
          "2022-12-01T06:00:00",
          "2022-12-01T07:00:00",
          "2022-12-01T08:00:00",
          "2022-12-01T09:00:00",
          "2022-12-01T10:00:00",
          "2022-12-01T11:00:00",
          "2022-12-01T12:00:00",
          "2022-12-01T13:00:00",
          "2022-12-01T14:00:00",
          "2022-12-01T15:00:00",
          "2022-12-01T16:00:00",
          "2022-12-01T17:00:00",
          "2022-12-01T18:00:00",
          "2022-12-01T19:00:00",
          "2022-12-01T20:00:00",
          "2022-12-01T21:00:00",
          "2022-12-01T22:00:00",
          "2022-12-01T23:00:00",
          "2022-12-02T00:00:00",
          "2022-12-02T01:00:00",
          "2022-12-02T02:00:00",
          "2022-12-02T03:00:00",
          "2022-12-02T04:00:00",
          "2022-12-02T05:00:00",
          "2022-12-02T06:00:00",
          "2022-12-02T07:00:00",
          "2022-12-02T08:00:00",
          "2022-12-02T09:00:00",
          "2022-12-02T10:00:00",
          "2022-12-02T11:00:00",
          "2022-12-02T12:00:00",
          "2022-12-02T13:00:00",
          "2022-12-02T14:00:00",
          "2022-12-02T15:00:00",
          "2022-12-02T16:00:00",
          "2022-12-02T17:00:00",
          "2022-12-02T18:00:00",
          "2022-12-02T19:00:00",
          "2022-12-02T20:00:00",
          "2022-12-02T21:00:00",
          "2022-12-02T22:00:00",
          "2022-12-02T23:00:00",
          "2022-12-03T00:00:00",
          "2022-12-03T01:00:00",
          "2022-12-03T02:00:00",
          "2022-12-03T03:00:00",
          "2022-12-03T04:00:00",
          "2022-12-03T05:00:00",
          "2022-12-03T06:00:00",
          "2022-12-03T07:00:00",
          "2022-12-03T08:00:00",
          "2022-12-03T09:00:00",
          "2022-12-03T10:00:00",
          "2022-12-03T11:00:00",
          "2022-12-03T12:00:00",
          "2022-12-03T13:00:00",
          "2022-12-03T14:00:00",
          "2022-12-03T15:00:00",
          "2022-12-03T16:00:00",
          "2022-12-03T17:00:00",
          "2022-12-03T18:00:00",
          "2022-12-03T19:00:00",
          "2022-12-03T20:00:00",
          "2022-12-03T21:00:00",
          "2022-12-03T22:00:00",
          "2022-12-03T23:00:00",
          "2022-12-04T00:00:00",
          "2022-12-04T01:00:00",
          "2022-12-04T02:00:00",
          "2022-12-04T03:00:00",
          "2022-12-04T04:00:00",
          "2022-12-04T05:00:00",
          "2022-12-04T06:00:00",
          "2022-12-04T07:00:00",
          "2022-12-04T08:00:00",
          "2022-12-04T09:00:00",
          "2022-12-04T10:00:00",
          "2022-12-04T11:00:00",
          "2022-12-04T12:00:00",
          "2022-12-04T13:00:00",
          "2022-12-04T14:00:00",
          "2022-12-04T15:00:00",
          "2022-12-04T16:00:00",
          "2022-12-04T17:00:00",
          "2022-12-04T18:00:00",
          "2022-12-04T19:00:00",
          "2022-12-04T20:00:00",
          "2022-12-04T21:00:00",
          "2022-12-04T22:00:00",
          "2022-12-04T23:00:00",
          "2022-12-05T00:00:00",
          "2022-12-05T01:00:00",
          "2022-12-05T02:00:00",
          "2022-12-05T03:00:00",
          "2022-12-05T04:00:00",
          "2022-12-05T05:00:00",
          "2022-12-05T06:00:00",
          "2022-12-05T07:00:00",
          "2022-12-05T08:00:00",
          "2022-12-05T09:00:00",
          "2022-12-05T10:00:00",
          "2022-12-05T11:00:00",
          "2022-12-05T12:00:00",
          "2022-12-05T13:00:00",
          "2022-12-05T14:00:00",
          "2022-12-05T15:00:00",
          "2022-12-05T16:00:00",
          "2022-12-05T17:00:00",
          "2022-12-05T18:00:00",
          "2022-12-05T19:00:00",
          "2022-12-05T20:00:00",
          "2022-12-05T21:00:00",
          "2022-12-05T22:00:00",
          "2022-12-05T23:00:00",
          "2022-12-06T00:00:00",
          "2022-12-06T01:00:00",
          "2022-12-06T02:00:00",
          "2022-12-06T03:00:00",
          "2022-12-06T04:00:00",
          "2022-12-06T05:00:00",
          "2022-12-06T06:00:00",
          "2022-12-06T07:00:00",
          "2022-12-06T08:00:00",
          "2022-12-06T09:00:00",
          "2022-12-06T10:00:00",
          "2022-12-06T11:00:00",
          "2022-12-06T12:00:00",
          "2022-12-06T13:00:00",
          "2022-12-06T14:00:00",
          "2022-12-06T15:00:00",
          "2022-12-06T16:00:00",
          "2022-12-06T17:00:00",
          "2022-12-06T18:00:00",
          "2022-12-06T19:00:00",
          "2022-12-06T20:00:00",
          "2022-12-06T21:00:00",
          "2022-12-06T22:00:00",
          "2022-12-06T23:00:00",
          "2022-12-07T00:00:00",
          "2022-12-07T01:00:00",
          "2022-12-07T02:00:00",
          "2022-12-07T03:00:00",
          "2022-12-07T04:00:00",
          "2022-12-07T05:00:00",
          "2022-12-07T06:00:00",
          "2022-12-07T07:00:00",
          "2022-12-07T08:00:00",
          "2022-12-07T09:00:00",
          "2022-12-07T10:00:00",
          "2022-12-07T11:00:00",
          "2022-12-07T12:00:00",
          "2022-12-07T13:00:00",
          "2022-12-07T14:00:00",
          "2022-12-07T15:00:00",
          "2022-12-07T16:00:00",
          "2022-12-07T17:00:00",
          "2022-12-07T18:00:00",
          "2022-12-07T19:00:00",
          "2022-12-07T20:00:00",
          "2022-12-07T21:00:00",
          "2022-12-07T22:00:00",
          "2022-12-07T23:00:00",
          "2022-12-08T00:00:00",
          "2022-12-08T01:00:00",
          "2022-12-08T02:00:00",
          "2022-12-08T03:00:00",
          "2022-12-08T04:00:00",
          "2022-12-08T05:00:00",
          "2022-12-08T06:00:00",
          "2022-12-08T07:00:00",
          "2022-12-08T08:00:00",
          "2022-12-08T09:00:00",
          "2022-12-08T10:00:00",
          "2022-12-08T11:00:00",
          "2022-12-08T12:00:00",
          "2022-12-08T13:00:00",
          "2022-12-08T14:00:00",
          "2022-12-08T15:00:00",
          "2022-12-08T16:00:00",
          "2022-12-08T17:00:00",
          "2022-12-08T18:00:00",
          "2022-12-08T19:00:00",
          "2022-12-08T20:00:00",
          "2022-12-08T21:00:00",
          "2022-12-08T22:00:00",
          "2022-12-08T23:00:00",
          "2022-12-09T00:00:00",
          "2022-12-09T01:00:00",
          "2022-12-09T02:00:00",
          "2022-12-09T03:00:00",
          "2022-12-09T04:00:00",
          "2022-12-09T05:00:00",
          "2022-12-09T06:00:00",
          "2022-12-09T07:00:00",
          "2022-12-09T08:00:00",
          "2022-12-09T09:00:00",
          "2022-12-09T10:00:00",
          "2022-12-09T11:00:00",
          "2022-12-09T12:00:00",
          "2022-12-09T13:00:00",
          "2022-12-09T14:00:00",
          "2022-12-09T15:00:00",
          "2022-12-09T16:00:00",
          "2022-12-09T17:00:00",
          "2022-12-09T18:00:00",
          "2022-12-09T19:00:00",
          "2022-12-09T20:00:00",
          "2022-12-09T21:00:00",
          "2022-12-09T22:00:00",
          "2022-12-09T23:00:00",
          "2022-12-10T00:00:00",
          "2022-12-10T01:00:00",
          "2022-12-10T02:00:00",
          "2022-12-10T03:00:00",
          "2022-12-10T04:00:00",
          "2022-12-10T05:00:00",
          "2022-12-10T06:00:00",
          "2022-12-10T07:00:00",
          "2022-12-10T08:00:00",
          "2022-12-10T09:00:00",
          "2022-12-10T10:00:00",
          "2022-12-10T11:00:00",
          "2022-12-10T12:00:00",
          "2022-12-10T13:00:00",
          "2022-12-10T14:00:00",
          "2022-12-10T15:00:00",
          "2022-12-10T16:00:00",
          "2022-12-10T17:00:00",
          "2022-12-10T18:00:00",
          "2022-12-10T19:00:00",
          "2022-12-10T20:00:00",
          "2022-12-10T21:00:00",
          "2022-12-10T22:00:00",
          "2022-12-10T23:00:00",
          "2022-12-11T00:00:00",
          "2022-12-11T01:00:00",
          "2022-12-11T02:00:00",
          "2022-12-11T03:00:00",
          "2022-12-11T04:00:00",
          "2022-12-11T05:00:00",
          "2022-12-11T06:00:00",
          "2022-12-11T07:00:00",
          "2022-12-11T08:00:00",
          "2022-12-11T09:00:00",
          "2022-12-11T10:00:00",
          "2022-12-11T11:00:00",
          "2022-12-11T12:00:00",
          "2022-12-11T13:00:00",
          "2022-12-11T14:00:00",
          "2022-12-11T15:00:00",
          "2022-12-11T16:00:00",
          "2022-12-11T17:00:00",
          "2022-12-11T18:00:00",
          "2022-12-11T19:00:00",
          "2022-12-11T20:00:00",
          "2022-12-11T21:00:00",
          "2022-12-11T22:00:00",
          "2022-12-11T23:00:00",
          "2022-12-12T00:00:00",
          "2022-12-12T01:00:00",
          "2022-12-12T02:00:00",
          "2022-12-12T03:00:00",
          "2022-12-12T04:00:00",
          "2022-12-12T05:00:00",
          "2022-12-12T06:00:00",
          "2022-12-12T07:00:00",
          "2022-12-12T08:00:00",
          "2022-12-12T09:00:00",
          "2022-12-12T10:00:00",
          "2022-12-12T11:00:00",
          "2022-12-12T12:00:00",
          "2022-12-12T13:00:00",
          "2022-12-12T14:00:00",
          "2022-12-12T15:00:00",
          "2022-12-12T16:00:00",
          "2022-12-12T17:00:00",
          "2022-12-12T18:00:00",
          "2022-12-12T19:00:00",
          "2022-12-12T20:00:00",
          "2022-12-12T21:00:00",
          "2022-12-12T22:00:00",
          "2022-12-12T23:00:00",
          "2022-12-13T00:00:00",
          "2022-12-13T01:00:00",
          "2022-12-13T02:00:00",
          "2022-12-13T03:00:00",
          "2022-12-13T04:00:00",
          "2022-12-13T05:00:00",
          "2022-12-13T06:00:00",
          "2022-12-13T07:00:00",
          "2022-12-13T08:00:00",
          "2022-12-13T09:00:00",
          "2022-12-13T10:00:00",
          "2022-12-13T11:00:00",
          "2022-12-13T12:00:00",
          "2022-12-13T13:00:00",
          "2022-12-13T14:00:00",
          "2022-12-13T15:00:00",
          "2022-12-13T16:00:00",
          "2022-12-13T17:00:00",
          "2022-12-13T18:00:00",
          "2022-12-13T19:00:00",
          "2022-12-13T20:00:00",
          "2022-12-13T21:00:00",
          "2022-12-13T22:00:00",
          "2022-12-13T23:00:00",
          "2022-12-14T00:00:00",
          "2022-12-14T01:00:00",
          "2022-12-14T02:00:00",
          "2022-12-14T03:00:00",
          "2022-12-14T04:00:00",
          "2022-12-14T05:00:00",
          "2022-12-14T06:00:00",
          "2022-12-14T07:00:00",
          "2022-12-14T08:00:00",
          "2022-12-14T09:00:00",
          "2022-12-14T10:00:00",
          "2022-12-14T11:00:00",
          "2022-12-14T12:00:00",
          "2022-12-14T13:00:00",
          "2022-12-14T14:00:00",
          "2022-12-14T15:00:00",
          "2022-12-14T16:00:00",
          "2022-12-14T17:00:00",
          "2022-12-14T18:00:00",
          "2022-12-14T19:00:00",
          "2022-12-14T20:00:00",
          "2022-12-14T21:00:00",
          "2022-12-14T22:00:00",
          "2022-12-14T23:00:00",
          "2022-12-15T00:00:00"
         ],
         "xaxis": "x",
         "y": [
          0,
          4,
          0,
          0,
          0,
          0,
          0,
          1,
          0,
          0,
          0,
          0,
          0,
          0,
          0,
          1,
          1,
          0,
          0,
          0,
          0,
          0,
          0,
          0,
          0,
          0,
          0,
          0,
          0,
          0,
          0,
          0,
          0,
          0,
          0,
          0,
          0,
          0,
          1,
          0,
          0,
          0,
          0,
          0,
          1,
          0,
          0,
          0,
          0,
          0,
          0,
          0,
          0,
          1,
          0,
          0,
          0,
          0,
          0,
          0,
          0,
          0,
          0,
          1,
          0,
          1,
          1,
          0,
          1,
          1,
          0,
          0,
          0,
          1,
          1,
          0,
          0,
          0,
          0,
          0,
          0,
          0,
          0,
          0,
          0,
          0,
          0,
          0,
          0,
          0,
          0,
          0,
          1,
          1,
          0,
          0,
          1,
          0,
          0,
          1,
          0,
          0,
          0,
          1,
          0,
          0,
          0,
          1,
          0,
          1,
          0,
          2,
          0,
          0,
          0,
          0,
          1,
          0,
          0,
          0,
          0,
          0,
          0,
          1,
          0,
          0,
          1,
          1,
          0,
          0,
          0,
          0,
          0,
          0,
          0,
          0,
          0,
          0,
          1,
          0,
          0,
          0,
          0,
          0,
          0,
          0,
          0,
          0,
          1,
          0,
          0,
          1,
          0,
          0,
          1,
          0,
          1,
          1,
          0,
          0,
          0,
          0,
          0,
          0,
          0,
          1,
          0,
          0,
          0,
          0,
          0,
          0,
          0,
          1,
          1,
          0,
          0,
          0,
          0,
          0,
          0,
          1,
          0,
          0,
          0,
          0,
          0,
          1,
          1,
          0,
          1,
          0,
          1,
          0,
          0,
          0,
          0,
          0,
          0,
          0,
          0,
          0,
          0,
          0,
          0,
          0,
          0,
          0,
          1,
          0,
          0,
          0,
          1,
          0,
          0,
          0,
          1,
          0,
          0,
          1,
          0,
          0,
          0,
          0,
          0,
          0,
          0,
          0,
          0,
          0,
          1,
          1,
          0,
          0,
          0,
          0,
          1,
          0,
          0,
          0,
          0,
          0,
          0,
          1,
          1,
          0,
          0,
          0,
          0,
          0,
          0,
          0,
          0,
          0,
          0,
          0,
          0,
          1,
          0,
          0,
          0,
          0,
          0,
          0,
          0,
          0,
          0,
          0,
          0,
          0,
          0,
          0,
          0,
          0,
          0,
          0,
          2,
          3,
          0,
          0,
          0,
          0,
          0,
          0,
          0,
          0,
          0,
          0,
          1,
          0,
          0,
          1,
          0,
          0,
          0,
          0,
          0,
          0,
          0,
          0,
          0,
          0,
          0,
          0,
          0,
          0,
          0,
          1,
          0,
          0,
          0,
          0,
          0,
          0,
          0,
          1,
          0,
          0,
          0,
          1,
          0,
          1,
          0,
          0,
          1,
          0,
          0,
          0,
          0,
          1,
          0,
          0,
          0,
          0,
          0,
          0,
          0,
          0,
          0,
          0,
          0,
          0,
          1,
          1,
          1,
          0,
          1,
          0,
          4,
          0,
          2,
          1,
          1,
          0,
          0,
          1,
          0,
          0,
          0,
          1,
          0,
          0,
          1,
          0,
          0,
          0,
          1,
          1,
          0,
          0,
          0,
          0,
          2,
          0,
          0,
          0,
          0,
          0,
          0,
          0,
          0,
          0,
          0,
          0,
          0,
          1,
          0,
          1,
          1,
          0,
          1,
          0,
          0,
          0,
          1,
          1,
          0,
          0,
          0,
          2,
          0,
          0,
          0,
          0,
          0,
          0,
          0,
          0,
          0,
          0,
          2,
          0,
          1,
          0,
          0,
          0,
          0,
          0,
          0,
          0,
          0,
          0,
          0,
          0,
          0,
          0,
          2,
          0,
          0,
          1,
          0,
          0,
          0,
          0,
          0,
          0,
          1,
          0,
          0,
          1,
          1,
          0,
          0,
          0,
          1,
          2,
          1,
          1,
          1,
          0,
          0,
          1,
          0,
          0,
          0,
          0,
          0,
          0,
          0,
          0,
          1,
          0,
          1,
          0,
          0,
          0,
          0,
          0,
          0,
          1,
          0,
          1,
          0,
          0,
          1,
          0,
          0,
          0,
          1,
          0,
          0,
          3,
          0,
          0,
          2,
          0,
          1,
          2,
          1,
          0,
          0,
          1,
          0,
          0,
          0,
          2,
          0,
          0,
          0,
          0,
          0,
          0,
          2,
          0,
          0,
          1,
          0,
          0,
          1,
          0,
          0,
          3,
          0,
          0,
          0,
          0,
          1,
          0,
          0,
          1,
          0,
          1,
          1,
          1,
          0,
          1,
          1,
          0,
          1,
          2,
          0,
          0,
          0,
          0,
          0,
          0,
          0,
          0,
          0,
          1,
          1,
          0,
          0,
          1,
          1,
          0,
          0,
          0,
          1,
          0,
          0,
          0,
          0,
          0,
          1,
          0,
          1,
          0,
          0,
          0,
          0,
          0,
          0,
          0,
          0,
          1,
          0,
          0,
          1,
          0,
          0,
          0,
          0,
          0,
          0,
          0,
          0,
          1,
          0,
          0,
          2,
          0,
          0,
          0,
          0,
          0,
          0,
          0,
          0,
          0,
          0,
          0,
          1,
          0,
          0,
          0,
          0,
          0,
          0,
          0,
          0,
          0,
          0,
          0,
          1,
          1,
          0,
          0,
          0,
          0,
          0,
          0,
          2,
          0,
          1,
          0,
          0,
          0,
          0,
          0,
          0,
          0,
          0,
          1,
          0,
          0,
          0,
          0,
          1,
          0,
          0,
          0,
          1,
          0,
          2,
          2,
          0,
          0,
          1,
          1,
          1,
          1,
          0,
          0,
          0,
          0,
          0,
          1,
          0,
          0,
          0,
          0,
          1,
          0,
          0,
          0,
          1,
          0,
          0,
          1,
          0,
          0,
          2,
          0,
          1,
          0,
          0,
          0,
          0,
          1,
          0,
          2,
          2
         ],
         "yaxis": "y"
        },
        {
         "line": {
          "color": "green"
         },
         "marker": {
          "size": 10
         },
         "mode": "markers",
         "name": "actual value",
         "type": "scatter",
         "x": [
          "2022-12-15T00:00:00"
         ],
         "y": [
          2
         ]
        },
        {
         "line": {
          "color": "red"
         },
         "marker": {
          "size": 15,
          "symbol": "x"
         },
         "mode": "markers",
         "name": "prediction",
         "type": "scatter",
         "x": [
          "2022-12-15T00:00:00"
         ],
         "y": [
          0.45280171882826814
         ]
        }
       ],
       "layout": {
        "legend": {
         "tracegroupgap": 0
        },
        "template": {
         "data": {
          "bar": [
           {
            "error_x": {
             "color": "#f2f5fa"
            },
            "error_y": {
             "color": "#f2f5fa"
            },
            "marker": {
             "line": {
              "color": "rgb(17,17,17)",
              "width": 0.5
             },
             "pattern": {
              "fillmode": "overlay",
              "size": 10,
              "solidity": 0.2
             }
            },
            "type": "bar"
           }
          ],
          "barpolar": [
           {
            "marker": {
             "line": {
              "color": "rgb(17,17,17)",
              "width": 0.5
             },
             "pattern": {
              "fillmode": "overlay",
              "size": 10,
              "solidity": 0.2
             }
            },
            "type": "barpolar"
           }
          ],
          "carpet": [
           {
            "aaxis": {
             "endlinecolor": "#A2B1C6",
             "gridcolor": "#506784",
             "linecolor": "#506784",
             "minorgridcolor": "#506784",
             "startlinecolor": "#A2B1C6"
            },
            "baxis": {
             "endlinecolor": "#A2B1C6",
             "gridcolor": "#506784",
             "linecolor": "#506784",
             "minorgridcolor": "#506784",
             "startlinecolor": "#A2B1C6"
            },
            "type": "carpet"
           }
          ],
          "choropleth": [
           {
            "colorbar": {
             "outlinewidth": 0,
             "ticks": ""
            },
            "type": "choropleth"
           }
          ],
          "contour": [
           {
            "colorbar": {
             "outlinewidth": 0,
             "ticks": ""
            },
            "colorscale": [
             [
              0,
              "#0d0887"
             ],
             [
              0.1111111111111111,
              "#46039f"
             ],
             [
              0.2222222222222222,
              "#7201a8"
             ],
             [
              0.3333333333333333,
              "#9c179e"
             ],
             [
              0.4444444444444444,
              "#bd3786"
             ],
             [
              0.5555555555555556,
              "#d8576b"
             ],
             [
              0.6666666666666666,
              "#ed7953"
             ],
             [
              0.7777777777777778,
              "#fb9f3a"
             ],
             [
              0.8888888888888888,
              "#fdca26"
             ],
             [
              1,
              "#f0f921"
             ]
            ],
            "type": "contour"
           }
          ],
          "contourcarpet": [
           {
            "colorbar": {
             "outlinewidth": 0,
             "ticks": ""
            },
            "type": "contourcarpet"
           }
          ],
          "heatmap": [
           {
            "colorbar": {
             "outlinewidth": 0,
             "ticks": ""
            },
            "colorscale": [
             [
              0,
              "#0d0887"
             ],
             [
              0.1111111111111111,
              "#46039f"
             ],
             [
              0.2222222222222222,
              "#7201a8"
             ],
             [
              0.3333333333333333,
              "#9c179e"
             ],
             [
              0.4444444444444444,
              "#bd3786"
             ],
             [
              0.5555555555555556,
              "#d8576b"
             ],
             [
              0.6666666666666666,
              "#ed7953"
             ],
             [
              0.7777777777777778,
              "#fb9f3a"
             ],
             [
              0.8888888888888888,
              "#fdca26"
             ],
             [
              1,
              "#f0f921"
             ]
            ],
            "type": "heatmap"
           }
          ],
          "heatmapgl": [
           {
            "colorbar": {
             "outlinewidth": 0,
             "ticks": ""
            },
            "colorscale": [
             [
              0,
              "#0d0887"
             ],
             [
              0.1111111111111111,
              "#46039f"
             ],
             [
              0.2222222222222222,
              "#7201a8"
             ],
             [
              0.3333333333333333,
              "#9c179e"
             ],
             [
              0.4444444444444444,
              "#bd3786"
             ],
             [
              0.5555555555555556,
              "#d8576b"
             ],
             [
              0.6666666666666666,
              "#ed7953"
             ],
             [
              0.7777777777777778,
              "#fb9f3a"
             ],
             [
              0.8888888888888888,
              "#fdca26"
             ],
             [
              1,
              "#f0f921"
             ]
            ],
            "type": "heatmapgl"
           }
          ],
          "histogram": [
           {
            "marker": {
             "pattern": {
              "fillmode": "overlay",
              "size": 10,
              "solidity": 0.2
             }
            },
            "type": "histogram"
           }
          ],
          "histogram2d": [
           {
            "colorbar": {
             "outlinewidth": 0,
             "ticks": ""
            },
            "colorscale": [
             [
              0,
              "#0d0887"
             ],
             [
              0.1111111111111111,
              "#46039f"
             ],
             [
              0.2222222222222222,
              "#7201a8"
             ],
             [
              0.3333333333333333,
              "#9c179e"
             ],
             [
              0.4444444444444444,
              "#bd3786"
             ],
             [
              0.5555555555555556,
              "#d8576b"
             ],
             [
              0.6666666666666666,
              "#ed7953"
             ],
             [
              0.7777777777777778,
              "#fb9f3a"
             ],
             [
              0.8888888888888888,
              "#fdca26"
             ],
             [
              1,
              "#f0f921"
             ]
            ],
            "type": "histogram2d"
           }
          ],
          "histogram2dcontour": [
           {
            "colorbar": {
             "outlinewidth": 0,
             "ticks": ""
            },
            "colorscale": [
             [
              0,
              "#0d0887"
             ],
             [
              0.1111111111111111,
              "#46039f"
             ],
             [
              0.2222222222222222,
              "#7201a8"
             ],
             [
              0.3333333333333333,
              "#9c179e"
             ],
             [
              0.4444444444444444,
              "#bd3786"
             ],
             [
              0.5555555555555556,
              "#d8576b"
             ],
             [
              0.6666666666666666,
              "#ed7953"
             ],
             [
              0.7777777777777778,
              "#fb9f3a"
             ],
             [
              0.8888888888888888,
              "#fdca26"
             ],
             [
              1,
              "#f0f921"
             ]
            ],
            "type": "histogram2dcontour"
           }
          ],
          "mesh3d": [
           {
            "colorbar": {
             "outlinewidth": 0,
             "ticks": ""
            },
            "type": "mesh3d"
           }
          ],
          "parcoords": [
           {
            "line": {
             "colorbar": {
              "outlinewidth": 0,
              "ticks": ""
             }
            },
            "type": "parcoords"
           }
          ],
          "pie": [
           {
            "automargin": true,
            "type": "pie"
           }
          ],
          "scatter": [
           {
            "marker": {
             "line": {
              "color": "#283442"
             }
            },
            "type": "scatter"
           }
          ],
          "scatter3d": [
           {
            "line": {
             "colorbar": {
              "outlinewidth": 0,
              "ticks": ""
             }
            },
            "marker": {
             "colorbar": {
              "outlinewidth": 0,
              "ticks": ""
             }
            },
            "type": "scatter3d"
           }
          ],
          "scattercarpet": [
           {
            "marker": {
             "colorbar": {
              "outlinewidth": 0,
              "ticks": ""
             }
            },
            "type": "scattercarpet"
           }
          ],
          "scattergeo": [
           {
            "marker": {
             "colorbar": {
              "outlinewidth": 0,
              "ticks": ""
             }
            },
            "type": "scattergeo"
           }
          ],
          "scattergl": [
           {
            "marker": {
             "line": {
              "color": "#283442"
             }
            },
            "type": "scattergl"
           }
          ],
          "scattermapbox": [
           {
            "marker": {
             "colorbar": {
              "outlinewidth": 0,
              "ticks": ""
             }
            },
            "type": "scattermapbox"
           }
          ],
          "scatterpolar": [
           {
            "marker": {
             "colorbar": {
              "outlinewidth": 0,
              "ticks": ""
             }
            },
            "type": "scatterpolar"
           }
          ],
          "scatterpolargl": [
           {
            "marker": {
             "colorbar": {
              "outlinewidth": 0,
              "ticks": ""
             }
            },
            "type": "scatterpolargl"
           }
          ],
          "scatterternary": [
           {
            "marker": {
             "colorbar": {
              "outlinewidth": 0,
              "ticks": ""
             }
            },
            "type": "scatterternary"
           }
          ],
          "surface": [
           {
            "colorbar": {
             "outlinewidth": 0,
             "ticks": ""
            },
            "colorscale": [
             [
              0,
              "#0d0887"
             ],
             [
              0.1111111111111111,
              "#46039f"
             ],
             [
              0.2222222222222222,
              "#7201a8"
             ],
             [
              0.3333333333333333,
              "#9c179e"
             ],
             [
              0.4444444444444444,
              "#bd3786"
             ],
             [
              0.5555555555555556,
              "#d8576b"
             ],
             [
              0.6666666666666666,
              "#ed7953"
             ],
             [
              0.7777777777777778,
              "#fb9f3a"
             ],
             [
              0.8888888888888888,
              "#fdca26"
             ],
             [
              1,
              "#f0f921"
             ]
            ],
            "type": "surface"
           }
          ],
          "table": [
           {
            "cells": {
             "fill": {
              "color": "#506784"
             },
             "line": {
              "color": "rgb(17,17,17)"
             }
            },
            "header": {
             "fill": {
              "color": "#2a3f5f"
             },
             "line": {
              "color": "rgb(17,17,17)"
             }
            },
            "type": "table"
           }
          ]
         },
         "layout": {
          "annotationdefaults": {
           "arrowcolor": "#f2f5fa",
           "arrowhead": 0,
           "arrowwidth": 1
          },
          "autotypenumbers": "strict",
          "coloraxis": {
           "colorbar": {
            "outlinewidth": 0,
            "ticks": ""
           }
          },
          "colorscale": {
           "diverging": [
            [
             0,
             "#8e0152"
            ],
            [
             0.1,
             "#c51b7d"
            ],
            [
             0.2,
             "#de77ae"
            ],
            [
             0.3,
             "#f1b6da"
            ],
            [
             0.4,
             "#fde0ef"
            ],
            [
             0.5,
             "#f7f7f7"
            ],
            [
             0.6,
             "#e6f5d0"
            ],
            [
             0.7,
             "#b8e186"
            ],
            [
             0.8,
             "#7fbc41"
            ],
            [
             0.9,
             "#4d9221"
            ],
            [
             1,
             "#276419"
            ]
           ],
           "sequential": [
            [
             0,
             "#0d0887"
            ],
            [
             0.1111111111111111,
             "#46039f"
            ],
            [
             0.2222222222222222,
             "#7201a8"
            ],
            [
             0.3333333333333333,
             "#9c179e"
            ],
            [
             0.4444444444444444,
             "#bd3786"
            ],
            [
             0.5555555555555556,
             "#d8576b"
            ],
            [
             0.6666666666666666,
             "#ed7953"
            ],
            [
             0.7777777777777778,
             "#fb9f3a"
            ],
            [
             0.8888888888888888,
             "#fdca26"
            ],
            [
             1,
             "#f0f921"
            ]
           ],
           "sequentialminus": [
            [
             0,
             "#0d0887"
            ],
            [
             0.1111111111111111,
             "#46039f"
            ],
            [
             0.2222222222222222,
             "#7201a8"
            ],
            [
             0.3333333333333333,
             "#9c179e"
            ],
            [
             0.4444444444444444,
             "#bd3786"
            ],
            [
             0.5555555555555556,
             "#d8576b"
            ],
            [
             0.6666666666666666,
             "#ed7953"
            ],
            [
             0.7777777777777778,
             "#fb9f3a"
            ],
            [
             0.8888888888888888,
             "#fdca26"
            ],
            [
             1,
             "#f0f921"
            ]
           ]
          },
          "colorway": [
           "#636efa",
           "#EF553B",
           "#00cc96",
           "#ab63fa",
           "#FFA15A",
           "#19d3f3",
           "#FF6692",
           "#B6E880",
           "#FF97FF",
           "#FECB52"
          ],
          "font": {
           "color": "#f2f5fa"
          },
          "geo": {
           "bgcolor": "rgb(17,17,17)",
           "lakecolor": "rgb(17,17,17)",
           "landcolor": "rgb(17,17,17)",
           "showlakes": true,
           "showland": true,
           "subunitcolor": "#506784"
          },
          "hoverlabel": {
           "align": "left"
          },
          "hovermode": "closest",
          "mapbox": {
           "style": "dark"
          },
          "paper_bgcolor": "rgb(17,17,17)",
          "plot_bgcolor": "rgb(17,17,17)",
          "polar": {
           "angularaxis": {
            "gridcolor": "#506784",
            "linecolor": "#506784",
            "ticks": ""
           },
           "bgcolor": "rgb(17,17,17)",
           "radialaxis": {
            "gridcolor": "#506784",
            "linecolor": "#506784",
            "ticks": ""
           }
          },
          "scene": {
           "xaxis": {
            "backgroundcolor": "rgb(17,17,17)",
            "gridcolor": "#506784",
            "gridwidth": 2,
            "linecolor": "#506784",
            "showbackground": true,
            "ticks": "",
            "zerolinecolor": "#C8D4E3"
           },
           "yaxis": {
            "backgroundcolor": "rgb(17,17,17)",
            "gridcolor": "#506784",
            "gridwidth": 2,
            "linecolor": "#506784",
            "showbackground": true,
            "ticks": "",
            "zerolinecolor": "#C8D4E3"
           },
           "zaxis": {
            "backgroundcolor": "rgb(17,17,17)",
            "gridcolor": "#506784",
            "gridwidth": 2,
            "linecolor": "#506784",
            "showbackground": true,
            "ticks": "",
            "zerolinecolor": "#C8D4E3"
           }
          },
          "shapedefaults": {
           "line": {
            "color": "#f2f5fa"
           }
          },
          "sliderdefaults": {
           "bgcolor": "#C8D4E3",
           "bordercolor": "rgb(17,17,17)",
           "borderwidth": 1,
           "tickwidth": 0
          },
          "ternary": {
           "aaxis": {
            "gridcolor": "#506784",
            "linecolor": "#506784",
            "ticks": ""
           },
           "baxis": {
            "gridcolor": "#506784",
            "linecolor": "#506784",
            "ticks": ""
           },
           "bgcolor": "rgb(17,17,17)",
           "caxis": {
            "gridcolor": "#506784",
            "linecolor": "#506784",
            "ticks": ""
           }
          },
          "title": {
           "x": 0.05
          },
          "updatemenudefaults": {
           "bgcolor": "#506784",
           "borderwidth": 0
          },
          "xaxis": {
           "automargin": true,
           "gridcolor": "#283442",
           "linecolor": "#506784",
           "ticks": "",
           "title": {
            "standoff": 15
           },
           "zerolinecolor": "#283442",
           "zerolinewidth": 2
          },
          "yaxis": {
           "automargin": true,
           "gridcolor": "#283442",
           "linecolor": "#506784",
           "ticks": "",
           "title": {
            "standoff": 15
           },
           "zerolinecolor": "#283442",
           "zerolinewidth": 2
          }
         }
        },
        "title": {
         "text": "Pick up hour=2022-12-15 00:00:00, location_id=14"
        },
        "xaxis": {
         "anchor": "y",
         "domain": [
          0,
          1
         ],
         "title": {
          "text": "x"
         }
        },
        "yaxis": {
         "anchor": "x",
         "domain": [
          0,
          1
         ],
         "title": {
          "text": "y"
         }
        }
       }
      }
     },
     "metadata": {},
     "output_type": "display_data"
    }
   ],
   "source": [
    "from src.plot import plot_one_sample\n",
    "\n",
    "plot_one_sample(\n",
    "    example_id=2979,\n",
    "    features=X_test,\n",
    "    targets=y_test,\n",
    "    predictions=pd.Series(predictions)\n",
    ")"
   ]
  },
  {
   "cell_type": "code",
   "execution_count": 15,
   "metadata": {},
   "outputs": [
    {
     "data": {
      "application/vnd.plotly.v1+json": {
       "config": {
        "plotlyServerURL": "https://plot.ly"
       },
       "data": [
        {
         "hovertemplate": "x=%{x}<br>y=%{y}<extra></extra>",
         "legendgroup": "",
         "line": {
          "color": "#636efa",
          "dash": "solid"
         },
         "marker": {
          "symbol": "circle"
         },
         "mode": "markers+lines",
         "name": "",
         "orientation": "v",
         "showlegend": false,
         "type": "scatter",
         "x": [
          "2022-09-08T00:00:00",
          "2022-09-08T01:00:00",
          "2022-09-08T02:00:00",
          "2022-09-08T03:00:00",
          "2022-09-08T04:00:00",
          "2022-09-08T05:00:00",
          "2022-09-08T06:00:00",
          "2022-09-08T07:00:00",
          "2022-09-08T08:00:00",
          "2022-09-08T09:00:00",
          "2022-09-08T10:00:00",
          "2022-09-08T11:00:00",
          "2022-09-08T12:00:00",
          "2022-09-08T13:00:00",
          "2022-09-08T14:00:00",
          "2022-09-08T15:00:00",
          "2022-09-08T16:00:00",
          "2022-09-08T17:00:00",
          "2022-09-08T18:00:00",
          "2022-09-08T19:00:00",
          "2022-09-08T20:00:00",
          "2022-09-08T21:00:00",
          "2022-09-08T22:00:00",
          "2022-09-08T23:00:00",
          "2022-09-09T00:00:00",
          "2022-09-09T01:00:00",
          "2022-09-09T02:00:00",
          "2022-09-09T03:00:00",
          "2022-09-09T04:00:00",
          "2022-09-09T05:00:00",
          "2022-09-09T06:00:00",
          "2022-09-09T07:00:00",
          "2022-09-09T08:00:00",
          "2022-09-09T09:00:00",
          "2022-09-09T10:00:00",
          "2022-09-09T11:00:00",
          "2022-09-09T12:00:00",
          "2022-09-09T13:00:00",
          "2022-09-09T14:00:00",
          "2022-09-09T15:00:00",
          "2022-09-09T16:00:00",
          "2022-09-09T17:00:00",
          "2022-09-09T18:00:00",
          "2022-09-09T19:00:00",
          "2022-09-09T20:00:00",
          "2022-09-09T21:00:00",
          "2022-09-09T22:00:00",
          "2022-09-09T23:00:00",
          "2022-09-10T00:00:00",
          "2022-09-10T01:00:00",
          "2022-09-10T02:00:00",
          "2022-09-10T03:00:00",
          "2022-09-10T04:00:00",
          "2022-09-10T05:00:00",
          "2022-09-10T06:00:00",
          "2022-09-10T07:00:00",
          "2022-09-10T08:00:00",
          "2022-09-10T09:00:00",
          "2022-09-10T10:00:00",
          "2022-09-10T11:00:00",
          "2022-09-10T12:00:00",
          "2022-09-10T13:00:00",
          "2022-09-10T14:00:00",
          "2022-09-10T15:00:00",
          "2022-09-10T16:00:00",
          "2022-09-10T17:00:00",
          "2022-09-10T18:00:00",
          "2022-09-10T19:00:00",
          "2022-09-10T20:00:00",
          "2022-09-10T21:00:00",
          "2022-09-10T22:00:00",
          "2022-09-10T23:00:00",
          "2022-09-11T00:00:00",
          "2022-09-11T01:00:00",
          "2022-09-11T02:00:00",
          "2022-09-11T03:00:00",
          "2022-09-11T04:00:00",
          "2022-09-11T05:00:00",
          "2022-09-11T06:00:00",
          "2022-09-11T07:00:00",
          "2022-09-11T08:00:00",
          "2022-09-11T09:00:00",
          "2022-09-11T10:00:00",
          "2022-09-11T11:00:00",
          "2022-09-11T12:00:00",
          "2022-09-11T13:00:00",
          "2022-09-11T14:00:00",
          "2022-09-11T15:00:00",
          "2022-09-11T16:00:00",
          "2022-09-11T17:00:00",
          "2022-09-11T18:00:00",
          "2022-09-11T19:00:00",
          "2022-09-11T20:00:00",
          "2022-09-11T21:00:00",
          "2022-09-11T22:00:00",
          "2022-09-11T23:00:00",
          "2022-09-12T00:00:00",
          "2022-09-12T01:00:00",
          "2022-09-12T02:00:00",
          "2022-09-12T03:00:00",
          "2022-09-12T04:00:00",
          "2022-09-12T05:00:00",
          "2022-09-12T06:00:00",
          "2022-09-12T07:00:00",
          "2022-09-12T08:00:00",
          "2022-09-12T09:00:00",
          "2022-09-12T10:00:00",
          "2022-09-12T11:00:00",
          "2022-09-12T12:00:00",
          "2022-09-12T13:00:00",
          "2022-09-12T14:00:00",
          "2022-09-12T15:00:00",
          "2022-09-12T16:00:00",
          "2022-09-12T17:00:00",
          "2022-09-12T18:00:00",
          "2022-09-12T19:00:00",
          "2022-09-12T20:00:00",
          "2022-09-12T21:00:00",
          "2022-09-12T22:00:00",
          "2022-09-12T23:00:00",
          "2022-09-13T00:00:00",
          "2022-09-13T01:00:00",
          "2022-09-13T02:00:00",
          "2022-09-13T03:00:00",
          "2022-09-13T04:00:00",
          "2022-09-13T05:00:00",
          "2022-09-13T06:00:00",
          "2022-09-13T07:00:00",
          "2022-09-13T08:00:00",
          "2022-09-13T09:00:00",
          "2022-09-13T10:00:00",
          "2022-09-13T11:00:00",
          "2022-09-13T12:00:00",
          "2022-09-13T13:00:00",
          "2022-09-13T14:00:00",
          "2022-09-13T15:00:00",
          "2022-09-13T16:00:00",
          "2022-09-13T17:00:00",
          "2022-09-13T18:00:00",
          "2022-09-13T19:00:00",
          "2022-09-13T20:00:00",
          "2022-09-13T21:00:00",
          "2022-09-13T22:00:00",
          "2022-09-13T23:00:00",
          "2022-09-14T00:00:00",
          "2022-09-14T01:00:00",
          "2022-09-14T02:00:00",
          "2022-09-14T03:00:00",
          "2022-09-14T04:00:00",
          "2022-09-14T05:00:00",
          "2022-09-14T06:00:00",
          "2022-09-14T07:00:00",
          "2022-09-14T08:00:00",
          "2022-09-14T09:00:00",
          "2022-09-14T10:00:00",
          "2022-09-14T11:00:00",
          "2022-09-14T12:00:00",
          "2022-09-14T13:00:00",
          "2022-09-14T14:00:00",
          "2022-09-14T15:00:00",
          "2022-09-14T16:00:00",
          "2022-09-14T17:00:00",
          "2022-09-14T18:00:00",
          "2022-09-14T19:00:00",
          "2022-09-14T20:00:00",
          "2022-09-14T21:00:00",
          "2022-09-14T22:00:00",
          "2022-09-14T23:00:00",
          "2022-09-15T00:00:00",
          "2022-09-15T01:00:00",
          "2022-09-15T02:00:00",
          "2022-09-15T03:00:00",
          "2022-09-15T04:00:00",
          "2022-09-15T05:00:00",
          "2022-09-15T06:00:00",
          "2022-09-15T07:00:00",
          "2022-09-15T08:00:00",
          "2022-09-15T09:00:00",
          "2022-09-15T10:00:00",
          "2022-09-15T11:00:00",
          "2022-09-15T12:00:00",
          "2022-09-15T13:00:00",
          "2022-09-15T14:00:00",
          "2022-09-15T15:00:00",
          "2022-09-15T16:00:00",
          "2022-09-15T17:00:00",
          "2022-09-15T18:00:00",
          "2022-09-15T19:00:00",
          "2022-09-15T20:00:00",
          "2022-09-15T21:00:00",
          "2022-09-15T22:00:00",
          "2022-09-15T23:00:00",
          "2022-09-16T00:00:00",
          "2022-09-16T01:00:00",
          "2022-09-16T02:00:00",
          "2022-09-16T03:00:00",
          "2022-09-16T04:00:00",
          "2022-09-16T05:00:00",
          "2022-09-16T06:00:00",
          "2022-09-16T07:00:00",
          "2022-09-16T08:00:00",
          "2022-09-16T09:00:00",
          "2022-09-16T10:00:00",
          "2022-09-16T11:00:00",
          "2022-09-16T12:00:00",
          "2022-09-16T13:00:00",
          "2022-09-16T14:00:00",
          "2022-09-16T15:00:00",
          "2022-09-16T16:00:00",
          "2022-09-16T17:00:00",
          "2022-09-16T18:00:00",
          "2022-09-16T19:00:00",
          "2022-09-16T20:00:00",
          "2022-09-16T21:00:00",
          "2022-09-16T22:00:00",
          "2022-09-16T23:00:00",
          "2022-09-17T00:00:00",
          "2022-09-17T01:00:00",
          "2022-09-17T02:00:00",
          "2022-09-17T03:00:00",
          "2022-09-17T04:00:00",
          "2022-09-17T05:00:00",
          "2022-09-17T06:00:00",
          "2022-09-17T07:00:00",
          "2022-09-17T08:00:00",
          "2022-09-17T09:00:00",
          "2022-09-17T10:00:00",
          "2022-09-17T11:00:00",
          "2022-09-17T12:00:00",
          "2022-09-17T13:00:00",
          "2022-09-17T14:00:00",
          "2022-09-17T15:00:00",
          "2022-09-17T16:00:00",
          "2022-09-17T17:00:00",
          "2022-09-17T18:00:00",
          "2022-09-17T19:00:00",
          "2022-09-17T20:00:00",
          "2022-09-17T21:00:00",
          "2022-09-17T22:00:00",
          "2022-09-17T23:00:00",
          "2022-09-18T00:00:00",
          "2022-09-18T01:00:00",
          "2022-09-18T02:00:00",
          "2022-09-18T03:00:00",
          "2022-09-18T04:00:00",
          "2022-09-18T05:00:00",
          "2022-09-18T06:00:00",
          "2022-09-18T07:00:00",
          "2022-09-18T08:00:00",
          "2022-09-18T09:00:00",
          "2022-09-18T10:00:00",
          "2022-09-18T11:00:00",
          "2022-09-18T12:00:00",
          "2022-09-18T13:00:00",
          "2022-09-18T14:00:00",
          "2022-09-18T15:00:00",
          "2022-09-18T16:00:00",
          "2022-09-18T17:00:00",
          "2022-09-18T18:00:00",
          "2022-09-18T19:00:00",
          "2022-09-18T20:00:00",
          "2022-09-18T21:00:00",
          "2022-09-18T22:00:00",
          "2022-09-18T23:00:00",
          "2022-09-19T00:00:00",
          "2022-09-19T01:00:00",
          "2022-09-19T02:00:00",
          "2022-09-19T03:00:00",
          "2022-09-19T04:00:00",
          "2022-09-19T05:00:00",
          "2022-09-19T06:00:00",
          "2022-09-19T07:00:00",
          "2022-09-19T08:00:00",
          "2022-09-19T09:00:00",
          "2022-09-19T10:00:00",
          "2022-09-19T11:00:00",
          "2022-09-19T12:00:00",
          "2022-09-19T13:00:00",
          "2022-09-19T14:00:00",
          "2022-09-19T15:00:00",
          "2022-09-19T16:00:00",
          "2022-09-19T17:00:00",
          "2022-09-19T18:00:00",
          "2022-09-19T19:00:00",
          "2022-09-19T20:00:00",
          "2022-09-19T21:00:00",
          "2022-09-19T22:00:00",
          "2022-09-19T23:00:00",
          "2022-09-20T00:00:00",
          "2022-09-20T01:00:00",
          "2022-09-20T02:00:00",
          "2022-09-20T03:00:00",
          "2022-09-20T04:00:00",
          "2022-09-20T05:00:00",
          "2022-09-20T06:00:00",
          "2022-09-20T07:00:00",
          "2022-09-20T08:00:00",
          "2022-09-20T09:00:00",
          "2022-09-20T10:00:00",
          "2022-09-20T11:00:00",
          "2022-09-20T12:00:00",
          "2022-09-20T13:00:00",
          "2022-09-20T14:00:00",
          "2022-09-20T15:00:00",
          "2022-09-20T16:00:00",
          "2022-09-20T17:00:00",
          "2022-09-20T18:00:00",
          "2022-09-20T19:00:00",
          "2022-09-20T20:00:00",
          "2022-09-20T21:00:00",
          "2022-09-20T22:00:00",
          "2022-09-20T23:00:00",
          "2022-09-21T00:00:00",
          "2022-09-21T01:00:00",
          "2022-09-21T02:00:00",
          "2022-09-21T03:00:00",
          "2022-09-21T04:00:00",
          "2022-09-21T05:00:00",
          "2022-09-21T06:00:00",
          "2022-09-21T07:00:00",
          "2022-09-21T08:00:00",
          "2022-09-21T09:00:00",
          "2022-09-21T10:00:00",
          "2022-09-21T11:00:00",
          "2022-09-21T12:00:00",
          "2022-09-21T13:00:00",
          "2022-09-21T14:00:00",
          "2022-09-21T15:00:00",
          "2022-09-21T16:00:00",
          "2022-09-21T17:00:00",
          "2022-09-21T18:00:00",
          "2022-09-21T19:00:00",
          "2022-09-21T20:00:00",
          "2022-09-21T21:00:00",
          "2022-09-21T22:00:00",
          "2022-09-21T23:00:00",
          "2022-09-22T00:00:00",
          "2022-09-22T01:00:00",
          "2022-09-22T02:00:00",
          "2022-09-22T03:00:00",
          "2022-09-22T04:00:00",
          "2022-09-22T05:00:00",
          "2022-09-22T06:00:00",
          "2022-09-22T07:00:00",
          "2022-09-22T08:00:00",
          "2022-09-22T09:00:00",
          "2022-09-22T10:00:00",
          "2022-09-22T11:00:00",
          "2022-09-22T12:00:00",
          "2022-09-22T13:00:00",
          "2022-09-22T14:00:00",
          "2022-09-22T15:00:00",
          "2022-09-22T16:00:00",
          "2022-09-22T17:00:00",
          "2022-09-22T18:00:00",
          "2022-09-22T19:00:00",
          "2022-09-22T20:00:00",
          "2022-09-22T21:00:00",
          "2022-09-22T22:00:00",
          "2022-09-22T23:00:00",
          "2022-09-23T00:00:00",
          "2022-09-23T01:00:00",
          "2022-09-23T02:00:00",
          "2022-09-23T03:00:00",
          "2022-09-23T04:00:00",
          "2022-09-23T05:00:00",
          "2022-09-23T06:00:00",
          "2022-09-23T07:00:00",
          "2022-09-23T08:00:00",
          "2022-09-23T09:00:00",
          "2022-09-23T10:00:00",
          "2022-09-23T11:00:00",
          "2022-09-23T12:00:00",
          "2022-09-23T13:00:00",
          "2022-09-23T14:00:00",
          "2022-09-23T15:00:00",
          "2022-09-23T16:00:00",
          "2022-09-23T17:00:00",
          "2022-09-23T18:00:00",
          "2022-09-23T19:00:00",
          "2022-09-23T20:00:00",
          "2022-09-23T21:00:00",
          "2022-09-23T22:00:00",
          "2022-09-23T23:00:00",
          "2022-09-24T00:00:00",
          "2022-09-24T01:00:00",
          "2022-09-24T02:00:00",
          "2022-09-24T03:00:00",
          "2022-09-24T04:00:00",
          "2022-09-24T05:00:00",
          "2022-09-24T06:00:00",
          "2022-09-24T07:00:00",
          "2022-09-24T08:00:00",
          "2022-09-24T09:00:00",
          "2022-09-24T10:00:00",
          "2022-09-24T11:00:00",
          "2022-09-24T12:00:00",
          "2022-09-24T13:00:00",
          "2022-09-24T14:00:00",
          "2022-09-24T15:00:00",
          "2022-09-24T16:00:00",
          "2022-09-24T17:00:00",
          "2022-09-24T18:00:00",
          "2022-09-24T19:00:00",
          "2022-09-24T20:00:00",
          "2022-09-24T21:00:00",
          "2022-09-24T22:00:00",
          "2022-09-24T23:00:00",
          "2022-09-25T00:00:00",
          "2022-09-25T01:00:00",
          "2022-09-25T02:00:00",
          "2022-09-25T03:00:00",
          "2022-09-25T04:00:00",
          "2022-09-25T05:00:00",
          "2022-09-25T06:00:00",
          "2022-09-25T07:00:00",
          "2022-09-25T08:00:00",
          "2022-09-25T09:00:00",
          "2022-09-25T10:00:00",
          "2022-09-25T11:00:00",
          "2022-09-25T12:00:00",
          "2022-09-25T13:00:00",
          "2022-09-25T14:00:00",
          "2022-09-25T15:00:00",
          "2022-09-25T16:00:00",
          "2022-09-25T17:00:00",
          "2022-09-25T18:00:00",
          "2022-09-25T19:00:00",
          "2022-09-25T20:00:00",
          "2022-09-25T21:00:00",
          "2022-09-25T22:00:00",
          "2022-09-25T23:00:00",
          "2022-09-26T00:00:00",
          "2022-09-26T01:00:00",
          "2022-09-26T02:00:00",
          "2022-09-26T03:00:00",
          "2022-09-26T04:00:00",
          "2022-09-26T05:00:00",
          "2022-09-26T06:00:00",
          "2022-09-26T07:00:00",
          "2022-09-26T08:00:00",
          "2022-09-26T09:00:00",
          "2022-09-26T10:00:00",
          "2022-09-26T11:00:00",
          "2022-09-26T12:00:00",
          "2022-09-26T13:00:00",
          "2022-09-26T14:00:00",
          "2022-09-26T15:00:00",
          "2022-09-26T16:00:00",
          "2022-09-26T17:00:00",
          "2022-09-26T18:00:00",
          "2022-09-26T19:00:00",
          "2022-09-26T20:00:00",
          "2022-09-26T21:00:00",
          "2022-09-26T22:00:00",
          "2022-09-26T23:00:00",
          "2022-09-27T00:00:00",
          "2022-09-27T01:00:00",
          "2022-09-27T02:00:00",
          "2022-09-27T03:00:00",
          "2022-09-27T04:00:00",
          "2022-09-27T05:00:00",
          "2022-09-27T06:00:00",
          "2022-09-27T07:00:00",
          "2022-09-27T08:00:00",
          "2022-09-27T09:00:00",
          "2022-09-27T10:00:00",
          "2022-09-27T11:00:00",
          "2022-09-27T12:00:00",
          "2022-09-27T13:00:00",
          "2022-09-27T14:00:00",
          "2022-09-27T15:00:00",
          "2022-09-27T16:00:00",
          "2022-09-27T17:00:00",
          "2022-09-27T18:00:00",
          "2022-09-27T19:00:00",
          "2022-09-27T20:00:00",
          "2022-09-27T21:00:00",
          "2022-09-27T22:00:00",
          "2022-09-27T23:00:00",
          "2022-09-28T00:00:00",
          "2022-09-28T01:00:00",
          "2022-09-28T02:00:00",
          "2022-09-28T03:00:00",
          "2022-09-28T04:00:00",
          "2022-09-28T05:00:00",
          "2022-09-28T06:00:00",
          "2022-09-28T07:00:00",
          "2022-09-28T08:00:00",
          "2022-09-28T09:00:00",
          "2022-09-28T10:00:00",
          "2022-09-28T11:00:00",
          "2022-09-28T12:00:00",
          "2022-09-28T13:00:00",
          "2022-09-28T14:00:00",
          "2022-09-28T15:00:00",
          "2022-09-28T16:00:00",
          "2022-09-28T17:00:00",
          "2022-09-28T18:00:00",
          "2022-09-28T19:00:00",
          "2022-09-28T20:00:00",
          "2022-09-28T21:00:00",
          "2022-09-28T22:00:00",
          "2022-09-28T23:00:00",
          "2022-09-29T00:00:00",
          "2022-09-29T01:00:00",
          "2022-09-29T02:00:00",
          "2022-09-29T03:00:00",
          "2022-09-29T04:00:00",
          "2022-09-29T05:00:00",
          "2022-09-29T06:00:00",
          "2022-09-29T07:00:00",
          "2022-09-29T08:00:00",
          "2022-09-29T09:00:00",
          "2022-09-29T10:00:00",
          "2022-09-29T11:00:00",
          "2022-09-29T12:00:00",
          "2022-09-29T13:00:00",
          "2022-09-29T14:00:00",
          "2022-09-29T15:00:00",
          "2022-09-29T16:00:00",
          "2022-09-29T17:00:00",
          "2022-09-29T18:00:00",
          "2022-09-29T19:00:00",
          "2022-09-29T20:00:00",
          "2022-09-29T21:00:00",
          "2022-09-29T22:00:00",
          "2022-09-29T23:00:00",
          "2022-09-30T00:00:00",
          "2022-09-30T01:00:00",
          "2022-09-30T02:00:00",
          "2022-09-30T03:00:00",
          "2022-09-30T04:00:00",
          "2022-09-30T05:00:00",
          "2022-09-30T06:00:00",
          "2022-09-30T07:00:00",
          "2022-09-30T08:00:00",
          "2022-09-30T09:00:00",
          "2022-09-30T10:00:00",
          "2022-09-30T11:00:00",
          "2022-09-30T12:00:00",
          "2022-09-30T13:00:00",
          "2022-09-30T14:00:00",
          "2022-09-30T15:00:00",
          "2022-09-30T16:00:00",
          "2022-09-30T17:00:00",
          "2022-09-30T18:00:00",
          "2022-09-30T19:00:00",
          "2022-09-30T20:00:00",
          "2022-09-30T21:00:00",
          "2022-09-30T22:00:00",
          "2022-09-30T23:00:00",
          "2022-10-01T00:00:00",
          "2022-10-01T01:00:00",
          "2022-10-01T02:00:00",
          "2022-10-01T03:00:00",
          "2022-10-01T04:00:00",
          "2022-10-01T05:00:00",
          "2022-10-01T06:00:00",
          "2022-10-01T07:00:00",
          "2022-10-01T08:00:00",
          "2022-10-01T09:00:00",
          "2022-10-01T10:00:00",
          "2022-10-01T11:00:00",
          "2022-10-01T12:00:00",
          "2022-10-01T13:00:00",
          "2022-10-01T14:00:00",
          "2022-10-01T15:00:00",
          "2022-10-01T16:00:00",
          "2022-10-01T17:00:00",
          "2022-10-01T18:00:00",
          "2022-10-01T19:00:00",
          "2022-10-01T20:00:00",
          "2022-10-01T21:00:00",
          "2022-10-01T22:00:00",
          "2022-10-01T23:00:00",
          "2022-10-02T00:00:00",
          "2022-10-02T01:00:00",
          "2022-10-02T02:00:00",
          "2022-10-02T03:00:00",
          "2022-10-02T04:00:00",
          "2022-10-02T05:00:00",
          "2022-10-02T06:00:00",
          "2022-10-02T07:00:00",
          "2022-10-02T08:00:00",
          "2022-10-02T09:00:00",
          "2022-10-02T10:00:00",
          "2022-10-02T11:00:00",
          "2022-10-02T12:00:00",
          "2022-10-02T13:00:00",
          "2022-10-02T14:00:00",
          "2022-10-02T15:00:00",
          "2022-10-02T16:00:00",
          "2022-10-02T17:00:00",
          "2022-10-02T18:00:00",
          "2022-10-02T19:00:00",
          "2022-10-02T20:00:00",
          "2022-10-02T21:00:00",
          "2022-10-02T22:00:00",
          "2022-10-02T23:00:00",
          "2022-10-03T00:00:00",
          "2022-10-03T01:00:00",
          "2022-10-03T02:00:00",
          "2022-10-03T03:00:00",
          "2022-10-03T04:00:00",
          "2022-10-03T05:00:00",
          "2022-10-03T06:00:00",
          "2022-10-03T07:00:00",
          "2022-10-03T08:00:00",
          "2022-10-03T09:00:00",
          "2022-10-03T10:00:00",
          "2022-10-03T11:00:00",
          "2022-10-03T12:00:00",
          "2022-10-03T13:00:00",
          "2022-10-03T14:00:00",
          "2022-10-03T15:00:00",
          "2022-10-03T16:00:00",
          "2022-10-03T17:00:00",
          "2022-10-03T18:00:00",
          "2022-10-03T19:00:00",
          "2022-10-03T20:00:00",
          "2022-10-03T21:00:00",
          "2022-10-03T22:00:00",
          "2022-10-03T23:00:00",
          "2022-10-04T00:00:00",
          "2022-10-04T01:00:00",
          "2022-10-04T02:00:00",
          "2022-10-04T03:00:00",
          "2022-10-04T04:00:00",
          "2022-10-04T05:00:00",
          "2022-10-04T06:00:00",
          "2022-10-04T07:00:00",
          "2022-10-04T08:00:00",
          "2022-10-04T09:00:00",
          "2022-10-04T10:00:00",
          "2022-10-04T11:00:00",
          "2022-10-04T12:00:00",
          "2022-10-04T13:00:00",
          "2022-10-04T14:00:00",
          "2022-10-04T15:00:00",
          "2022-10-04T16:00:00",
          "2022-10-04T17:00:00",
          "2022-10-04T18:00:00",
          "2022-10-04T19:00:00",
          "2022-10-04T20:00:00",
          "2022-10-04T21:00:00",
          "2022-10-04T22:00:00",
          "2022-10-04T23:00:00",
          "2022-10-05T00:00:00",
          "2022-10-05T01:00:00",
          "2022-10-05T02:00:00",
          "2022-10-05T03:00:00",
          "2022-10-05T04:00:00",
          "2022-10-05T05:00:00",
          "2022-10-05T06:00:00",
          "2022-10-05T07:00:00",
          "2022-10-05T08:00:00",
          "2022-10-05T09:00:00",
          "2022-10-05T10:00:00",
          "2022-10-05T11:00:00",
          "2022-10-05T12:00:00",
          "2022-10-05T13:00:00",
          "2022-10-05T14:00:00",
          "2022-10-05T15:00:00",
          "2022-10-05T16:00:00",
          "2022-10-05T17:00:00",
          "2022-10-05T18:00:00",
          "2022-10-05T19:00:00",
          "2022-10-05T20:00:00",
          "2022-10-05T21:00:00",
          "2022-10-05T22:00:00",
          "2022-10-05T23:00:00",
          "2022-10-06T00:00:00"
         ],
         "xaxis": "x",
         "y": [
          0,
          0,
          0,
          0,
          0,
          0,
          0,
          0,
          0,
          0,
          0,
          0,
          0,
          1,
          0,
          0,
          0,
          0,
          0,
          0,
          0,
          0,
          0,
          0,
          0,
          0,
          0,
          0,
          0,
          0,
          0,
          0,
          0,
          0,
          0,
          0,
          1,
          0,
          0,
          0,
          0,
          0,
          0,
          0,
          0,
          0,
          0,
          0,
          0,
          0,
          0,
          0,
          0,
          0,
          0,
          0,
          0,
          0,
          0,
          0,
          1,
          0,
          0,
          0,
          0,
          0,
          0,
          0,
          0,
          0,
          0,
          0,
          0,
          0,
          0,
          0,
          0,
          0,
          0,
          0,
          0,
          0,
          0,
          0,
          0,
          0,
          0,
          0,
          0,
          0,
          0,
          0,
          0,
          0,
          0,
          0,
          0,
          0,
          0,
          0,
          0,
          0,
          0,
          0,
          1,
          0,
          0,
          0,
          0,
          0,
          1,
          0,
          0,
          0,
          0,
          0,
          0,
          0,
          0,
          0,
          0,
          0,
          0,
          0,
          0,
          0,
          0,
          0,
          1,
          0,
          0,
          0,
          0,
          2,
          0,
          2,
          0,
          0,
          1,
          0,
          0,
          0,
          0,
          0,
          0,
          0,
          0,
          0,
          0,
          1,
          0,
          0,
          0,
          0,
          0,
          0,
          0,
          0,
          0,
          0,
          0,
          0,
          0,
          0,
          0,
          0,
          0,
          0,
          0,
          0,
          0,
          0,
          0,
          0,
          0,
          0,
          0,
          0,
          0,
          0,
          0,
          1,
          0,
          0,
          0,
          0,
          0,
          0,
          0,
          0,
          0,
          0,
          0,
          0,
          0,
          0,
          0,
          0,
          0,
          1,
          0,
          0,
          1,
          0,
          0,
          0,
          0,
          0,
          0,
          0,
          0,
          0,
          0,
          1,
          0,
          0,
          0,
          0,
          0,
          0,
          0,
          0,
          0,
          0,
          0,
          0,
          0,
          0,
          0,
          0,
          0,
          0,
          0,
          0,
          0,
          0,
          0,
          0,
          0,
          0,
          0,
          0,
          0,
          0,
          0,
          0,
          0,
          0,
          0,
          0,
          0,
          0,
          0,
          0,
          0,
          0,
          0,
          0,
          0,
          0,
          0,
          0,
          0,
          0,
          0,
          0,
          0,
          0,
          0,
          0,
          2,
          0,
          0,
          0,
          0,
          0,
          1,
          0,
          1,
          1,
          0,
          0,
          0,
          0,
          1,
          0,
          0,
          0,
          1,
          0,
          0,
          0,
          0,
          0,
          0,
          0,
          1,
          0,
          0,
          1,
          1,
          0,
          0,
          0,
          0,
          0,
          0,
          0,
          0,
          0,
          0,
          0,
          0,
          0,
          0,
          0,
          0,
          0,
          0,
          0,
          0,
          0,
          1,
          0,
          0,
          0,
          0,
          0,
          0,
          0,
          0,
          0,
          0,
          0,
          0,
          0,
          0,
          0,
          0,
          0,
          0,
          0,
          0,
          0,
          0,
          1,
          0,
          1,
          0,
          0,
          0,
          0,
          0,
          0,
          0,
          0,
          0,
          0,
          0,
          0,
          0,
          0,
          0,
          0,
          0,
          0,
          0,
          0,
          0,
          0,
          0,
          0,
          0,
          0,
          1,
          0,
          0,
          0,
          0,
          0,
          0,
          0,
          0,
          0,
          0,
          0,
          0,
          0,
          0,
          0,
          0,
          0,
          0,
          0,
          0,
          0,
          0,
          0,
          0,
          0,
          0,
          0,
          0,
          1,
          2,
          0,
          0,
          0,
          0,
          0,
          0,
          0,
          0,
          0,
          0,
          0,
          0,
          0,
          0,
          0,
          1,
          0,
          0,
          0,
          0,
          0,
          0,
          2,
          0,
          0,
          0,
          0,
          0,
          0,
          0,
          0,
          0,
          0,
          0,
          0,
          0,
          0,
          0,
          0,
          0,
          0,
          0,
          2,
          0,
          0,
          0,
          0,
          0,
          0,
          0,
          0,
          0,
          0,
          0,
          0,
          0,
          1,
          0,
          0,
          0,
          1,
          0,
          1,
          1,
          0,
          0,
          1,
          0,
          0,
          0,
          0,
          0,
          0,
          0,
          0,
          0,
          0,
          0,
          0,
          0,
          1,
          1,
          0,
          0,
          0,
          0,
          0,
          0,
          0,
          0,
          0,
          0,
          0,
          1,
          0,
          0,
          0,
          0,
          0,
          0,
          0,
          0,
          0,
          0,
          0,
          0,
          0,
          0,
          0,
          0,
          0,
          0,
          0,
          0,
          2,
          0,
          0,
          0,
          0,
          0,
          0,
          0,
          0,
          0,
          0,
          0,
          0,
          0,
          1,
          0,
          0,
          0,
          0,
          0,
          1,
          0,
          0,
          2,
          0,
          0,
          0,
          1,
          0,
          0,
          0,
          0,
          0,
          0,
          0,
          0,
          0,
          0,
          0,
          0,
          0,
          0,
          0,
          0,
          0,
          1,
          0,
          0,
          0,
          0,
          0,
          0,
          0,
          0,
          0,
          0,
          0,
          0,
          0,
          0,
          0,
          0,
          0,
          0,
          0,
          0,
          0,
          0,
          0,
          0,
          0,
          0,
          0,
          0,
          0,
          0,
          0,
          0,
          0,
          0,
          0,
          0,
          0,
          0,
          0,
          0,
          0,
          1,
          0,
          0,
          0,
          0,
          0,
          0,
          0,
          1,
          1,
          1,
          0,
          0,
          0,
          0,
          0,
          0,
          0,
          0,
          0,
          0,
          0,
          0,
          0,
          1,
          0,
          0,
          0,
          0,
          1,
          0,
          0,
          0,
          0,
          0,
          0,
          0,
          0,
          0,
          0,
          0,
          0,
          0,
          0,
          0,
          1,
          0,
          0,
          0,
          0,
          0,
          0,
          1,
          0,
          0,
          1,
          0,
          0,
          0,
          0,
          0,
          1,
          0,
          0,
          0,
          0,
          0
         ],
         "yaxis": "y"
        },
        {
         "line": {
          "color": "green"
         },
         "marker": {
          "size": 10
         },
         "mode": "markers",
         "name": "actual value",
         "type": "scatter",
         "x": [
          "2022-10-06T00:00:00"
         ],
         "y": [
          0
         ]
        },
        {
         "line": {
          "color": "red"
         },
         "marker": {
          "size": 15,
          "symbol": "x"
         },
         "mode": "markers",
         "name": "prediction",
         "type": "scatter",
         "x": [
          "2022-10-06T00:00:00"
         ],
         "y": [
          0.06743145451289086
         ]
        }
       ],
       "layout": {
        "legend": {
         "tracegroupgap": 0
        },
        "template": {
         "data": {
          "bar": [
           {
            "error_x": {
             "color": "#f2f5fa"
            },
            "error_y": {
             "color": "#f2f5fa"
            },
            "marker": {
             "line": {
              "color": "rgb(17,17,17)",
              "width": 0.5
             },
             "pattern": {
              "fillmode": "overlay",
              "size": 10,
              "solidity": 0.2
             }
            },
            "type": "bar"
           }
          ],
          "barpolar": [
           {
            "marker": {
             "line": {
              "color": "rgb(17,17,17)",
              "width": 0.5
             },
             "pattern": {
              "fillmode": "overlay",
              "size": 10,
              "solidity": 0.2
             }
            },
            "type": "barpolar"
           }
          ],
          "carpet": [
           {
            "aaxis": {
             "endlinecolor": "#A2B1C6",
             "gridcolor": "#506784",
             "linecolor": "#506784",
             "minorgridcolor": "#506784",
             "startlinecolor": "#A2B1C6"
            },
            "baxis": {
             "endlinecolor": "#A2B1C6",
             "gridcolor": "#506784",
             "linecolor": "#506784",
             "minorgridcolor": "#506784",
             "startlinecolor": "#A2B1C6"
            },
            "type": "carpet"
           }
          ],
          "choropleth": [
           {
            "colorbar": {
             "outlinewidth": 0,
             "ticks": ""
            },
            "type": "choropleth"
           }
          ],
          "contour": [
           {
            "colorbar": {
             "outlinewidth": 0,
             "ticks": ""
            },
            "colorscale": [
             [
              0,
              "#0d0887"
             ],
             [
              0.1111111111111111,
              "#46039f"
             ],
             [
              0.2222222222222222,
              "#7201a8"
             ],
             [
              0.3333333333333333,
              "#9c179e"
             ],
             [
              0.4444444444444444,
              "#bd3786"
             ],
             [
              0.5555555555555556,
              "#d8576b"
             ],
             [
              0.6666666666666666,
              "#ed7953"
             ],
             [
              0.7777777777777778,
              "#fb9f3a"
             ],
             [
              0.8888888888888888,
              "#fdca26"
             ],
             [
              1,
              "#f0f921"
             ]
            ],
            "type": "contour"
           }
          ],
          "contourcarpet": [
           {
            "colorbar": {
             "outlinewidth": 0,
             "ticks": ""
            },
            "type": "contourcarpet"
           }
          ],
          "heatmap": [
           {
            "colorbar": {
             "outlinewidth": 0,
             "ticks": ""
            },
            "colorscale": [
             [
              0,
              "#0d0887"
             ],
             [
              0.1111111111111111,
              "#46039f"
             ],
             [
              0.2222222222222222,
              "#7201a8"
             ],
             [
              0.3333333333333333,
              "#9c179e"
             ],
             [
              0.4444444444444444,
              "#bd3786"
             ],
             [
              0.5555555555555556,
              "#d8576b"
             ],
             [
              0.6666666666666666,
              "#ed7953"
             ],
             [
              0.7777777777777778,
              "#fb9f3a"
             ],
             [
              0.8888888888888888,
              "#fdca26"
             ],
             [
              1,
              "#f0f921"
             ]
            ],
            "type": "heatmap"
           }
          ],
          "heatmapgl": [
           {
            "colorbar": {
             "outlinewidth": 0,
             "ticks": ""
            },
            "colorscale": [
             [
              0,
              "#0d0887"
             ],
             [
              0.1111111111111111,
              "#46039f"
             ],
             [
              0.2222222222222222,
              "#7201a8"
             ],
             [
              0.3333333333333333,
              "#9c179e"
             ],
             [
              0.4444444444444444,
              "#bd3786"
             ],
             [
              0.5555555555555556,
              "#d8576b"
             ],
             [
              0.6666666666666666,
              "#ed7953"
             ],
             [
              0.7777777777777778,
              "#fb9f3a"
             ],
             [
              0.8888888888888888,
              "#fdca26"
             ],
             [
              1,
              "#f0f921"
             ]
            ],
            "type": "heatmapgl"
           }
          ],
          "histogram": [
           {
            "marker": {
             "pattern": {
              "fillmode": "overlay",
              "size": 10,
              "solidity": 0.2
             }
            },
            "type": "histogram"
           }
          ],
          "histogram2d": [
           {
            "colorbar": {
             "outlinewidth": 0,
             "ticks": ""
            },
            "colorscale": [
             [
              0,
              "#0d0887"
             ],
             [
              0.1111111111111111,
              "#46039f"
             ],
             [
              0.2222222222222222,
              "#7201a8"
             ],
             [
              0.3333333333333333,
              "#9c179e"
             ],
             [
              0.4444444444444444,
              "#bd3786"
             ],
             [
              0.5555555555555556,
              "#d8576b"
             ],
             [
              0.6666666666666666,
              "#ed7953"
             ],
             [
              0.7777777777777778,
              "#fb9f3a"
             ],
             [
              0.8888888888888888,
              "#fdca26"
             ],
             [
              1,
              "#f0f921"
             ]
            ],
            "type": "histogram2d"
           }
          ],
          "histogram2dcontour": [
           {
            "colorbar": {
             "outlinewidth": 0,
             "ticks": ""
            },
            "colorscale": [
             [
              0,
              "#0d0887"
             ],
             [
              0.1111111111111111,
              "#46039f"
             ],
             [
              0.2222222222222222,
              "#7201a8"
             ],
             [
              0.3333333333333333,
              "#9c179e"
             ],
             [
              0.4444444444444444,
              "#bd3786"
             ],
             [
              0.5555555555555556,
              "#d8576b"
             ],
             [
              0.6666666666666666,
              "#ed7953"
             ],
             [
              0.7777777777777778,
              "#fb9f3a"
             ],
             [
              0.8888888888888888,
              "#fdca26"
             ],
             [
              1,
              "#f0f921"
             ]
            ],
            "type": "histogram2dcontour"
           }
          ],
          "mesh3d": [
           {
            "colorbar": {
             "outlinewidth": 0,
             "ticks": ""
            },
            "type": "mesh3d"
           }
          ],
          "parcoords": [
           {
            "line": {
             "colorbar": {
              "outlinewidth": 0,
              "ticks": ""
             }
            },
            "type": "parcoords"
           }
          ],
          "pie": [
           {
            "automargin": true,
            "type": "pie"
           }
          ],
          "scatter": [
           {
            "marker": {
             "line": {
              "color": "#283442"
             }
            },
            "type": "scatter"
           }
          ],
          "scatter3d": [
           {
            "line": {
             "colorbar": {
              "outlinewidth": 0,
              "ticks": ""
             }
            },
            "marker": {
             "colorbar": {
              "outlinewidth": 0,
              "ticks": ""
             }
            },
            "type": "scatter3d"
           }
          ],
          "scattercarpet": [
           {
            "marker": {
             "colorbar": {
              "outlinewidth": 0,
              "ticks": ""
             }
            },
            "type": "scattercarpet"
           }
          ],
          "scattergeo": [
           {
            "marker": {
             "colorbar": {
              "outlinewidth": 0,
              "ticks": ""
             }
            },
            "type": "scattergeo"
           }
          ],
          "scattergl": [
           {
            "marker": {
             "line": {
              "color": "#283442"
             }
            },
            "type": "scattergl"
           }
          ],
          "scattermapbox": [
           {
            "marker": {
             "colorbar": {
              "outlinewidth": 0,
              "ticks": ""
             }
            },
            "type": "scattermapbox"
           }
          ],
          "scatterpolar": [
           {
            "marker": {
             "colorbar": {
              "outlinewidth": 0,
              "ticks": ""
             }
            },
            "type": "scatterpolar"
           }
          ],
          "scatterpolargl": [
           {
            "marker": {
             "colorbar": {
              "outlinewidth": 0,
              "ticks": ""
             }
            },
            "type": "scatterpolargl"
           }
          ],
          "scatterternary": [
           {
            "marker": {
             "colorbar": {
              "outlinewidth": 0,
              "ticks": ""
             }
            },
            "type": "scatterternary"
           }
          ],
          "surface": [
           {
            "colorbar": {
             "outlinewidth": 0,
             "ticks": ""
            },
            "colorscale": [
             [
              0,
              "#0d0887"
             ],
             [
              0.1111111111111111,
              "#46039f"
             ],
             [
              0.2222222222222222,
              "#7201a8"
             ],
             [
              0.3333333333333333,
              "#9c179e"
             ],
             [
              0.4444444444444444,
              "#bd3786"
             ],
             [
              0.5555555555555556,
              "#d8576b"
             ],
             [
              0.6666666666666666,
              "#ed7953"
             ],
             [
              0.7777777777777778,
              "#fb9f3a"
             ],
             [
              0.8888888888888888,
              "#fdca26"
             ],
             [
              1,
              "#f0f921"
             ]
            ],
            "type": "surface"
           }
          ],
          "table": [
           {
            "cells": {
             "fill": {
              "color": "#506784"
             },
             "line": {
              "color": "rgb(17,17,17)"
             }
            },
            "header": {
             "fill": {
              "color": "#2a3f5f"
             },
             "line": {
              "color": "rgb(17,17,17)"
             }
            },
            "type": "table"
           }
          ]
         },
         "layout": {
          "annotationdefaults": {
           "arrowcolor": "#f2f5fa",
           "arrowhead": 0,
           "arrowwidth": 1
          },
          "autotypenumbers": "strict",
          "coloraxis": {
           "colorbar": {
            "outlinewidth": 0,
            "ticks": ""
           }
          },
          "colorscale": {
           "diverging": [
            [
             0,
             "#8e0152"
            ],
            [
             0.1,
             "#c51b7d"
            ],
            [
             0.2,
             "#de77ae"
            ],
            [
             0.3,
             "#f1b6da"
            ],
            [
             0.4,
             "#fde0ef"
            ],
            [
             0.5,
             "#f7f7f7"
            ],
            [
             0.6,
             "#e6f5d0"
            ],
            [
             0.7,
             "#b8e186"
            ],
            [
             0.8,
             "#7fbc41"
            ],
            [
             0.9,
             "#4d9221"
            ],
            [
             1,
             "#276419"
            ]
           ],
           "sequential": [
            [
             0,
             "#0d0887"
            ],
            [
             0.1111111111111111,
             "#46039f"
            ],
            [
             0.2222222222222222,
             "#7201a8"
            ],
            [
             0.3333333333333333,
             "#9c179e"
            ],
            [
             0.4444444444444444,
             "#bd3786"
            ],
            [
             0.5555555555555556,
             "#d8576b"
            ],
            [
             0.6666666666666666,
             "#ed7953"
            ],
            [
             0.7777777777777778,
             "#fb9f3a"
            ],
            [
             0.8888888888888888,
             "#fdca26"
            ],
            [
             1,
             "#f0f921"
            ]
           ],
           "sequentialminus": [
            [
             0,
             "#0d0887"
            ],
            [
             0.1111111111111111,
             "#46039f"
            ],
            [
             0.2222222222222222,
             "#7201a8"
            ],
            [
             0.3333333333333333,
             "#9c179e"
            ],
            [
             0.4444444444444444,
             "#bd3786"
            ],
            [
             0.5555555555555556,
             "#d8576b"
            ],
            [
             0.6666666666666666,
             "#ed7953"
            ],
            [
             0.7777777777777778,
             "#fb9f3a"
            ],
            [
             0.8888888888888888,
             "#fdca26"
            ],
            [
             1,
             "#f0f921"
            ]
           ]
          },
          "colorway": [
           "#636efa",
           "#EF553B",
           "#00cc96",
           "#ab63fa",
           "#FFA15A",
           "#19d3f3",
           "#FF6692",
           "#B6E880",
           "#FF97FF",
           "#FECB52"
          ],
          "font": {
           "color": "#f2f5fa"
          },
          "geo": {
           "bgcolor": "rgb(17,17,17)",
           "lakecolor": "rgb(17,17,17)",
           "landcolor": "rgb(17,17,17)",
           "showlakes": true,
           "showland": true,
           "subunitcolor": "#506784"
          },
          "hoverlabel": {
           "align": "left"
          },
          "hovermode": "closest",
          "mapbox": {
           "style": "dark"
          },
          "paper_bgcolor": "rgb(17,17,17)",
          "plot_bgcolor": "rgb(17,17,17)",
          "polar": {
           "angularaxis": {
            "gridcolor": "#506784",
            "linecolor": "#506784",
            "ticks": ""
           },
           "bgcolor": "rgb(17,17,17)",
           "radialaxis": {
            "gridcolor": "#506784",
            "linecolor": "#506784",
            "ticks": ""
           }
          },
          "scene": {
           "xaxis": {
            "backgroundcolor": "rgb(17,17,17)",
            "gridcolor": "#506784",
            "gridwidth": 2,
            "linecolor": "#506784",
            "showbackground": true,
            "ticks": "",
            "zerolinecolor": "#C8D4E3"
           },
           "yaxis": {
            "backgroundcolor": "rgb(17,17,17)",
            "gridcolor": "#506784",
            "gridwidth": 2,
            "linecolor": "#506784",
            "showbackground": true,
            "ticks": "",
            "zerolinecolor": "#C8D4E3"
           },
           "zaxis": {
            "backgroundcolor": "rgb(17,17,17)",
            "gridcolor": "#506784",
            "gridwidth": 2,
            "linecolor": "#506784",
            "showbackground": true,
            "ticks": "",
            "zerolinecolor": "#C8D4E3"
           }
          },
          "shapedefaults": {
           "line": {
            "color": "#f2f5fa"
           }
          },
          "sliderdefaults": {
           "bgcolor": "#C8D4E3",
           "bordercolor": "rgb(17,17,17)",
           "borderwidth": 1,
           "tickwidth": 0
          },
          "ternary": {
           "aaxis": {
            "gridcolor": "#506784",
            "linecolor": "#506784",
            "ticks": ""
           },
           "baxis": {
            "gridcolor": "#506784",
            "linecolor": "#506784",
            "ticks": ""
           },
           "bgcolor": "rgb(17,17,17)",
           "caxis": {
            "gridcolor": "#506784",
            "linecolor": "#506784",
            "ticks": ""
           }
          },
          "title": {
           "x": 0.05
          },
          "updatemenudefaults": {
           "bgcolor": "#506784",
           "borderwidth": 0
          },
          "xaxis": {
           "automargin": true,
           "gridcolor": "#283442",
           "linecolor": "#506784",
           "ticks": "",
           "title": {
            "standoff": 15
           },
           "zerolinecolor": "#283442",
           "zerolinewidth": 2
          },
          "yaxis": {
           "automargin": true,
           "gridcolor": "#283442",
           "linecolor": "#506784",
           "ticks": "",
           "title": {
            "standoff": 15
           },
           "zerolinecolor": "#283442",
           "zerolinewidth": 2
          }
         }
        },
        "title": {
         "text": "Pick up hour=2022-10-06 00:00:00, location_id=19"
        },
        "xaxis": {
         "anchor": "y",
         "domain": [
          0,
          1
         ],
         "title": {
          "text": "x"
         }
        },
        "yaxis": {
         "anchor": "x",
         "domain": [
          0,
          1
         ],
         "title": {
          "text": "y"
         }
        }
       }
      }
     },
     "metadata": {},
     "output_type": "display_data"
    }
   ],
   "source": [
    "plot_one_sample(\n",
    "    example_id=3979,\n",
    "    features=X_test,\n",
    "    targets=y_test,\n",
    "    predictions=pd.Series(predictions)\n",
    ")"
   ]
  },
  {
   "cell_type": "markdown",
   "metadata": {},
   "source": [
    "**Observations and insights**\n",
    "\n",
    "As you can see, the model is relatively good at making predictions.\n",
    "\n",
    "Model 7 is our best performing model.\n",
    "\n",
    "Next, we can now build a batch scoring service to put the model to work."
   ]
  }
 ],
 "metadata": {
  "kernelspec": {
   "display_name": ".venv",
   "language": "python",
   "name": "python3"
  },
  "language_info": {
   "codemirror_mode": {
    "name": "ipython",
    "version": 3
   },
   "file_extension": ".py",
   "mimetype": "text/x-python",
   "name": "python",
   "nbconvert_exporter": "python",
   "pygments_lexer": "ipython3",
   "version": "3.9.13"
  },
  "orig_nbformat": 4,
  "vscode": {
   "interpreter": {
    "hash": "b98d97558a062384a76b0309256306c9ce5dd4e2074fe66c33532239207fc923"
   }
  }
 },
 "nbformat": 4,
 "nbformat_minor": 2
}
