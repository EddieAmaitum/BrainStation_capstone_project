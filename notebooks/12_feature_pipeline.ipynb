{
 "cells": [
  {
   "cell_type": "markdown",
   "metadata": {},
   "source": [
    "### Automatre the feature pipeline"
   ]
  },
  {
   "cell_type": "markdown",
   "metadata": {},
   "source": [
    "In this notebook we work on automating the feature pipeline."
   ]
  },
  {
   "cell_type": "code",
   "execution_count": 1,
   "metadata": {},
   "outputs": [],
   "source": [
    "import sys \n",
    "sys.path.append(r\"C:\\Users\\User\\capstone_project\")"
   ]
  },
  {
   "cell_type": "code",
   "execution_count": 2,
   "metadata": {},
   "outputs": [],
   "source": [
    "import src.config as config"
   ]
  },
  {
   "cell_type": "code",
   "execution_count": 3,
   "metadata": {},
   "outputs": [
    {
     "name": "stdout",
     "output_type": "stream",
     "text": [
      "current_date=Timestamp('2024-01-07 17:00:00')\n"
     ]
    }
   ],
   "source": [
    "from datetime import datetime, timedelta\n",
    "\n",
    "import pandas as pd\n",
    "\n",
    "current_date = pd.to_datetime(datetime.utcnow()).floor('H')\n",
    "print(f'{current_date=}')\n",
    "\n",
    "# we fetch raw data for the last 28 days, to add redundancy to our data pipeline\n",
    "fetch_data_to = current_date\n",
    "fetch_data_from = current_date - timedelta(days=28)"
   ]
  },
  {
   "cell_type": "code",
   "execution_count": 4,
   "metadata": {},
   "outputs": [],
   "source": [
    "from src.data import load_raw_data\n",
    "\n",
    "def fetch_batch_raw_data(from_date: datetime, to_date: datetime) -> pd.DataFrame:\n",
    "    \"\"\"\n",
    "    Simulate production data by sampling historical data from 52 weeks ago (i.e. 1 year)\n",
    "    \"\"\"\n",
    "    from_date_ = from_date - timedelta(days=7*52)\n",
    "    to_date_ = to_date - timedelta(days=7*52)\n",
    "    print(f'{from_date=}, {to_date_=}')\n",
    "\n",
    "    # download 2 files from website\n",
    "    rides = load_raw_data(year=from_date_.year, months=from_date_.month)\n",
    "    rides = rides[rides.pickup_datetime >= from_date_]\n",
    "    rides_2 = load_raw_data(year=to_date_.year, months=to_date_.month)\n",
    "    rides_2 = rides_2[rides_2.pickup_datetime < to_date_]\n",
    "\n",
    "    rides = pd.concat([rides, rides_2])\n",
    "\n",
    "    # shift the data to pretend this is recent data\n",
    "    rides['pickup_datetime'] += timedelta(days=7*52)\n",
    "\n",
    "    rides.sort_values(by=['pickup_location_id', 'pickup_datetime'], inplace=True)\n",
    "\n",
    "    return rides"
   ]
  },
  {
   "cell_type": "code",
   "execution_count": 5,
   "metadata": {},
   "outputs": [
    {
     "name": "stdout",
     "output_type": "stream",
     "text": [
      "from_date=Timestamp('2023-12-10 17:00:00'), to_date_=Timestamp('2023-01-08 17:00:00')\n",
      "File 2022-12 was already in local storage\n",
      "File 2023-01 was already in local storage\n"
     ]
    }
   ],
   "source": [
    "rides = fetch_batch_raw_data(from_date=fetch_data_from, to_date=fetch_data_to)"
   ]
  },
  {
   "cell_type": "code",
   "execution_count": 6,
   "metadata": {},
   "outputs": [
    {
     "name": "stderr",
     "output_type": "stream",
     "text": [
      "100%|██████████| 265/265 [00:00<00:00, 455.14it/s]\n"
     ]
    }
   ],
   "source": [
    "from src.data import transform_raw_data_into_ts_data\n",
    "ts_data = transform_raw_data_into_ts_data(rides)"
   ]
  },
  {
   "cell_type": "code",
   "execution_count": 7,
   "metadata": {},
   "outputs": [],
   "source": [
    "# string to datetime\n",
    "ts_data['pickup_hour'] = pd.to_datetime(ts_data['pickup_hour'], utc=True)\n",
    "\n",
    "# add column with Unix epoch milliseconds\n",
    "ts_data['pickup_ts'] = ts_data['pickup_hour'].astype('int64') // 10**6\n"
   ]
  },
  {
   "cell_type": "code",
   "execution_count": 8,
   "metadata": {},
   "outputs": [
    {
     "name": "stdout",
     "output_type": "stream",
     "text": [
      "Requirement already satisfied: hopsworks==3.4.* in c:\\users\\user\\anaconda3\\lib\\site-packages (3.4.3)\n",
      "Requirement already satisfied: hsfs<3.5.0,>=3.4.0 in c:\\users\\user\\anaconda3\\lib\\site-packages (from hsfs[python]<3.5.0,>=3.4.0->hopsworks==3.4.*) (3.4.5)\n",
      "Requirement already satisfied: hsml<3.5.0,>=3.4.0 in c:\\users\\user\\anaconda3\\lib\\site-packages (from hopsworks==3.4.*) (3.4.5)\n",
      "Requirement already satisfied: pyhumps==1.6.1 in c:\\users\\user\\anaconda3\\lib\\site-packages (from hopsworks==3.4.*) (1.6.1)\n",
      "Requirement already satisfied: requests in c:\\users\\user\\anaconda3\\lib\\site-packages (from hopsworks==3.4.*) (2.28.1)\n",
      "Requirement already satisfied: furl in c:\\users\\user\\anaconda3\\lib\\site-packages (from hopsworks==3.4.*) (2.1.3)\n",
      "Requirement already satisfied: boto3 in c:\\users\\user\\anaconda3\\lib\\site-packages (from hopsworks==3.4.*) (1.24.28)\n",
      "Requirement already satisfied: pyjks in c:\\users\\user\\anaconda3\\lib\\site-packages (from hopsworks==3.4.*) (20.0.0)\n",
      "Requirement already satisfied: mock in c:\\users\\user\\anaconda3\\lib\\site-packages (from hopsworks==3.4.*) (4.0.3)\n",
      "Requirement already satisfied: tqdm in c:\\users\\user\\anaconda3\\lib\\site-packages (from hopsworks==3.4.*) (4.64.1)\n",
      "Requirement already satisfied: pandas<2.1.0 in c:\\users\\user\\anaconda3\\lib\\site-packages (from hsfs<3.5.0,>=3.4.0->hsfs[python]<3.5.0,>=3.4.0->hopsworks==3.4.*) (1.4.4)\n",
      "Requirement already satisfied: numpy<2 in c:\\users\\user\\anaconda3\\lib\\site-packages (from hsfs<3.5.0,>=3.4.0->hsfs[python]<3.5.0,>=3.4.0->hopsworks==3.4.*) (1.21.5)\n",
      "Requirement already satisfied: avro==1.11.0 in c:\\users\\user\\anaconda3\\lib\\site-packages (from hsfs<3.5.0,>=3.4.0->hsfs[python]<3.5.0,>=3.4.0->hopsworks==3.4.*) (1.11.0)\n",
      "Requirement already satisfied: sqlalchemy in c:\\users\\user\\anaconda3\\lib\\site-packages (from hsfs<3.5.0,>=3.4.0->hsfs[python]<3.5.0,>=3.4.0->hopsworks==3.4.*) (1.4.39)\n",
      "Requirement already satisfied: PyMySQL[rsa] in c:\\users\\user\\anaconda3\\lib\\site-packages (from hsfs<3.5.0,>=3.4.0->hsfs[python]<3.5.0,>=3.4.0->hopsworks==3.4.*) (1.0.2)\n",
      "Requirement already satisfied: great-expectations==0.14.13 in c:\\users\\user\\anaconda3\\lib\\site-packages (from hsfs<3.5.0,>=3.4.0->hsfs[python]<3.5.0,>=3.4.0->hopsworks==3.4.*) (0.14.13)\n",
      "Requirement already satisfied: markupsafe<2.1.0 in c:\\users\\user\\anaconda3\\lib\\site-packages (from hsfs<3.5.0,>=3.4.0->hsfs[python]<3.5.0,>=3.4.0->hopsworks==3.4.*) (2.0.1)\n",
      "Requirement already satisfied: tzlocal in c:\\users\\user\\anaconda3\\lib\\site-packages (from hsfs<3.5.0,>=3.4.0->hsfs[python]<3.5.0,>=3.4.0->hopsworks==3.4.*) (4.2)\n",
      "Requirement already satisfied: fsspec in c:\\users\\user\\anaconda3\\lib\\site-packages (from hsfs<3.5.0,>=3.4.0->hsfs[python]<3.5.0,>=3.4.0->hopsworks==3.4.*) (2022.7.1)\n",
      "Requirement already satisfied: altair<5,>=4.0.0 in c:\\users\\user\\anaconda3\\lib\\site-packages (from great-expectations==0.14.13->hsfs<3.5.0,>=3.4.0->hsfs[python]<3.5.0,>=3.4.0->hopsworks==3.4.*) (4.2.0)\n",
      "Requirement already satisfied: Click>=7.1.2 in c:\\users\\user\\anaconda3\\lib\\site-packages (from great-expectations==0.14.13->hsfs<3.5.0,>=3.4.0->hsfs[python]<3.5.0,>=3.4.0->hopsworks==3.4.*) (8.0.4)\n",
      "Requirement already satisfied: colorama>=0.4.3 in c:\\users\\user\\anaconda3\\lib\\site-packages (from great-expectations==0.14.13->hsfs<3.5.0,>=3.4.0->hsfs[python]<3.5.0,>=3.4.0->hopsworks==3.4.*) (0.4.5)\n",
      "Requirement already satisfied: cryptography>=3.2 in c:\\users\\user\\anaconda3\\lib\\site-packages (from great-expectations==0.14.13->hsfs<3.5.0,>=3.4.0->hsfs[python]<3.5.0,>=3.4.0->hopsworks==3.4.*) (37.0.1)\n",
      "Requirement already satisfied: dataclasses in c:\\users\\user\\anaconda3\\lib\\site-packages (from great-expectations==0.14.13->hsfs<3.5.0,>=3.4.0->hsfs[python]<3.5.0,>=3.4.0->hopsworks==3.4.*) (0.6)\n",
      "Requirement already satisfied: importlib-metadata>=1.7.0 in c:\\users\\user\\anaconda3\\lib\\site-packages (from great-expectations==0.14.13->hsfs<3.5.0,>=3.4.0->hsfs[python]<3.5.0,>=3.4.0->hopsworks==3.4.*) (4.11.3)\n",
      "Requirement already satisfied: Ipython>=7.16.3 in c:\\users\\user\\anaconda3\\lib\\site-packages (from great-expectations==0.14.13->hsfs<3.5.0,>=3.4.0->hsfs[python]<3.5.0,>=3.4.0->hopsworks==3.4.*) (7.31.1)\n",
      "Requirement already satisfied: jinja2<3.1.0,>=2.10 in c:\\users\\user\\anaconda3\\lib\\site-packages (from great-expectations==0.14.13->hsfs<3.5.0,>=3.4.0->hsfs[python]<3.5.0,>=3.4.0->hopsworks==3.4.*) (2.11.3)\n",
      "Requirement already satisfied: jsonpatch>=1.22 in c:\\users\\user\\anaconda3\\lib\\site-packages (from great-expectations==0.14.13->hsfs<3.5.0,>=3.4.0->hsfs[python]<3.5.0,>=3.4.0->hopsworks==3.4.*) (1.32)\n",
      "Requirement already satisfied: jsonschema>=2.5.1 in c:\\users\\user\\anaconda3\\lib\\site-packages (from great-expectations==0.14.13->hsfs<3.5.0,>=3.4.0->hsfs[python]<3.5.0,>=3.4.0->hopsworks==3.4.*) (4.16.0)\n",
      "Requirement already satisfied: mistune>=0.8.4 in c:\\users\\user\\anaconda3\\lib\\site-packages (from great-expectations==0.14.13->hsfs<3.5.0,>=3.4.0->hsfs[python]<3.5.0,>=3.4.0->hopsworks==3.4.*) (0.8.4)\n",
      "Requirement already satisfied: nbformat>=5.0 in c:\\users\\user\\anaconda3\\lib\\site-packages (from great-expectations==0.14.13->hsfs<3.5.0,>=3.4.0->hsfs[python]<3.5.0,>=3.4.0->hopsworks==3.4.*) (5.5.0)\n",
      "Requirement already satisfied: packaging in c:\\users\\user\\anaconda3\\lib\\site-packages (from great-expectations==0.14.13->hsfs<3.5.0,>=3.4.0->hsfs[python]<3.5.0,>=3.4.0->hopsworks==3.4.*) (21.3)\n",
      "Requirement already satisfied: pyparsing<3,>=2.4 in c:\\users\\user\\anaconda3\\lib\\site-packages (from great-expectations==0.14.13->hsfs<3.5.0,>=3.4.0->hsfs[python]<3.5.0,>=3.4.0->hopsworks==3.4.*) (2.4.7)\n",
      "Requirement already satisfied: python-dateutil>=2.8.1 in c:\\users\\user\\anaconda3\\lib\\site-packages (from great-expectations==0.14.13->hsfs<3.5.0,>=3.4.0->hsfs[python]<3.5.0,>=3.4.0->hopsworks==3.4.*) (2.8.2)\n",
      "Requirement already satisfied: pytz>=2021.3 in c:\\users\\user\\anaconda3\\lib\\site-packages (from great-expectations==0.14.13->hsfs<3.5.0,>=3.4.0->hsfs[python]<3.5.0,>=3.4.0->hopsworks==3.4.*) (2022.1)\n",
      "Requirement already satisfied: ruamel.yaml<0.17.18,>=0.16 in c:\\users\\user\\anaconda3\\lib\\site-packages (from great-expectations==0.14.13->hsfs<3.5.0,>=3.4.0->hsfs[python]<3.5.0,>=3.4.0->hopsworks==3.4.*) (0.17.17)\n",
      "Requirement already satisfied: scipy>=0.19.0 in c:\\users\\user\\anaconda3\\lib\\site-packages (from great-expectations==0.14.13->hsfs<3.5.0,>=3.4.0->hsfs[python]<3.5.0,>=3.4.0->hopsworks==3.4.*) (1.9.1)\n",
      "Requirement already satisfied: termcolor>=1.1.0 in c:\\users\\user\\anaconda3\\lib\\site-packages (from great-expectations==0.14.13->hsfs<3.5.0,>=3.4.0->hsfs[python]<3.5.0,>=3.4.0->hopsworks==3.4.*) (2.2.0)\n",
      "Requirement already satisfied: typing-extensions>=3.10.0.0 in c:\\users\\user\\anaconda3\\lib\\site-packages (from great-expectations==0.14.13->hsfs<3.5.0,>=3.4.0->hsfs[python]<3.5.0,>=3.4.0->hopsworks==3.4.*) (4.3.0)\n",
      "Requirement already satisfied: urllib3<1.27,>=1.25.4 in c:\\users\\user\\anaconda3\\lib\\site-packages (from great-expectations==0.14.13->hsfs<3.5.0,>=3.4.0->hsfs[python]<3.5.0,>=3.4.0->hopsworks==3.4.*) (1.26.11)\n",
      "Requirement already satisfied: pyhopshive[thrift] in c:\\users\\user\\anaconda3\\lib\\site-packages (from hsfs[python]<3.5.0,>=3.4.0->hopsworks==3.4.*) (0.6.4.1.dev0)\n",
      "Requirement already satisfied: pyarrow>=10.0 in c:\\users\\user\\anaconda3\\lib\\site-packages (from hsfs[python]<3.5.0,>=3.4.0->hopsworks==3.4.*) (10.0.1)\n",
      "Requirement already satisfied: confluent-kafka<=2.1.1 in c:\\users\\user\\anaconda3\\lib\\site-packages (from hsfs[python]<3.5.0,>=3.4.0->hopsworks==3.4.*) (1.8.2)\n",
      "Requirement already satisfied: fastavro<=1.8.2,>=1.4.11 in c:\\users\\user\\anaconda3\\lib\\site-packages (from hsfs[python]<3.5.0,>=3.4.0->hopsworks==3.4.*) (1.4.11)\n",
      "Requirement already satisfied: charset-normalizer<3,>=2 in c:\\users\\user\\anaconda3\\lib\\site-packages (from requests->hopsworks==3.4.*) (2.0.4)\n",
      "Requirement already satisfied: idna<4,>=2.5 in c:\\users\\user\\anaconda3\\lib\\site-packages (from requests->hopsworks==3.4.*) (3.3)\n",
      "Requirement already satisfied: certifi>=2017.4.17 in c:\\users\\user\\anaconda3\\lib\\site-packages (from requests->hopsworks==3.4.*) (2022.9.14)\n",
      "Requirement already satisfied: botocore<1.28.0,>=1.27.28 in c:\\users\\user\\anaconda3\\lib\\site-packages (from boto3->hopsworks==3.4.*) (1.27.28)\n",
      "Requirement already satisfied: jmespath<2.0.0,>=0.7.1 in c:\\users\\user\\anaconda3\\lib\\site-packages (from boto3->hopsworks==3.4.*) (0.10.0)\n",
      "Requirement already satisfied: s3transfer<0.7.0,>=0.6.0 in c:\\users\\user\\anaconda3\\lib\\site-packages (from boto3->hopsworks==3.4.*) (0.6.0)\n",
      "Requirement already satisfied: six>=1.8.0 in c:\\users\\user\\anaconda3\\lib\\site-packages (from furl->hopsworks==3.4.*) (1.16.0)\n",
      "Requirement already satisfied: orderedmultidict>=1.0.1 in c:\\users\\user\\anaconda3\\lib\\site-packages (from furl->hopsworks==3.4.*) (1.0.1)\n",
      "Requirement already satisfied: javaobj-py3 in c:\\users\\user\\anaconda3\\lib\\site-packages (from pyjks->hopsworks==3.4.*) (0.4.3)\n",
      "Requirement already satisfied: pyasn1>=0.3.5 in c:\\users\\user\\anaconda3\\lib\\site-packages (from pyjks->hopsworks==3.4.*) (0.4.8)\n",
      "Requirement already satisfied: pyasn1-modules in c:\\users\\user\\anaconda3\\lib\\site-packages (from pyjks->hopsworks==3.4.*) (0.2.8)\n",
      "Requirement already satisfied: pycryptodomex in c:\\users\\user\\anaconda3\\lib\\site-packages (from pyjks->hopsworks==3.4.*) (3.16.0)\n",
      "Requirement already satisfied: twofish in c:\\users\\user\\anaconda3\\lib\\site-packages (from pyjks->hopsworks==3.4.*) (0.3.0)\n",
      "Requirement already satisfied: pytz-deprecation-shim in c:\\users\\user\\anaconda3\\lib\\site-packages (from tzlocal->hsfs<3.5.0,>=3.4.0->hsfs[python]<3.5.0,>=3.4.0->hopsworks==3.4.*) (0.1.0.post0)\n",
      "Requirement already satisfied: tzdata in c:\\users\\user\\anaconda3\\lib\\site-packages (from tzlocal->hsfs<3.5.0,>=3.4.0->hsfs[python]<3.5.0,>=3.4.0->hopsworks==3.4.*) (2022.7)\n",
      "Requirement already satisfied: future in c:\\users\\user\\anaconda3\\lib\\site-packages (from pyhopshive[thrift]; extra == \"python\"->hsfs[python]<3.5.0,>=3.4.0->hopsworks==3.4.*) (0.18.2)\n",
      "Requirement already satisfied: thrift>=0.10.0 in c:\\users\\user\\anaconda3\\lib\\site-packages (from pyhopshive[thrift]; extra == \"python\"->hsfs[python]<3.5.0,>=3.4.0->hopsworks==3.4.*) (0.16.0)\n",
      "Requirement already satisfied: greenlet!=0.4.17 in c:\\users\\user\\anaconda3\\lib\\site-packages (from sqlalchemy->hsfs<3.5.0,>=3.4.0->hsfs[python]<3.5.0,>=3.4.0->hopsworks==3.4.*) (1.1.1)\n",
      "Requirement already satisfied: entrypoints in c:\\users\\user\\anaconda3\\lib\\site-packages (from altair<5,>=4.0.0->great-expectations==0.14.13->hsfs<3.5.0,>=3.4.0->hsfs[python]<3.5.0,>=3.4.0->hopsworks==3.4.*) (0.4)\n",
      "Requirement already satisfied: toolz in c:\\users\\user\\anaconda3\\lib\\site-packages (from altair<5,>=4.0.0->great-expectations==0.14.13->hsfs<3.5.0,>=3.4.0->hsfs[python]<3.5.0,>=3.4.0->hopsworks==3.4.*) (0.11.2)\n",
      "Requirement already satisfied: cffi>=1.12 in c:\\users\\user\\anaconda3\\lib\\site-packages (from cryptography>=3.2->great-expectations==0.14.13->hsfs<3.5.0,>=3.4.0->hsfs[python]<3.5.0,>=3.4.0->hopsworks==3.4.*) (1.15.1)\n",
      "Requirement already satisfied: zipp>=0.5 in c:\\users\\user\\anaconda3\\lib\\site-packages (from importlib-metadata>=1.7.0->great-expectations==0.14.13->hsfs<3.5.0,>=3.4.0->hsfs[python]<3.5.0,>=3.4.0->hopsworks==3.4.*) (3.8.0)\n",
      "Requirement already satisfied: setuptools>=18.5 in c:\\users\\user\\anaconda3\\lib\\site-packages (from Ipython>=7.16.3->great-expectations==0.14.13->hsfs<3.5.0,>=3.4.0->hsfs[python]<3.5.0,>=3.4.0->hopsworks==3.4.*) (63.4.1)\n",
      "Requirement already satisfied: jedi>=0.16 in c:\\users\\user\\anaconda3\\lib\\site-packages (from Ipython>=7.16.3->great-expectations==0.14.13->hsfs<3.5.0,>=3.4.0->hsfs[python]<3.5.0,>=3.4.0->hopsworks==3.4.*) (0.18.1)\n",
      "Requirement already satisfied: decorator in c:\\users\\user\\anaconda3\\lib\\site-packages (from Ipython>=7.16.3->great-expectations==0.14.13->hsfs<3.5.0,>=3.4.0->hsfs[python]<3.5.0,>=3.4.0->hopsworks==3.4.*) (5.1.1)\n",
      "Requirement already satisfied: pickleshare in c:\\users\\user\\anaconda3\\lib\\site-packages (from Ipython>=7.16.3->great-expectations==0.14.13->hsfs<3.5.0,>=3.4.0->hsfs[python]<3.5.0,>=3.4.0->hopsworks==3.4.*) (0.7.5)\n",
      "Requirement already satisfied: traitlets>=4.2 in c:\\users\\user\\anaconda3\\lib\\site-packages (from Ipython>=7.16.3->great-expectations==0.14.13->hsfs<3.5.0,>=3.4.0->hsfs[python]<3.5.0,>=3.4.0->hopsworks==3.4.*) (5.1.1)\n",
      "Requirement already satisfied: prompt-toolkit!=3.0.0,!=3.0.1,<3.1.0,>=2.0.0 in c:\\users\\user\\anaconda3\\lib\\site-packages (from Ipython>=7.16.3->great-expectations==0.14.13->hsfs<3.5.0,>=3.4.0->hsfs[python]<3.5.0,>=3.4.0->hopsworks==3.4.*) (3.0.20)\n",
      "Requirement already satisfied: pygments in c:\\users\\user\\anaconda3\\lib\\site-packages (from Ipython>=7.16.3->great-expectations==0.14.13->hsfs<3.5.0,>=3.4.0->hsfs[python]<3.5.0,>=3.4.0->hopsworks==3.4.*) (2.11.2)\n",
      "Requirement already satisfied: backcall in c:\\users\\user\\anaconda3\\lib\\site-packages (from Ipython>=7.16.3->great-expectations==0.14.13->hsfs<3.5.0,>=3.4.0->hsfs[python]<3.5.0,>=3.4.0->hopsworks==3.4.*) (0.2.0)\n",
      "Requirement already satisfied: matplotlib-inline in c:\\users\\user\\anaconda3\\lib\\site-packages (from Ipython>=7.16.3->great-expectations==0.14.13->hsfs<3.5.0,>=3.4.0->hsfs[python]<3.5.0,>=3.4.0->hopsworks==3.4.*) (0.1.6)\n",
      "Requirement already satisfied: jsonpointer>=1.9 in c:\\users\\user\\anaconda3\\lib\\site-packages (from jsonpatch>=1.22->great-expectations==0.14.13->hsfs<3.5.0,>=3.4.0->hsfs[python]<3.5.0,>=3.4.0->hopsworks==3.4.*) (2.3)\n",
      "Requirement already satisfied: attrs>=17.4.0 in c:\\users\\user\\anaconda3\\lib\\site-packages (from jsonschema>=2.5.1->great-expectations==0.14.13->hsfs<3.5.0,>=3.4.0->hsfs[python]<3.5.0,>=3.4.0->hopsworks==3.4.*) (21.4.0)\n",
      "Requirement already satisfied: pyrsistent!=0.17.0,!=0.17.1,!=0.17.2,>=0.14.0 in c:\\users\\user\\anaconda3\\lib\\site-packages (from jsonschema>=2.5.1->great-expectations==0.14.13->hsfs<3.5.0,>=3.4.0->hsfs[python]<3.5.0,>=3.4.0->hopsworks==3.4.*) (0.18.0)\n",
      "Requirement already satisfied: fastjsonschema in c:\\users\\user\\anaconda3\\lib\\site-packages (from nbformat>=5.0->great-expectations==0.14.13->hsfs<3.5.0,>=3.4.0->hsfs[python]<3.5.0,>=3.4.0->hopsworks==3.4.*) (2.16.2)\n",
      "Requirement already satisfied: jupyter_core in c:\\users\\user\\anaconda3\\lib\\site-packages (from nbformat>=5.0->great-expectations==0.14.13->hsfs<3.5.0,>=3.4.0->hsfs[python]<3.5.0,>=3.4.0->hopsworks==3.4.*) (4.11.1)\n",
      "Requirement already satisfied: ruamel.yaml.clib>=0.1.2 in c:\\users\\user\\anaconda3\\lib\\site-packages (from ruamel.yaml<0.17.18,>=0.16->great-expectations==0.14.13->hsfs<3.5.0,>=3.4.0->hsfs[python]<3.5.0,>=3.4.0->hopsworks==3.4.*) (0.2.6)\n",
      "Requirement already satisfied: pycparser in c:\\users\\user\\anaconda3\\lib\\site-packages (from cffi>=1.12->cryptography>=3.2->great-expectations==0.14.13->hsfs<3.5.0,>=3.4.0->hsfs[python]<3.5.0,>=3.4.0->hopsworks==3.4.*) (2.21)\n",
      "Requirement already satisfied: parso<0.9.0,>=0.8.0 in c:\\users\\user\\anaconda3\\lib\\site-packages (from jedi>=0.16->Ipython>=7.16.3->great-expectations==0.14.13->hsfs<3.5.0,>=3.4.0->hsfs[python]<3.5.0,>=3.4.0->hopsworks==3.4.*) (0.8.3)\n",
      "Requirement already satisfied: wcwidth in c:\\users\\user\\anaconda3\\lib\\site-packages (from prompt-toolkit!=3.0.0,!=3.0.1,<3.1.0,>=2.0.0->Ipython>=7.16.3->great-expectations==0.14.13->hsfs<3.5.0,>=3.4.0->hsfs[python]<3.5.0,>=3.4.0->hopsworks==3.4.*) (0.2.5)\n",
      "Requirement already satisfied: pywin32>=1.0 in c:\\users\\user\\anaconda3\\lib\\site-packages (from jupyter_core->nbformat>=5.0->great-expectations==0.14.13->hsfs<3.5.0,>=3.4.0->hsfs[python]<3.5.0,>=3.4.0->hopsworks==3.4.*) (302)\n",
      "Note: you may need to restart the kernel to use updated packages.\n"
     ]
    }
   ],
   "source": [
    "%pip install hopsworks==3.4.*"
   ]
  },
  {
   "cell_type": "code",
   "execution_count": 9,
   "metadata": {},
   "outputs": [
    {
     "name": "stdout",
     "output_type": "stream",
     "text": [
      "Requirement already satisfied: hsfs[python] in c:\\users\\user\\anaconda3\\lib\\site-packages (3.4.5)\n",
      "Requirement already satisfied: pyhumps==1.6.1 in c:\\users\\user\\anaconda3\\lib\\site-packages (from hsfs[python]) (1.6.1)\n",
      "Requirement already satisfied: requests in c:\\users\\user\\anaconda3\\lib\\site-packages (from hsfs[python]) (2.28.1)\n",
      "Requirement already satisfied: furl in c:\\users\\user\\anaconda3\\lib\\site-packages (from hsfs[python]) (2.1.3)\n",
      "Requirement already satisfied: boto3 in c:\\users\\user\\anaconda3\\lib\\site-packages (from hsfs[python]) (1.24.28)\n",
      "Requirement already satisfied: pandas<2.1.0 in c:\\users\\user\\anaconda3\\lib\\site-packages (from hsfs[python]) (1.4.4)\n",
      "Requirement already satisfied: numpy<2 in c:\\users\\user\\anaconda3\\lib\\site-packages (from hsfs[python]) (1.21.5)\n",
      "Requirement already satisfied: pyjks in c:\\users\\user\\anaconda3\\lib\\site-packages (from hsfs[python]) (20.0.0)\n",
      "Requirement already satisfied: mock in c:\\users\\user\\anaconda3\\lib\\site-packages (from hsfs[python]) (4.0.3)\n",
      "Requirement already satisfied: avro==1.11.0 in c:\\users\\user\\anaconda3\\lib\\site-packages (from hsfs[python]) (1.11.0)\n",
      "Requirement already satisfied: sqlalchemy in c:\\users\\user\\anaconda3\\lib\\site-packages (from hsfs[python]) (1.4.39)\n",
      "Requirement already satisfied: PyMySQL[rsa] in c:\\users\\user\\anaconda3\\lib\\site-packages (from hsfs[python]) (1.0.2)\n",
      "Requirement already satisfied: great-expectations==0.14.13 in c:\\users\\user\\anaconda3\\lib\\site-packages (from hsfs[python]) (0.14.13)\n",
      "Requirement already satisfied: markupsafe<2.1.0 in c:\\users\\user\\anaconda3\\lib\\site-packages (from hsfs[python]) (2.0.1)\n",
      "Requirement already satisfied: tzlocal in c:\\users\\user\\anaconda3\\lib\\site-packages (from hsfs[python]) (4.2)\n",
      "Requirement already satisfied: fsspec in c:\\users\\user\\anaconda3\\lib\\site-packages (from hsfs[python]) (2022.7.1)\n",
      "Requirement already satisfied: pyhopshive[thrift] in c:\\users\\user\\anaconda3\\lib\\site-packages (from hsfs[python]) (0.6.4.1.dev0)\n",
      "Requirement already satisfied: pyarrow>=10.0 in c:\\users\\user\\anaconda3\\lib\\site-packages (from hsfs[python]) (10.0.1)\n",
      "Requirement already satisfied: confluent-kafka<=2.1.1 in c:\\users\\user\\anaconda3\\lib\\site-packages (from hsfs[python]) (1.8.2)\n",
      "Requirement already satisfied: fastavro<=1.8.2,>=1.4.11 in c:\\users\\user\\anaconda3\\lib\\site-packages (from hsfs[python]) (1.4.11)\n",
      "Requirement already satisfied: tqdm in c:\\users\\user\\anaconda3\\lib\\site-packages (from hsfs[python]) (4.64.1)\n",
      "Requirement already satisfied: altair<5,>=4.0.0 in c:\\users\\user\\anaconda3\\lib\\site-packages (from great-expectations==0.14.13->hsfs[python]) (4.2.0)\n",
      "Requirement already satisfied: Click>=7.1.2 in c:\\users\\user\\anaconda3\\lib\\site-packages (from great-expectations==0.14.13->hsfs[python]) (8.0.4)\n",
      "Requirement already satisfied: colorama>=0.4.3 in c:\\users\\user\\anaconda3\\lib\\site-packages (from great-expectations==0.14.13->hsfs[python]) (0.4.5)\n",
      "Requirement already satisfied: cryptography>=3.2 in c:\\users\\user\\anaconda3\\lib\\site-packages (from great-expectations==0.14.13->hsfs[python]) (37.0.1)\n",
      "Requirement already satisfied: dataclasses in c:\\users\\user\\anaconda3\\lib\\site-packages (from great-expectations==0.14.13->hsfs[python]) (0.6)\n",
      "Requirement already satisfied: importlib-metadata>=1.7.0 in c:\\users\\user\\anaconda3\\lib\\site-packages (from great-expectations==0.14.13->hsfs[python]) (4.11.3)\n",
      "Requirement already satisfied: Ipython>=7.16.3 in c:\\users\\user\\anaconda3\\lib\\site-packages (from great-expectations==0.14.13->hsfs[python]) (7.31.1)\n",
      "Requirement already satisfied: jinja2<3.1.0,>=2.10 in c:\\users\\user\\anaconda3\\lib\\site-packages (from great-expectations==0.14.13->hsfs[python]) (2.11.3)\n",
      "Requirement already satisfied: jsonpatch>=1.22 in c:\\users\\user\\anaconda3\\lib\\site-packages (from great-expectations==0.14.13->hsfs[python]) (1.32)\n",
      "Requirement already satisfied: jsonschema>=2.5.1 in c:\\users\\user\\anaconda3\\lib\\site-packages (from great-expectations==0.14.13->hsfs[python]) (4.16.0)\n",
      "Requirement already satisfied: mistune>=0.8.4 in c:\\users\\user\\anaconda3\\lib\\site-packages (from great-expectations==0.14.13->hsfs[python]) (0.8.4)\n",
      "Requirement already satisfied: nbformat>=5.0 in c:\\users\\user\\anaconda3\\lib\\site-packages (from great-expectations==0.14.13->hsfs[python]) (5.5.0)\n",
      "Requirement already satisfied: packaging in c:\\users\\user\\anaconda3\\lib\\site-packages (from great-expectations==0.14.13->hsfs[python]) (21.3)\n",
      "Requirement already satisfied: pyparsing<3,>=2.4 in c:\\users\\user\\anaconda3\\lib\\site-packages (from great-expectations==0.14.13->hsfs[python]) (2.4.7)\n",
      "Requirement already satisfied: python-dateutil>=2.8.1 in c:\\users\\user\\anaconda3\\lib\\site-packages (from great-expectations==0.14.13->hsfs[python]) (2.8.2)\n",
      "Requirement already satisfied: pytz>=2021.3 in c:\\users\\user\\anaconda3\\lib\\site-packages (from great-expectations==0.14.13->hsfs[python]) (2022.1)\n",
      "Requirement already satisfied: ruamel.yaml<0.17.18,>=0.16 in c:\\users\\user\\anaconda3\\lib\\site-packages (from great-expectations==0.14.13->hsfs[python]) (0.17.17)\n",
      "Requirement already satisfied: scipy>=0.19.0 in c:\\users\\user\\anaconda3\\lib\\site-packages (from great-expectations==0.14.13->hsfs[python]) (1.9.1)\n",
      "Requirement already satisfied: termcolor>=1.1.0 in c:\\users\\user\\anaconda3\\lib\\site-packages (from great-expectations==0.14.13->hsfs[python]) (2.2.0)\n",
      "Requirement already satisfied: typing-extensions>=3.10.0.0 in c:\\users\\user\\anaconda3\\lib\\site-packages (from great-expectations==0.14.13->hsfs[python]) (4.3.0)\n",
      "Requirement already satisfied: urllib3<1.27,>=1.25.4 in c:\\users\\user\\anaconda3\\lib\\site-packages (from great-expectations==0.14.13->hsfs[python]) (1.26.11)\n",
      "Requirement already satisfied: charset-normalizer<3,>=2 in c:\\users\\user\\anaconda3\\lib\\site-packages (from requests->hsfs[python]) (2.0.4)\n",
      "Requirement already satisfied: idna<4,>=2.5 in c:\\users\\user\\anaconda3\\lib\\site-packages (from requests->hsfs[python]) (3.3)\n",
      "Requirement already satisfied: certifi>=2017.4.17 in c:\\users\\user\\anaconda3\\lib\\site-packages (from requests->hsfs[python]) (2022.9.14)\n",
      "Requirement already satisfied: pytz-deprecation-shim in c:\\users\\user\\anaconda3\\lib\\site-packages (from tzlocal->hsfs[python]) (0.1.0.post0)\n",
      "Requirement already satisfied: tzdata in c:\\users\\user\\anaconda3\\lib\\site-packages (from tzlocal->hsfs[python]) (2022.7)\n",
      "Requirement already satisfied: botocore<1.28.0,>=1.27.28 in c:\\users\\user\\anaconda3\\lib\\site-packages (from boto3->hsfs[python]) (1.27.28)\n",
      "Requirement already satisfied: jmespath<2.0.0,>=0.7.1 in c:\\users\\user\\anaconda3\\lib\\site-packages (from boto3->hsfs[python]) (0.10.0)\n",
      "Requirement already satisfied: s3transfer<0.7.0,>=0.6.0 in c:\\users\\user\\anaconda3\\lib\\site-packages (from boto3->hsfs[python]) (0.6.0)\n",
      "Requirement already satisfied: six>=1.8.0 in c:\\users\\user\\anaconda3\\lib\\site-packages (from furl->hsfs[python]) (1.16.0)\n",
      "Requirement already satisfied: orderedmultidict>=1.0.1 in c:\\users\\user\\anaconda3\\lib\\site-packages (from furl->hsfs[python]) (1.0.1)\n",
      "Requirement already satisfied: future in c:\\users\\user\\anaconda3\\lib\\site-packages (from pyhopshive[thrift]; extra == \"python\"->hsfs[python]) (0.18.2)\n",
      "Requirement already satisfied: thrift>=0.10.0 in c:\\users\\user\\anaconda3\\lib\\site-packages (from pyhopshive[thrift]; extra == \"python\"->hsfs[python]) (0.16.0)\n",
      "Requirement already satisfied: javaobj-py3 in c:\\users\\user\\anaconda3\\lib\\site-packages (from pyjks->hsfs[python]) (0.4.3)\n",
      "Requirement already satisfied: pyasn1>=0.3.5 in c:\\users\\user\\anaconda3\\lib\\site-packages (from pyjks->hsfs[python]) (0.4.8)\n",
      "Requirement already satisfied: pyasn1-modules in c:\\users\\user\\anaconda3\\lib\\site-packages (from pyjks->hsfs[python]) (0.2.8)\n",
      "Requirement already satisfied: pycryptodomex in c:\\users\\user\\anaconda3\\lib\\site-packages (from pyjks->hsfs[python]) (3.16.0)\n",
      "Requirement already satisfied: twofish in c:\\users\\user\\anaconda3\\lib\\site-packages (from pyjks->hsfs[python]) (0.3.0)\n",
      "Requirement already satisfied: greenlet!=0.4.17 in c:\\users\\user\\anaconda3\\lib\\site-packages (from sqlalchemy->hsfs[python]) (1.1.1)\n",
      "Requirement already satisfied: entrypoints in c:\\users\\user\\anaconda3\\lib\\site-packages (from altair<5,>=4.0.0->great-expectations==0.14.13->hsfs[python]) (0.4)\n",
      "Requirement already satisfied: toolz in c:\\users\\user\\anaconda3\\lib\\site-packages (from altair<5,>=4.0.0->great-expectations==0.14.13->hsfs[python]) (0.11.2)\n",
      "Requirement already satisfied: cffi>=1.12 in c:\\users\\user\\anaconda3\\lib\\site-packages (from cryptography>=3.2->great-expectations==0.14.13->hsfs[python]) (1.15.1)\n",
      "Requirement already satisfied: zipp>=0.5 in c:\\users\\user\\anaconda3\\lib\\site-packages (from importlib-metadata>=1.7.0->great-expectations==0.14.13->hsfs[python]) (3.8.0)\n",
      "Requirement already satisfied: setuptools>=18.5 in c:\\users\\user\\anaconda3\\lib\\site-packages (from Ipython>=7.16.3->great-expectations==0.14.13->hsfs[python]) (63.4.1)\n",
      "Requirement already satisfied: jedi>=0.16 in c:\\users\\user\\anaconda3\\lib\\site-packages (from Ipython>=7.16.3->great-expectations==0.14.13->hsfs[python]) (0.18.1)\n",
      "Requirement already satisfied: decorator in c:\\users\\user\\anaconda3\\lib\\site-packages (from Ipython>=7.16.3->great-expectations==0.14.13->hsfs[python]) (5.1.1)\n",
      "Requirement already satisfied: pickleshare in c:\\users\\user\\anaconda3\\lib\\site-packages (from Ipython>=7.16.3->great-expectations==0.14.13->hsfs[python]) (0.7.5)\n",
      "Requirement already satisfied: traitlets>=4.2 in c:\\users\\user\\anaconda3\\lib\\site-packages (from Ipython>=7.16.3->great-expectations==0.14.13->hsfs[python]) (5.1.1)\n",
      "Requirement already satisfied: prompt-toolkit!=3.0.0,!=3.0.1,<3.1.0,>=2.0.0 in c:\\users\\user\\anaconda3\\lib\\site-packages (from Ipython>=7.16.3->great-expectations==0.14.13->hsfs[python]) (3.0.20)\n",
      "Requirement already satisfied: pygments in c:\\users\\user\\anaconda3\\lib\\site-packages (from Ipython>=7.16.3->great-expectations==0.14.13->hsfs[python]) (2.11.2)\n",
      "Requirement already satisfied: backcall in c:\\users\\user\\anaconda3\\lib\\site-packages (from Ipython>=7.16.3->great-expectations==0.14.13->hsfs[python]) (0.2.0)\n",
      "Requirement already satisfied: matplotlib-inline in c:\\users\\user\\anaconda3\\lib\\site-packages (from Ipython>=7.16.3->great-expectations==0.14.13->hsfs[python]) (0.1.6)\n",
      "Requirement already satisfied: jsonpointer>=1.9 in c:\\users\\user\\anaconda3\\lib\\site-packages (from jsonpatch>=1.22->great-expectations==0.14.13->hsfs[python]) (2.3)\n",
      "Requirement already satisfied: attrs>=17.4.0 in c:\\users\\user\\anaconda3\\lib\\site-packages (from jsonschema>=2.5.1->great-expectations==0.14.13->hsfs[python]) (21.4.0)\n",
      "Requirement already satisfied: pyrsistent!=0.17.0,!=0.17.1,!=0.17.2,>=0.14.0 in c:\\users\\user\\anaconda3\\lib\\site-packages (from jsonschema>=2.5.1->great-expectations==0.14.13->hsfs[python]) (0.18.0)\n",
      "Requirement already satisfied: fastjsonschema in c:\\users\\user\\anaconda3\\lib\\site-packages (from nbformat>=5.0->great-expectations==0.14.13->hsfs[python]) (2.16.2)\n",
      "Requirement already satisfied: jupyter_core in c:\\users\\user\\anaconda3\\lib\\site-packages (from nbformat>=5.0->great-expectations==0.14.13->hsfs[python]) (4.11.1)\n",
      "Requirement already satisfied: ruamel.yaml.clib>=0.1.2 in c:\\users\\user\\anaconda3\\lib\\site-packages (from ruamel.yaml<0.17.18,>=0.16->great-expectations==0.14.13->hsfs[python]) (0.2.6)\n",
      "Requirement already satisfied: pycparser in c:\\users\\user\\anaconda3\\lib\\site-packages (from cffi>=1.12->cryptography>=3.2->great-expectations==0.14.13->hsfs[python]) (2.21)\n",
      "Requirement already satisfied: parso<0.9.0,>=0.8.0 in c:\\users\\user\\anaconda3\\lib\\site-packages (from jedi>=0.16->Ipython>=7.16.3->great-expectations==0.14.13->hsfs[python]) (0.8.3)\n",
      "Requirement already satisfied: wcwidth in c:\\users\\user\\anaconda3\\lib\\site-packages (from prompt-toolkit!=3.0.0,!=3.0.1,<3.1.0,>=2.0.0->Ipython>=7.16.3->great-expectations==0.14.13->hsfs[python]) (0.2.5)\n",
      "Requirement already satisfied: pywin32>=1.0 in c:\\users\\user\\anaconda3\\lib\\site-packages (from jupyter_core->nbformat>=5.0->great-expectations==0.14.13->hsfs[python]) (302)\n",
      "Note: you may need to restart the kernel to use updated packages.\n"
     ]
    }
   ],
   "source": [
    "%pip install hsfs[python] "
   ]
  },
  {
   "cell_type": "markdown",
   "metadata": {},
   "source": [
    "Connecting to feature store"
   ]
  },
  {
   "cell_type": "code",
   "execution_count": 12,
   "metadata": {},
   "outputs": [
    {
     "data": {
      "text/plain": [
       "'\\nimport hopsworks\\n\\n# connect to the project\\nimport hsfs\\nconn = hsfs.connection()\\nfeature_store = conn.get_feature_store()\\n\\nproject = hopsworks.login(\\n    project=config.HOPSWORKS_PROJECT_NAME,\\n    api_key_value=config.HOPSWORKS_API_KEY\\n)\\n\\n# connect to the feature store\\nfeature_store = project.get_feature_store()\\n\\n# connect to the feature group\\nfeature_group = feature_store.get_or_create_feature_group(\\n    name=config.FEATURE_GROUP_NAME,\\n    version=config.FEATURE_GROUP_VERSION,\\n    description=\"Time-series data at hourly frequency\",\\n    primary_key = [\\'pickup_location_id\\', \\'pickup_hour\\'],\\n    event_time=\\'pickup_hour\\',\\n)\\n'"
      ]
     },
     "execution_count": 12,
     "metadata": {},
     "output_type": "execute_result"
    }
   ],
   "source": [
    "\"\"\"\n",
    "import hopsworks\n",
    "\n",
    "# connect to the project\n",
    "import hsfs\n",
    "conn = hsfs.connection()\n",
    "feature_store = conn.get_feature_store()\n",
    "\n",
    "project = hopsworks.login(\n",
    "    project=config.HOPSWORKS_PROJECT_NAME,\n",
    "    api_key_value=config.HOPSWORKS_API_KEY\n",
    ")\n",
    "\n",
    "# connect to the feature store\n",
    "feature_store = project.get_feature_store()\n",
    "\n",
    "# connect to the feature group\n",
    "feature_group = feature_store.get_or_create_feature_group(\n",
    "    name=config.FEATURE_GROUP_NAME,\n",
    "    version=config.FEATURE_GROUP_VERSION,\n",
    "    description=\"Time-series data at hourly frequency\",\n",
    "    primary_key = ['pickup_location_id', 'pickup_hour'],\n",
    "    event_time='pickup_hour',\n",
    ")\n",
    "\"\"\""
   ]
  },
  {
   "cell_type": "markdown",
   "metadata": {},
   "source": [
    "Inserting data into feature group"
   ]
  },
  {
   "cell_type": "code",
   "execution_count": 13,
   "metadata": {},
   "outputs": [
    {
     "data": {
      "text/plain": [
       "'\\nfeature_group.insert(ts_data, write_options={\"wait_for_job\": True})\\n'"
      ]
     },
     "execution_count": 13,
     "metadata": {},
     "output_type": "execute_result"
    }
   ],
   "source": [
    "\"\"\"\n",
    "feature_group.insert(ts_data, write_options={\"wait_for_job\": True})\n",
    "\"\"\""
   ]
  },
  {
   "cell_type": "code",
   "execution_count": null,
   "metadata": {},
   "outputs": [],
   "source": []
  }
 ],
 "metadata": {
  "kernelspec": {
   "display_name": "Python 3 (ipykernel)",
   "language": "python",
   "name": "python3"
  },
  "language_info": {
   "codemirror_mode": {
    "name": "ipython",
    "version": 3
   },
   "file_extension": ".py",
   "mimetype": "text/x-python",
   "name": "python",
   "nbconvert_exporter": "python",
   "pygments_lexer": "ipython3",
   "version": "3.9.13"
  },
  "vscode": {
   "interpreter": {
    "hash": "b98d97558a062384a76b0309256306c9ce5dd4e2074fe66c33532239207fc923"
   }
  }
 },
 "nbformat": 4,
 "nbformat_minor": 4
}
